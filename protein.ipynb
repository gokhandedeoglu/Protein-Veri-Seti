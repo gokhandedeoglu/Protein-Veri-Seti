{
 "cells": [
  {
   "cell_type": "markdown",
   "metadata": {},
   "source": [
    "# Protein Veri Seti"
   ]
  },
  {
   "cell_type": "markdown",
   "metadata": {},
   "source": [
    "## 1) Verinin Keşfi (EDA)"
   ]
  },
  {
   "cell_type": "code",
   "execution_count": 16,
   "metadata": {},
   "outputs": [],
   "source": [
    "import pandas as pd\n",
    "import numpy as np\n",
    "import seaborn as sns"
   ]
  },
  {
   "cell_type": "code",
   "execution_count": 3,
   "metadata": {},
   "outputs": [],
   "source": [
    "protein = pd.read_csv(\"pdb_data_no_dups.csv\")"
   ]
  },
  {
   "cell_type": "markdown",
   "metadata": {},
   "source": [
    "* **Veri seti Proteinlerin yapısal dizinleri ile alakalidir.**\n",
    "\n",
    "* **Veriler Protein Data Bank alinmistir.**\n",
    "\n",
    "* **Yapisal biyologlar atomlarin molekuldeki yerlerini belirlemek icin \"X-ray crystallography, NMR spectroscopy, and cryo-electron microscopy\" bu uc yontemi kullanmistir ki bu yontemler bizim  degiskenlerimizin icerisinde barinmaktadir.**"
   ]
  },
  {
   "cell_type": "markdown",
   "metadata": {},
   "source": [
    "* **structureId:** Yapisal ID.\n",
    "* **classification:** Belirtilen kumeler, siniflar .\n",
    "* **experimentalTechnique:** Arastirmada kullanilan teknikler, yontemler.\n",
    "* **macromolecule Type:** Makromolekül Tipi. \n",
    "* **residueCount:** Tortu Sayisi.\n",
    "* **resolution:** Bir bileşiğin, kendisini oluşturan unsurlara ayrılması; erime; çözünme; ayrışma.\n",
    "* **structureMolecularWeight:** Yapinin molekul agirligidir.\n",
    "* **crystallizationMethod:** Kristallestirme icin kullanilan metod. \n",
    "* **crystallizationTempK:** Kristallestirme sicakligi Kelvin cinsinden.\n",
    "* **densityMatthews:** Kristale ait yogunluk.\n",
    "* **densityPercentSol:** Yogunluk yuzdesi.\n",
    "* **pdbxDetails:** pH degerine ait detaylar.\n",
    "* **phValue:** pH degeri \n",
    "* **publicationYear:** Verinin yayinlanma yili."
   ]
  },
  {
   "cell_type": "code",
   "execution_count": 4,
   "metadata": {},
   "outputs": [
    {
     "data": {
      "text/html": [
       "<div>\n",
       "<style scoped>\n",
       "    .dataframe tbody tr th:only-of-type {\n",
       "        vertical-align: middle;\n",
       "    }\n",
       "\n",
       "    .dataframe tbody tr th {\n",
       "        vertical-align: top;\n",
       "    }\n",
       "\n",
       "    .dataframe thead th {\n",
       "        text-align: right;\n",
       "    }\n",
       "</style>\n",
       "<table border=\"1\" class=\"dataframe\">\n",
       "  <thead>\n",
       "    <tr style=\"text-align: right;\">\n",
       "      <th></th>\n",
       "      <th>structureId</th>\n",
       "      <th>classification</th>\n",
       "      <th>experimentalTechnique</th>\n",
       "      <th>macromoleculeType</th>\n",
       "      <th>residueCount</th>\n",
       "      <th>resolution</th>\n",
       "      <th>structureMolecularWeight</th>\n",
       "      <th>crystallizationMethod</th>\n",
       "      <th>crystallizationTempK</th>\n",
       "      <th>densityMatthews</th>\n",
       "      <th>densityPercentSol</th>\n",
       "      <th>pdbxDetails</th>\n",
       "      <th>phValue</th>\n",
       "      <th>publicationYear</th>\n",
       "    </tr>\n",
       "  </thead>\n",
       "  <tbody>\n",
       "    <tr>\n",
       "      <td>0</td>\n",
       "      <td>100D</td>\n",
       "      <td>DNA-RNA HYBRID</td>\n",
       "      <td>X-RAY DIFFRACTION</td>\n",
       "      <td>DNA/RNA Hybrid</td>\n",
       "      <td>20</td>\n",
       "      <td>1.90</td>\n",
       "      <td>6360.30</td>\n",
       "      <td>VAPOR DIFFUSION, HANGING DROP</td>\n",
       "      <td>NaN</td>\n",
       "      <td>1.78</td>\n",
       "      <td>30.89</td>\n",
       "      <td>pH 7.00, VAPOR DIFFUSION, HANGING DROP</td>\n",
       "      <td>7.0</td>\n",
       "      <td>1994.0</td>\n",
       "    </tr>\n",
       "    <tr>\n",
       "      <td>1</td>\n",
       "      <td>101D</td>\n",
       "      <td>DNA</td>\n",
       "      <td>X-RAY DIFFRACTION</td>\n",
       "      <td>DNA</td>\n",
       "      <td>24</td>\n",
       "      <td>2.25</td>\n",
       "      <td>7939.35</td>\n",
       "      <td>NaN</td>\n",
       "      <td>NaN</td>\n",
       "      <td>2.00</td>\n",
       "      <td>38.45</td>\n",
       "      <td>NaN</td>\n",
       "      <td>NaN</td>\n",
       "      <td>1995.0</td>\n",
       "    </tr>\n",
       "    <tr>\n",
       "      <td>2</td>\n",
       "      <td>101M</td>\n",
       "      <td>OXYGEN TRANSPORT</td>\n",
       "      <td>X-RAY DIFFRACTION</td>\n",
       "      <td>Protein</td>\n",
       "      <td>154</td>\n",
       "      <td>2.07</td>\n",
       "      <td>18112.80</td>\n",
       "      <td>NaN</td>\n",
       "      <td>NaN</td>\n",
       "      <td>3.09</td>\n",
       "      <td>60.20</td>\n",
       "      <td>3.0 M AMMONIUM SULFATE, 20 MM TRIS, 1MM EDTA, ...</td>\n",
       "      <td>9.0</td>\n",
       "      <td>1999.0</td>\n",
       "    </tr>\n",
       "    <tr>\n",
       "      <td>3</td>\n",
       "      <td>102D</td>\n",
       "      <td>DNA</td>\n",
       "      <td>X-RAY DIFFRACTION</td>\n",
       "      <td>DNA</td>\n",
       "      <td>24</td>\n",
       "      <td>2.20</td>\n",
       "      <td>7637.17</td>\n",
       "      <td>VAPOR DIFFUSION, SITTING DROP</td>\n",
       "      <td>277.0</td>\n",
       "      <td>2.28</td>\n",
       "      <td>46.06</td>\n",
       "      <td>pH 7.00, VAPOR DIFFUSION, SITTING DROP, temper...</td>\n",
       "      <td>7.0</td>\n",
       "      <td>1995.0</td>\n",
       "    </tr>\n",
       "    <tr>\n",
       "      <td>4</td>\n",
       "      <td>102L</td>\n",
       "      <td>HYDROLASE(O-GLYCOSYL)</td>\n",
       "      <td>X-RAY DIFFRACTION</td>\n",
       "      <td>Protein</td>\n",
       "      <td>165</td>\n",
       "      <td>1.74</td>\n",
       "      <td>18926.61</td>\n",
       "      <td>NaN</td>\n",
       "      <td>NaN</td>\n",
       "      <td>2.75</td>\n",
       "      <td>55.28</td>\n",
       "      <td>NaN</td>\n",
       "      <td>NaN</td>\n",
       "      <td>1993.0</td>\n",
       "    </tr>\n",
       "  </tbody>\n",
       "</table>\n",
       "</div>"
      ],
      "text/plain": [
       "  structureId         classification experimentalTechnique macromoleculeType  \\\n",
       "0        100D         DNA-RNA HYBRID     X-RAY DIFFRACTION    DNA/RNA Hybrid   \n",
       "1        101D                    DNA     X-RAY DIFFRACTION               DNA   \n",
       "2        101M       OXYGEN TRANSPORT     X-RAY DIFFRACTION           Protein   \n",
       "3        102D                    DNA     X-RAY DIFFRACTION               DNA   \n",
       "4        102L  HYDROLASE(O-GLYCOSYL)     X-RAY DIFFRACTION           Protein   \n",
       "\n",
       "   residueCount  resolution  structureMolecularWeight  \\\n",
       "0            20        1.90                   6360.30   \n",
       "1            24        2.25                   7939.35   \n",
       "2           154        2.07                  18112.80   \n",
       "3            24        2.20                   7637.17   \n",
       "4           165        1.74                  18926.61   \n",
       "\n",
       "           crystallizationMethod  crystallizationTempK  densityMatthews  \\\n",
       "0  VAPOR DIFFUSION, HANGING DROP                   NaN             1.78   \n",
       "1                            NaN                   NaN             2.00   \n",
       "2                            NaN                   NaN             3.09   \n",
       "3  VAPOR DIFFUSION, SITTING DROP                 277.0             2.28   \n",
       "4                            NaN                   NaN             2.75   \n",
       "\n",
       "   densityPercentSol                                        pdbxDetails  \\\n",
       "0              30.89             pH 7.00, VAPOR DIFFUSION, HANGING DROP   \n",
       "1              38.45                                                NaN   \n",
       "2              60.20  3.0 M AMMONIUM SULFATE, 20 MM TRIS, 1MM EDTA, ...   \n",
       "3              46.06  pH 7.00, VAPOR DIFFUSION, SITTING DROP, temper...   \n",
       "4              55.28                                                NaN   \n",
       "\n",
       "   phValue  publicationYear  \n",
       "0      7.0           1994.0  \n",
       "1      NaN           1995.0  \n",
       "2      9.0           1999.0  \n",
       "3      7.0           1995.0  \n",
       "4      NaN           1993.0  "
      ]
     },
     "execution_count": 4,
     "metadata": {},
     "output_type": "execute_result"
    }
   ],
   "source": [
    "df = protein.copy()\n",
    "df.head()"
   ]
  },
  {
   "cell_type": "code",
   "execution_count": 5,
   "metadata": {},
   "outputs": [
    {
     "name": "stdout",
     "output_type": "stream",
     "text": [
      "<class 'pandas.core.frame.DataFrame'>\n",
      "RangeIndex: 141401 entries, 0 to 141400\n",
      "Data columns (total 14 columns):\n",
      "structureId                 141401 non-null object\n",
      "classification              141399 non-null object\n",
      "experimentalTechnique       141401 non-null object\n",
      "macromoleculeType           137636 non-null object\n",
      "residueCount                141401 non-null int64\n",
      "resolution                  128589 non-null float64\n",
      "structureMolecularWeight    141401 non-null float64\n",
      "crystallizationMethod       96242 non-null object\n",
      "crystallizationTempK        97039 non-null float64\n",
      "densityMatthews             124724 non-null float64\n",
      "densityPercentSol           124749 non-null float64\n",
      "pdbxDetails                 118534 non-null object\n",
      "phValue                     105110 non-null float64\n",
      "publicationYear             117602 non-null float64\n",
      "dtypes: float64(7), int64(1), object(6)\n",
      "memory usage: 15.1+ MB\n"
     ]
    }
   ],
   "source": [
    "df.info()"
   ]
  },
  {
   "cell_type": "code",
   "execution_count": 6,
   "metadata": {},
   "outputs": [
    {
     "data": {
      "text/plain": [
       "structureId                  object\n",
       "classification               object\n",
       "experimentalTechnique        object\n",
       "macromoleculeType            object\n",
       "residueCount                  int64\n",
       "resolution                  float64\n",
       "structureMolecularWeight    float64\n",
       "crystallizationMethod        object\n",
       "crystallizationTempK        float64\n",
       "densityMatthews             float64\n",
       "densityPercentSol           float64\n",
       "pdbxDetails                  object\n",
       "phValue                     float64\n",
       "publicationYear             float64\n",
       "dtype: object"
      ]
     },
     "execution_count": 6,
     "metadata": {},
     "output_type": "execute_result"
    }
   ],
   "source": [
    "df.dtypes"
   ]
  },
  {
   "cell_type": "code",
   "execution_count": 7,
   "metadata": {},
   "outputs": [
    {
     "data": {
      "text/plain": [
       "structureId                     0\n",
       "classification                  2\n",
       "experimentalTechnique           0\n",
       "macromoleculeType            3765\n",
       "residueCount                    0\n",
       "resolution                  12812\n",
       "structureMolecularWeight        0\n",
       "crystallizationMethod       45159\n",
       "crystallizationTempK        44362\n",
       "densityMatthews             16677\n",
       "densityPercentSol           16652\n",
       "pdbxDetails                 22867\n",
       "phValue                     36291\n",
       "publicationYear             23799\n",
       "dtype: int64"
      ]
     },
     "execution_count": 7,
     "metadata": {},
     "output_type": "execute_result"
    }
   ],
   "source": [
    "df.isnull().sum()"
   ]
  },
  {
   "cell_type": "code",
   "execution_count": 8,
   "metadata": {},
   "outputs": [
    {
     "data": {
      "text/plain": [
       "Index(['structureId', 'classification', 'experimentalTechnique',\n",
       "       'macromoleculeType', 'residueCount', 'resolution',\n",
       "       'structureMolecularWeight', 'crystallizationMethod',\n",
       "       'crystallizationTempK', 'densityMatthews', 'densityPercentSol',\n",
       "       'pdbxDetails', 'phValue', 'publicationYear'],\n",
       "      dtype='object')"
      ]
     },
     "execution_count": 8,
     "metadata": {},
     "output_type": "execute_result"
    }
   ],
   "source": [
    "df.columns"
   ]
  },
  {
   "cell_type": "markdown",
   "metadata": {},
   "source": [
    "### 1.1) Kategorik Değişkenler"
   ]
  },
  {
   "cell_type": "code",
   "execution_count": 9,
   "metadata": {},
   "outputs": [
    {
     "data": {
      "text/html": [
       "<div>\n",
       "<style scoped>\n",
       "    .dataframe tbody tr th:only-of-type {\n",
       "        vertical-align: middle;\n",
       "    }\n",
       "\n",
       "    .dataframe tbody tr th {\n",
       "        vertical-align: top;\n",
       "    }\n",
       "\n",
       "    .dataframe thead th {\n",
       "        text-align: right;\n",
       "    }\n",
       "</style>\n",
       "<table border=\"1\" class=\"dataframe\">\n",
       "  <thead>\n",
       "    <tr style=\"text-align: right;\">\n",
       "      <th></th>\n",
       "      <th>structureId</th>\n",
       "      <th>classification</th>\n",
       "      <th>experimentalTechnique</th>\n",
       "      <th>macromoleculeType</th>\n",
       "      <th>crystallizationMethod</th>\n",
       "      <th>pdbxDetails</th>\n",
       "    </tr>\n",
       "  </thead>\n",
       "  <tbody>\n",
       "    <tr>\n",
       "      <td>0</td>\n",
       "      <td>100D</td>\n",
       "      <td>DNA-RNA HYBRID</td>\n",
       "      <td>X-RAY DIFFRACTION</td>\n",
       "      <td>DNA/RNA Hybrid</td>\n",
       "      <td>VAPOR DIFFUSION, HANGING DROP</td>\n",
       "      <td>pH 7.00, VAPOR DIFFUSION, HANGING DROP</td>\n",
       "    </tr>\n",
       "    <tr>\n",
       "      <td>1</td>\n",
       "      <td>101D</td>\n",
       "      <td>DNA</td>\n",
       "      <td>X-RAY DIFFRACTION</td>\n",
       "      <td>DNA</td>\n",
       "      <td>NaN</td>\n",
       "      <td>NaN</td>\n",
       "    </tr>\n",
       "    <tr>\n",
       "      <td>2</td>\n",
       "      <td>101M</td>\n",
       "      <td>OXYGEN TRANSPORT</td>\n",
       "      <td>X-RAY DIFFRACTION</td>\n",
       "      <td>Protein</td>\n",
       "      <td>NaN</td>\n",
       "      <td>3.0 M AMMONIUM SULFATE, 20 MM TRIS, 1MM EDTA, ...</td>\n",
       "    </tr>\n",
       "    <tr>\n",
       "      <td>3</td>\n",
       "      <td>102D</td>\n",
       "      <td>DNA</td>\n",
       "      <td>X-RAY DIFFRACTION</td>\n",
       "      <td>DNA</td>\n",
       "      <td>VAPOR DIFFUSION, SITTING DROP</td>\n",
       "      <td>pH 7.00, VAPOR DIFFUSION, SITTING DROP, temper...</td>\n",
       "    </tr>\n",
       "    <tr>\n",
       "      <td>4</td>\n",
       "      <td>102L</td>\n",
       "      <td>HYDROLASE(O-GLYCOSYL)</td>\n",
       "      <td>X-RAY DIFFRACTION</td>\n",
       "      <td>Protein</td>\n",
       "      <td>NaN</td>\n",
       "      <td>NaN</td>\n",
       "    </tr>\n",
       "    <tr>\n",
       "      <td>...</td>\n",
       "      <td>...</td>\n",
       "      <td>...</td>\n",
       "      <td>...</td>\n",
       "      <td>...</td>\n",
       "      <td>...</td>\n",
       "      <td>...</td>\n",
       "    </tr>\n",
       "    <tr>\n",
       "      <td>141396</td>\n",
       "      <td>9RUB</td>\n",
       "      <td>LYASE(CARBON-CARBON)</td>\n",
       "      <td>X-RAY DIFFRACTION</td>\n",
       "      <td>Protein</td>\n",
       "      <td>NaN</td>\n",
       "      <td>NaN</td>\n",
       "    </tr>\n",
       "    <tr>\n",
       "      <td>141397</td>\n",
       "      <td>9TNA</td>\n",
       "      <td>T-RNA</td>\n",
       "      <td>X-RAY DIFFRACTION</td>\n",
       "      <td>NaN</td>\n",
       "      <td>NaN</td>\n",
       "      <td>NaN</td>\n",
       "    </tr>\n",
       "    <tr>\n",
       "      <td>141398</td>\n",
       "      <td>9WGA</td>\n",
       "      <td>LECTIN (AGGLUTININ)</td>\n",
       "      <td>X-RAY DIFFRACTION</td>\n",
       "      <td>Protein</td>\n",
       "      <td>NaN</td>\n",
       "      <td>NaN</td>\n",
       "    </tr>\n",
       "    <tr>\n",
       "      <td>141399</td>\n",
       "      <td>9XIA</td>\n",
       "      <td>ISOMERASE(INTRAMOLECULAR OXIDOREDUCTASE)</td>\n",
       "      <td>X-RAY DIFFRACTION</td>\n",
       "      <td>Protein</td>\n",
       "      <td>NaN</td>\n",
       "      <td>NaN</td>\n",
       "    </tr>\n",
       "    <tr>\n",
       "      <td>141400</td>\n",
       "      <td>9XIM</td>\n",
       "      <td>ISOMERASE(INTRAMOLECULAR OXIDOREDUCTASE)</td>\n",
       "      <td>X-RAY DIFFRACTION</td>\n",
       "      <td>Protein</td>\n",
       "      <td>NaN</td>\n",
       "      <td>NaN</td>\n",
       "    </tr>\n",
       "  </tbody>\n",
       "</table>\n",
       "<p>141401 rows × 6 columns</p>\n",
       "</div>"
      ],
      "text/plain": [
       "       structureId                            classification  \\\n",
       "0             100D                            DNA-RNA HYBRID   \n",
       "1             101D                                       DNA   \n",
       "2             101M                          OXYGEN TRANSPORT   \n",
       "3             102D                                       DNA   \n",
       "4             102L                     HYDROLASE(O-GLYCOSYL)   \n",
       "...            ...                                       ...   \n",
       "141396        9RUB                      LYASE(CARBON-CARBON)   \n",
       "141397        9TNA                                     T-RNA   \n",
       "141398        9WGA                       LECTIN (AGGLUTININ)   \n",
       "141399        9XIA  ISOMERASE(INTRAMOLECULAR OXIDOREDUCTASE)   \n",
       "141400        9XIM  ISOMERASE(INTRAMOLECULAR OXIDOREDUCTASE)   \n",
       "\n",
       "       experimentalTechnique macromoleculeType          crystallizationMethod  \\\n",
       "0          X-RAY DIFFRACTION    DNA/RNA Hybrid  VAPOR DIFFUSION, HANGING DROP   \n",
       "1          X-RAY DIFFRACTION               DNA                            NaN   \n",
       "2          X-RAY DIFFRACTION           Protein                            NaN   \n",
       "3          X-RAY DIFFRACTION               DNA  VAPOR DIFFUSION, SITTING DROP   \n",
       "4          X-RAY DIFFRACTION           Protein                            NaN   \n",
       "...                      ...               ...                            ...   \n",
       "141396     X-RAY DIFFRACTION           Protein                            NaN   \n",
       "141397     X-RAY DIFFRACTION               NaN                            NaN   \n",
       "141398     X-RAY DIFFRACTION           Protein                            NaN   \n",
       "141399     X-RAY DIFFRACTION           Protein                            NaN   \n",
       "141400     X-RAY DIFFRACTION           Protein                            NaN   \n",
       "\n",
       "                                              pdbxDetails  \n",
       "0                  pH 7.00, VAPOR DIFFUSION, HANGING DROP  \n",
       "1                                                     NaN  \n",
       "2       3.0 M AMMONIUM SULFATE, 20 MM TRIS, 1MM EDTA, ...  \n",
       "3       pH 7.00, VAPOR DIFFUSION, SITTING DROP, temper...  \n",
       "4                                                     NaN  \n",
       "...                                                   ...  \n",
       "141396                                                NaN  \n",
       "141397                                                NaN  \n",
       "141398                                                NaN  \n",
       "141399                                                NaN  \n",
       "141400                                                NaN  \n",
       "\n",
       "[141401 rows x 6 columns]"
      ]
     },
     "execution_count": 9,
     "metadata": {},
     "output_type": "execute_result"
    }
   ],
   "source": [
    "dfkat = df.select_dtypes(include = [\"object\"])\n",
    "dfkat"
   ]
  },
  {
   "cell_type": "code",
   "execution_count": 10,
   "metadata": {},
   "outputs": [
    {
     "data": {
      "text/plain": [
       "Index(['structureId', 'classification', 'experimentalTechnique',\n",
       "       'macromoleculeType', 'crystallizationMethod', 'pdbxDetails'],\n",
       "      dtype='object')"
      ]
     },
     "execution_count": 10,
     "metadata": {},
     "output_type": "execute_result"
    }
   ],
   "source": [
    "dfkat.columns"
   ]
  },
  {
   "cell_type": "code",
   "execution_count": 11,
   "metadata": {},
   "outputs": [
    {
     "data": {
      "text/plain": [
       "3NO0    4\n",
       "1UJQ    4\n",
       "2FYM    4\n",
       "1Q8I    3\n",
       "1NM8    3\n",
       "       ..\n",
       "3UO5    1\n",
       "3OH4    1\n",
       "5UCF    1\n",
       "4DY9    1\n",
       "2Q29    1\n",
       "Name: structureId, Length: 140911, dtype: int64"
      ]
     },
     "execution_count": 11,
     "metadata": {},
     "output_type": "execute_result"
    }
   ],
   "source": [
    "dfkat[\"structureId\"].value_counts()"
   ]
  },
  {
   "cell_type": "code",
   "execution_count": 19,
   "metadata": {},
   "outputs": [
    {
     "data": {
      "text/plain": [
       "HYDROLASE                                  20915\n",
       "TRANSFERASE                                15777\n",
       "OXIDOREDUCTASE                             12494\n",
       "LYASE                                       4329\n",
       "IMMUNE SYSTEM                               4075\n",
       "                                           ...  \n",
       "splicing/DNA/RNA                               1\n",
       "ANTIMICROBIAL PROTEIN, MEMBRANE PROTEIN        1\n",
       "SIGNALLING PROTEIN/KINASE                      1\n",
       "HORMONE(MUSCLE RELAXANT)                       1\n",
       "Hydrolase/calcium binding protein              1\n",
       "Name: classification, Length: 5050, dtype: int64"
      ]
     },
     "execution_count": 19,
     "metadata": {},
     "output_type": "execute_result"
    }
   ],
   "source": [
    "dfkat[\"classification\"].value_counts()"
   ]
  },
  {
   "cell_type": "code",
   "execution_count": 14,
   "metadata": {
    "collapsed": true,
    "jupyter": {
     "outputs_hidden": true
    }
   },
   "outputs": [
    {
     "data": {
      "text/plain": [
       "X-RAY DIFFRACTION                                            126432\n",
       "SOLUTION NMR                                                  12268\n",
       "ELECTRON MICROSCOPY                                            2252\n",
       "SOLID-STATE NMR                                                  99\n",
       "ELECTRON CRYSTALLOGRAPHY                                         74\n",
       "NEUTRON DIFFRACTION                                              60\n",
       "FIBER DIFFRACTION                                                40\n",
       "NEUTRON DIFFRACTION, X-RAY DIFFRACTION                           38\n",
       "X-RAY DIFFRACTION, NEUTRON DIFFRACTION                           33\n",
       "SOLUTION SCATTERING                                              32\n",
       "POWDER DIFFRACTION                                               19\n",
       "SOLUTION SCATTERING, SOLUTION NMR                                 9\n",
       "SOLUTION NMR, SOLUTION SCATTERING                                 6\n",
       "SOLID-STATE NMR, ELECTRON MICROSCOPY                              5\n",
       "SOLUTION NMR, THEORETICAL MODEL                                   5\n",
       "X-RAY DIFFRACTION, EPR                                            5\n",
       "INFRARED SPECTROSCOPY                                             4\n",
       "SOLID-STATE NMR, SOLUTION NMR                                     3\n",
       "EPR, X-RAY DIFFRACTION                                            2\n",
       "THEORETICAL MODEL, SOLUTION NMR                                   2\n",
       "CRYO-ELECTRON MICROSCOPY                                          1\n",
       "SOLUTION NMR, SOLID-STATE NMR                                     1\n",
       "FIBER DIFFRACTION, SOLID-STATE NMR                                1\n",
       "X-RAY DIFFRACTION, SOLUTION NMR                                   1\n",
       "ELECTRON MICROSCOPY, SOLUTION SCATTERING                          1\n",
       "NEUTRON DIFFRACTION, SOLUTION NMR                                 1\n",
       "ELECTRON DIFFRACTION                                              1\n",
       "SOLUTION SCATTERING, ELECTRON MICROSCOPY                          1\n",
       "ELECTRON MICROSCOPY, SOLUTION SCATTERING, SOLID-STATE NMR         1\n",
       "FLUORESCENCE TRANSFER                                             1\n",
       "SOLUTION SCATTERING, X-RAY DIFFRACTION                            1\n",
       "ELECTRON MICROSCOPY, SOLID-STATE NMR                              1\n",
       "SOLUTION NMR, EPR                                                 1\n",
       "Name: experimentalTechnique, dtype: int64"
      ]
     },
     "execution_count": 14,
     "metadata": {},
     "output_type": "execute_result"
    }
   ],
   "source": [
    "dfkat[\"experimentalTechnique\"].value_counts()"
   ]
  },
  {
   "cell_type": "code",
   "execution_count": 15,
   "metadata": {
    "collapsed": true,
    "jupyter": {
     "outputs_hidden": true
    }
   },
   "outputs": [
    {
     "data": {
      "text/plain": [
       "Protein                       127798\n",
       "Protein#DNA                     4176\n",
       "Protein#RNA                     2162\n",
       "DNA                             1744\n",
       "RNA                             1295\n",
       "Protein#DNA#RNA                  250\n",
       "DNA/RNA Hybrid                    58\n",
       "DNA#RNA                           51\n",
       "Protein#DNA#DNA/RNA Hybrid        34\n",
       "RNA#DNA/RNA Hybrid                27\n",
       "Protein#DNA/RNA Hybrid            19\n",
       "DNA#DNA/RNA Hybrid                13\n",
       "Protein#RNA#DNA/RNA Hybrid         9\n",
       "Name: macromoleculeType, dtype: int64"
      ]
     },
     "execution_count": 15,
     "metadata": {},
     "output_type": "execute_result"
    }
   ],
   "source": [
    "dfkat[\"macromoleculeType\"].value_counts()"
   ]
  },
  {
   "cell_type": "code",
   "execution_count": 16,
   "metadata": {
    "collapsed": true,
    "jupyter": {
     "outputs_hidden": true
    }
   },
   "outputs": [
    {
     "data": {
      "text/plain": [
       "VAPOR DIFFUSION, HANGING DROP                 53870\n",
       "VAPOR DIFFUSION, SITTING DROP                 30184\n",
       "VAPOR DIFFUSION                                5780\n",
       "EVAPORATION                                    1024\n",
       "MICROBATCH                                     1019\n",
       "                                              ...  \n",
       "vapor diffusion, hanging drop, macroseeded        1\n",
       "Microbatch (Paraffin oil)                         1\n",
       "PEG 4000, T                                       1\n",
       "small-scale batch                                 1\n",
       "microdialysis or batch                            1\n",
       "Name: crystallizationMethod, Length: 549, dtype: int64"
      ]
     },
     "execution_count": 16,
     "metadata": {},
     "output_type": "execute_result"
    }
   ],
   "source": [
    "dfkat[\"crystallizationMethod\"].value_counts()"
   ]
  },
  {
   "cell_type": "code",
   "execution_count": 17,
   "metadata": {
    "collapsed": true,
    "jupyter": {
     "outputs_hidden": true
    }
   },
   "outputs": [
    {
     "data": {
      "text/plain": [
       "pH 7.5                                                                                                                                                                               361\n",
       "pH 6.5                                                                                                                                                                               342\n",
       "0.1M bis-tris pH 7.0 -- 30% PEG3350                                                                                                                                                  297\n",
       "VAPOR DIFFUSION, HANGING DROP                                                                                                                                                        249\n",
       "28% PEG3350 -- 0.1M HEPES pH 7.0 -- 0.25M ammonium sulfate                                                                                                                           248\n",
       "                                                                                                                                                                                    ... \n",
       "10% Ethylene Glycol, 0.1 M HEPES, 5% PEG 8K, pH 8.0, VAPOR DIFFUSION, HANGING DROP, temperature 293K                                                                                   1\n",
       "30 mg insulin, 3.0 ml 0.02 M HCl, 0.3 ml 0.15 M Zinc Acetate, 1.5 ml 0.2 M Sodium Citrate,  1.2 ml 5% Resorcinol in water, 0.36 gm NaCl, pH 6.7, SLOW COOLING, temperature 298.0K      1\n",
       "PEG3350 ammonium sulfate MOPS MnCl2                                                                                                                                                    1\n",
       "sodium/potassium phosphate, guanidine hydrochloride, MES, pH 6.5, VAPOR DIFFUSION, HANGING DROP, temperature 298K                                                                      1\n",
       "8% PEG 3350, 0.1 M Na-HEPES pH 7.5; 0.2M NaCl, 1.2 M ammonium sulphate and 0.03 M ammonium acetate                                                                                     1\n",
       "Name: pdbxDetails, Length: 91025, dtype: int64"
      ]
     },
     "execution_count": 17,
     "metadata": {},
     "output_type": "execute_result"
    }
   ],
   "source": [
    "dfkat[\"pdbxDetails\"].value_counts()"
   ]
  },
  {
   "cell_type": "code",
   "execution_count": 18,
   "metadata": {},
   "outputs": [
    {
     "data": {
      "text/plain": [
       "structureId                  0\n",
       "classification               2\n",
       "experimentalTechnique        0\n",
       "macromoleculeType         3765\n",
       "crystallizationMethod    45159\n",
       "pdbxDetails              22867\n",
       "dtype: int64"
      ]
     },
     "execution_count": 18,
     "metadata": {},
     "output_type": "execute_result"
    }
   ],
   "source": [
    "dfkat.isnull().sum()"
   ]
  },
  {
   "cell_type": "code",
   "execution_count": 35,
   "metadata": {},
   "outputs": [],
   "source": [
    "def eksik_deger_tablosu(df): \n",
    "    eksik_deger = df.isnull().sum()\n",
    "    eksik_deger_yuzde = 100 * df.isnull().sum()/len(df)\n",
    "    eksik_deger_tablo = pd.concat([eksik_deger, eksik_deger_yuzde], axis=1)\n",
    "    eksik_deger_tablo_son = eksik_deger_tablo.rename(\n",
    "    columns = {0 : 'Eksik Değerler', 1 : '% Değeri'})\n",
    "    return eksik_deger_tablo_son"
   ]
  },
  {
   "cell_type": "code",
   "execution_count": 37,
   "metadata": {},
   "outputs": [
    {
     "data": {
      "text/html": [
       "<div>\n",
       "<style scoped>\n",
       "    .dataframe tbody tr th:only-of-type {\n",
       "        vertical-align: middle;\n",
       "    }\n",
       "\n",
       "    .dataframe tbody tr th {\n",
       "        vertical-align: top;\n",
       "    }\n",
       "\n",
       "    .dataframe thead th {\n",
       "        text-align: right;\n",
       "    }\n",
       "</style>\n",
       "<table border=\"1\" class=\"dataframe\">\n",
       "  <thead>\n",
       "    <tr style=\"text-align: right;\">\n",
       "      <th></th>\n",
       "      <th>Eksik Değerler</th>\n",
       "      <th>% Değeri</th>\n",
       "    </tr>\n",
       "  </thead>\n",
       "  <tbody>\n",
       "    <tr>\n",
       "      <td>structureId</td>\n",
       "      <td>0</td>\n",
       "      <td>0.000000</td>\n",
       "    </tr>\n",
       "    <tr>\n",
       "      <td>classification</td>\n",
       "      <td>2</td>\n",
       "      <td>0.001414</td>\n",
       "    </tr>\n",
       "    <tr>\n",
       "      <td>experimentalTechnique</td>\n",
       "      <td>0</td>\n",
       "      <td>0.000000</td>\n",
       "    </tr>\n",
       "    <tr>\n",
       "      <td>macromoleculeType</td>\n",
       "      <td>3765</td>\n",
       "      <td>2.662640</td>\n",
       "    </tr>\n",
       "    <tr>\n",
       "      <td>crystallizationMethod</td>\n",
       "      <td>45159</td>\n",
       "      <td>31.936832</td>\n",
       "    </tr>\n",
       "    <tr>\n",
       "      <td>pdbxDetails</td>\n",
       "      <td>22867</td>\n",
       "      <td>16.171739</td>\n",
       "    </tr>\n",
       "  </tbody>\n",
       "</table>\n",
       "</div>"
      ],
      "text/plain": [
       "                       Eksik Değerler   % Değeri\n",
       "structureId                         0   0.000000\n",
       "classification                      2   0.001414\n",
       "experimentalTechnique               0   0.000000\n",
       "macromoleculeType                3765   2.662640\n",
       "crystallizationMethod           45159  31.936832\n",
       "pdbxDetails                     22867  16.171739"
      ]
     },
     "execution_count": 37,
     "metadata": {},
     "output_type": "execute_result"
    }
   ],
   "source": [
    "eksik_deger_tablosu(dfkat)"
   ]
  },
  {
   "cell_type": "code",
   "execution_count": 19,
   "metadata": {},
   "outputs": [
    {
     "data": {
      "text/plain": [
       "structureId              0\n",
       "classification           0\n",
       "experimentalTechnique    0\n",
       "macromoleculeType        0\n",
       "crystallizationMethod    0\n",
       "pdbxDetails              0\n",
       "dtype: int64"
      ]
     },
     "execution_count": 19,
     "metadata": {},
     "output_type": "execute_result"
    }
   ],
   "source": [
    "dfkat.isin([\"?\", \"-\", \",\", \"*\", \"/\"]).sum()"
   ]
  },
  {
   "cell_type": "markdown",
   "metadata": {},
   "source": [
    "### 1.2) Sürekli Değişkenler"
   ]
  },
  {
   "cell_type": "code",
   "execution_count": 20,
   "metadata": {},
   "outputs": [
    {
     "data": {
      "text/html": [
       "<div>\n",
       "<style scoped>\n",
       "    .dataframe tbody tr th:only-of-type {\n",
       "        vertical-align: middle;\n",
       "    }\n",
       "\n",
       "    .dataframe tbody tr th {\n",
       "        vertical-align: top;\n",
       "    }\n",
       "\n",
       "    .dataframe thead th {\n",
       "        text-align: right;\n",
       "    }\n",
       "</style>\n",
       "<table border=\"1\" class=\"dataframe\">\n",
       "  <thead>\n",
       "    <tr style=\"text-align: right;\">\n",
       "      <th></th>\n",
       "      <th>residueCount</th>\n",
       "      <th>resolution</th>\n",
       "      <th>structureMolecularWeight</th>\n",
       "      <th>crystallizationTempK</th>\n",
       "      <th>densityMatthews</th>\n",
       "      <th>densityPercentSol</th>\n",
       "      <th>phValue</th>\n",
       "      <th>publicationYear</th>\n",
       "    </tr>\n",
       "  </thead>\n",
       "  <tbody>\n",
       "    <tr>\n",
       "      <td>0</td>\n",
       "      <td>20</td>\n",
       "      <td>1.90</td>\n",
       "      <td>6360.30</td>\n",
       "      <td>NaN</td>\n",
       "      <td>1.78</td>\n",
       "      <td>30.89</td>\n",
       "      <td>7.0</td>\n",
       "      <td>1994.0</td>\n",
       "    </tr>\n",
       "    <tr>\n",
       "      <td>1</td>\n",
       "      <td>24</td>\n",
       "      <td>2.25</td>\n",
       "      <td>7939.35</td>\n",
       "      <td>NaN</td>\n",
       "      <td>2.00</td>\n",
       "      <td>38.45</td>\n",
       "      <td>NaN</td>\n",
       "      <td>1995.0</td>\n",
       "    </tr>\n",
       "    <tr>\n",
       "      <td>2</td>\n",
       "      <td>154</td>\n",
       "      <td>2.07</td>\n",
       "      <td>18112.80</td>\n",
       "      <td>NaN</td>\n",
       "      <td>3.09</td>\n",
       "      <td>60.20</td>\n",
       "      <td>9.0</td>\n",
       "      <td>1999.0</td>\n",
       "    </tr>\n",
       "    <tr>\n",
       "      <td>3</td>\n",
       "      <td>24</td>\n",
       "      <td>2.20</td>\n",
       "      <td>7637.17</td>\n",
       "      <td>277.0</td>\n",
       "      <td>2.28</td>\n",
       "      <td>46.06</td>\n",
       "      <td>7.0</td>\n",
       "      <td>1995.0</td>\n",
       "    </tr>\n",
       "    <tr>\n",
       "      <td>4</td>\n",
       "      <td>165</td>\n",
       "      <td>1.74</td>\n",
       "      <td>18926.61</td>\n",
       "      <td>NaN</td>\n",
       "      <td>2.75</td>\n",
       "      <td>55.28</td>\n",
       "      <td>NaN</td>\n",
       "      <td>1993.0</td>\n",
       "    </tr>\n",
       "    <tr>\n",
       "      <td>...</td>\n",
       "      <td>...</td>\n",
       "      <td>...</td>\n",
       "      <td>...</td>\n",
       "      <td>...</td>\n",
       "      <td>...</td>\n",
       "      <td>...</td>\n",
       "      <td>...</td>\n",
       "      <td>...</td>\n",
       "    </tr>\n",
       "    <tr>\n",
       "      <td>141396</td>\n",
       "      <td>932</td>\n",
       "      <td>2.60</td>\n",
       "      <td>101838.68</td>\n",
       "      <td>NaN</td>\n",
       "      <td>2.38</td>\n",
       "      <td>48.29</td>\n",
       "      <td>NaN</td>\n",
       "      <td>1991.0</td>\n",
       "    </tr>\n",
       "    <tr>\n",
       "      <td>141397</td>\n",
       "      <td>0</td>\n",
       "      <td>NaN</td>\n",
       "      <td>24244.34</td>\n",
       "      <td>NaN</td>\n",
       "      <td>3.17</td>\n",
       "      <td>61.18</td>\n",
       "      <td>NaN</td>\n",
       "      <td>1986.0</td>\n",
       "    </tr>\n",
       "    <tr>\n",
       "      <td>141398</td>\n",
       "      <td>342</td>\n",
       "      <td>1.80</td>\n",
       "      <td>34270.22</td>\n",
       "      <td>NaN</td>\n",
       "      <td>2.50</td>\n",
       "      <td>50.76</td>\n",
       "      <td>NaN</td>\n",
       "      <td>1990.0</td>\n",
       "    </tr>\n",
       "    <tr>\n",
       "      <td>141399</td>\n",
       "      <td>388</td>\n",
       "      <td>1.90</td>\n",
       "      <td>43542.29</td>\n",
       "      <td>NaN</td>\n",
       "      <td>2.79</td>\n",
       "      <td>55.93</td>\n",
       "      <td>NaN</td>\n",
       "      <td>1989.0</td>\n",
       "    </tr>\n",
       "    <tr>\n",
       "      <td>141400</td>\n",
       "      <td>1572</td>\n",
       "      <td>2.40</td>\n",
       "      <td>174722.12</td>\n",
       "      <td>NaN</td>\n",
       "      <td>3.96</td>\n",
       "      <td>68.92</td>\n",
       "      <td>NaN</td>\n",
       "      <td>1992.0</td>\n",
       "    </tr>\n",
       "  </tbody>\n",
       "</table>\n",
       "<p>141401 rows × 8 columns</p>\n",
       "</div>"
      ],
      "text/plain": [
       "        residueCount  resolution  structureMolecularWeight  \\\n",
       "0                 20        1.90                   6360.30   \n",
       "1                 24        2.25                   7939.35   \n",
       "2                154        2.07                  18112.80   \n",
       "3                 24        2.20                   7637.17   \n",
       "4                165        1.74                  18926.61   \n",
       "...              ...         ...                       ...   \n",
       "141396           932        2.60                 101838.68   \n",
       "141397             0         NaN                  24244.34   \n",
       "141398           342        1.80                  34270.22   \n",
       "141399           388        1.90                  43542.29   \n",
       "141400          1572        2.40                 174722.12   \n",
       "\n",
       "        crystallizationTempK  densityMatthews  densityPercentSol  phValue  \\\n",
       "0                        NaN             1.78              30.89      7.0   \n",
       "1                        NaN             2.00              38.45      NaN   \n",
       "2                        NaN             3.09              60.20      9.0   \n",
       "3                      277.0             2.28              46.06      7.0   \n",
       "4                        NaN             2.75              55.28      NaN   \n",
       "...                      ...              ...                ...      ...   \n",
       "141396                   NaN             2.38              48.29      NaN   \n",
       "141397                   NaN             3.17              61.18      NaN   \n",
       "141398                   NaN             2.50              50.76      NaN   \n",
       "141399                   NaN             2.79              55.93      NaN   \n",
       "141400                   NaN             3.96              68.92      NaN   \n",
       "\n",
       "        publicationYear  \n",
       "0                1994.0  \n",
       "1                1995.0  \n",
       "2                1999.0  \n",
       "3                1995.0  \n",
       "4                1993.0  \n",
       "...                 ...  \n",
       "141396           1991.0  \n",
       "141397           1986.0  \n",
       "141398           1990.0  \n",
       "141399           1989.0  \n",
       "141400           1992.0  \n",
       "\n",
       "[141401 rows x 8 columns]"
      ]
     },
     "execution_count": 20,
     "metadata": {},
     "output_type": "execute_result"
    }
   ],
   "source": [
    "dfnum = df.select_dtypes(include = [\"int64\", \"float64\"])\n",
    "dfnum"
   ]
  },
  {
   "cell_type": "code",
   "execution_count": 34,
   "metadata": {},
   "outputs": [
    {
     "data": {
      "text/plain": [
       "36291"
      ]
     },
     "execution_count": 34,
     "metadata": {},
     "output_type": "execute_result"
    }
   ],
   "source": [
    "dfnum[\"phValue\"].isnull().sum()"
   ]
  },
  {
   "cell_type": "code",
   "execution_count": 21,
   "metadata": {},
   "outputs": [
    {
     "data": {
      "text/plain": [
       "Index(['residueCount', 'resolution', 'structureMolecularWeight',\n",
       "       'crystallizationTempK', 'densityMatthews', 'densityPercentSol',\n",
       "       'phValue', 'publicationYear'],\n",
       "      dtype='object')"
      ]
     },
     "execution_count": 21,
     "metadata": {},
     "output_type": "execute_result"
    }
   ],
   "source": [
    "dfnum.columns"
   ]
  },
  {
   "cell_type": "code",
   "execution_count": 22,
   "metadata": {},
   "outputs": [
    {
     "data": {
      "text/html": [
       "<div>\n",
       "<style scoped>\n",
       "    .dataframe tbody tr th:only-of-type {\n",
       "        vertical-align: middle;\n",
       "    }\n",
       "\n",
       "    .dataframe tbody tr th {\n",
       "        vertical-align: top;\n",
       "    }\n",
       "\n",
       "    .dataframe thead th {\n",
       "        text-align: right;\n",
       "    }\n",
       "</style>\n",
       "<table border=\"1\" class=\"dataframe\">\n",
       "  <thead>\n",
       "    <tr style=\"text-align: right;\">\n",
       "      <th></th>\n",
       "      <th>count</th>\n",
       "      <th>mean</th>\n",
       "      <th>std</th>\n",
       "      <th>min</th>\n",
       "      <th>25%</th>\n",
       "      <th>50%</th>\n",
       "      <th>75%</th>\n",
       "      <th>max</th>\n",
       "    </tr>\n",
       "  </thead>\n",
       "  <tbody>\n",
       "    <tr>\n",
       "      <td>residueCount</td>\n",
       "      <td>141401.0</td>\n",
       "      <td>825.374849</td>\n",
       "      <td>2136.461080</td>\n",
       "      <td>0.00</td>\n",
       "      <td>226.00</td>\n",
       "      <td>414.00</td>\n",
       "      <td>820.00</td>\n",
       "      <td>313236.0</td>\n",
       "    </tr>\n",
       "    <tr>\n",
       "      <td>resolution</td>\n",
       "      <td>128589.0</td>\n",
       "      <td>2.263807</td>\n",
       "      <td>1.410878</td>\n",
       "      <td>0.48</td>\n",
       "      <td>1.80</td>\n",
       "      <td>2.10</td>\n",
       "      <td>2.50</td>\n",
       "      <td>70.0</td>\n",
       "    </tr>\n",
       "    <tr>\n",
       "      <td>structureMolecularWeight</td>\n",
       "      <td>141401.0</td>\n",
       "      <td>112079.000614</td>\n",
       "      <td>569015.201457</td>\n",
       "      <td>314.38</td>\n",
       "      <td>26128.56</td>\n",
       "      <td>47477.79</td>\n",
       "      <td>94084.84</td>\n",
       "      <td>97730536.0</td>\n",
       "    </tr>\n",
       "    <tr>\n",
       "      <td>crystallizationTempK</td>\n",
       "      <td>97039.0</td>\n",
       "      <td>290.967713</td>\n",
       "      <td>9.541080</td>\n",
       "      <td>4.00</td>\n",
       "      <td>290.00</td>\n",
       "      <td>293.00</td>\n",
       "      <td>295.00</td>\n",
       "      <td>398.0</td>\n",
       "    </tr>\n",
       "    <tr>\n",
       "      <td>densityMatthews</td>\n",
       "      <td>124724.0</td>\n",
       "      <td>2.670267</td>\n",
       "      <td>0.783740</td>\n",
       "      <td>0.00</td>\n",
       "      <td>2.21</td>\n",
       "      <td>2.49</td>\n",
       "      <td>2.91</td>\n",
       "      <td>99.0</td>\n",
       "    </tr>\n",
       "    <tr>\n",
       "      <td>densityPercentSol</td>\n",
       "      <td>124749.0</td>\n",
       "      <td>51.353163</td>\n",
       "      <td>10.104561</td>\n",
       "      <td>0.00</td>\n",
       "      <td>44.37</td>\n",
       "      <td>50.50</td>\n",
       "      <td>57.71</td>\n",
       "      <td>92.0</td>\n",
       "    </tr>\n",
       "    <tr>\n",
       "      <td>phValue</td>\n",
       "      <td>105110.0</td>\n",
       "      <td>6.788685</td>\n",
       "      <td>2.556819</td>\n",
       "      <td>0.00</td>\n",
       "      <td>6.00</td>\n",
       "      <td>7.00</td>\n",
       "      <td>7.50</td>\n",
       "      <td>724.0</td>\n",
       "    </tr>\n",
       "    <tr>\n",
       "      <td>publicationYear</td>\n",
       "      <td>117602.0</td>\n",
       "      <td>2008.922365</td>\n",
       "      <td>8.459286</td>\n",
       "      <td>201.00</td>\n",
       "      <td>2005.00</td>\n",
       "      <td>2010.00</td>\n",
       "      <td>2014.00</td>\n",
       "      <td>2018.0</td>\n",
       "    </tr>\n",
       "  </tbody>\n",
       "</table>\n",
       "</div>"
      ],
      "text/plain": [
       "                             count           mean            std     min  \\\n",
       "residueCount              141401.0     825.374849    2136.461080    0.00   \n",
       "resolution                128589.0       2.263807       1.410878    0.48   \n",
       "structureMolecularWeight  141401.0  112079.000614  569015.201457  314.38   \n",
       "crystallizationTempK       97039.0     290.967713       9.541080    4.00   \n",
       "densityMatthews           124724.0       2.670267       0.783740    0.00   \n",
       "densityPercentSol         124749.0      51.353163      10.104561    0.00   \n",
       "phValue                   105110.0       6.788685       2.556819    0.00   \n",
       "publicationYear           117602.0    2008.922365       8.459286  201.00   \n",
       "\n",
       "                               25%       50%       75%         max  \n",
       "residueCount                226.00    414.00    820.00    313236.0  \n",
       "resolution                    1.80      2.10      2.50        70.0  \n",
       "structureMolecularWeight  26128.56  47477.79  94084.84  97730536.0  \n",
       "crystallizationTempK        290.00    293.00    295.00       398.0  \n",
       "densityMatthews               2.21      2.49      2.91        99.0  \n",
       "densityPercentSol            44.37     50.50     57.71        92.0  \n",
       "phValue                       6.00      7.00      7.50       724.0  \n",
       "publicationYear            2005.00   2010.00   2014.00      2018.0  "
      ]
     },
     "execution_count": 22,
     "metadata": {},
     "output_type": "execute_result"
    }
   ],
   "source": [
    "dfnum.describe().T"
   ]
  },
  {
   "cell_type": "code",
   "execution_count": 23,
   "metadata": {},
   "outputs": [
    {
     "data": {
      "text/plain": [
       "residueCount                141401\n",
       "resolution                  128589\n",
       "structureMolecularWeight    141401\n",
       "crystallizationTempK         97039\n",
       "densityMatthews             124724\n",
       "densityPercentSol           124749\n",
       "phValue                     105110\n",
       "publicationYear             117602\n",
       "dtype: int64"
      ]
     },
     "execution_count": 23,
     "metadata": {},
     "output_type": "execute_result"
    }
   ],
   "source": [
    "dfnum.count()"
   ]
  },
  {
   "cell_type": "code",
   "execution_count": 24,
   "metadata": {},
   "outputs": [
    {
     "data": {
      "text/plain": [
       "residueCount                    0\n",
       "resolution                  12812\n",
       "structureMolecularWeight        0\n",
       "crystallizationTempK        44362\n",
       "densityMatthews             16677\n",
       "densityPercentSol           16652\n",
       "phValue                     36291\n",
       "publicationYear             23799\n",
       "dtype: int64"
      ]
     },
     "execution_count": 24,
     "metadata": {},
     "output_type": "execute_result"
    }
   ],
   "source": [
    "dfnum.isnull().sum()"
   ]
  },
  {
   "cell_type": "code",
   "execution_count": 51,
   "metadata": {},
   "outputs": [
    {
     "data": {
      "text/plain": [
       "residueCount                0\n",
       "resolution                  0\n",
       "structureMolecularWeight    0\n",
       "crystallizationTempK        0\n",
       "densityMatthews             0\n",
       "densityPercentSol           0\n",
       "phValue                     0\n",
       "publicationYear             0\n",
       "dtype: int64"
      ]
     },
     "execution_count": 51,
     "metadata": {},
     "output_type": "execute_result"
    }
   ],
   "source": [
    "dfnum.isin([\"?\", \"-\", \",\", \"*\", \"/\"]).sum()"
   ]
  },
  {
   "cell_type": "code",
   "execution_count": 36,
   "metadata": {},
   "outputs": [
    {
     "data": {
      "text/html": [
       "<div>\n",
       "<style scoped>\n",
       "    .dataframe tbody tr th:only-of-type {\n",
       "        vertical-align: middle;\n",
       "    }\n",
       "\n",
       "    .dataframe tbody tr th {\n",
       "        vertical-align: top;\n",
       "    }\n",
       "\n",
       "    .dataframe thead th {\n",
       "        text-align: right;\n",
       "    }\n",
       "</style>\n",
       "<table border=\"1\" class=\"dataframe\">\n",
       "  <thead>\n",
       "    <tr style=\"text-align: right;\">\n",
       "      <th></th>\n",
       "      <th>Eksik Değerler</th>\n",
       "      <th>% Değeri</th>\n",
       "    </tr>\n",
       "  </thead>\n",
       "  <tbody>\n",
       "    <tr>\n",
       "      <td>residueCount</td>\n",
       "      <td>0</td>\n",
       "      <td>0.000000</td>\n",
       "    </tr>\n",
       "    <tr>\n",
       "      <td>resolution</td>\n",
       "      <td>12812</td>\n",
       "      <td>9.060756</td>\n",
       "    </tr>\n",
       "    <tr>\n",
       "      <td>structureMolecularWeight</td>\n",
       "      <td>0</td>\n",
       "      <td>0.000000</td>\n",
       "    </tr>\n",
       "    <tr>\n",
       "      <td>crystallizationTempK</td>\n",
       "      <td>44362</td>\n",
       "      <td>31.373187</td>\n",
       "    </tr>\n",
       "    <tr>\n",
       "      <td>densityMatthews</td>\n",
       "      <td>16677</td>\n",
       "      <td>11.794117</td>\n",
       "    </tr>\n",
       "    <tr>\n",
       "      <td>densityPercentSol</td>\n",
       "      <td>16652</td>\n",
       "      <td>11.776437</td>\n",
       "    </tr>\n",
       "    <tr>\n",
       "      <td>phValue</td>\n",
       "      <td>36291</td>\n",
       "      <td>25.665306</td>\n",
       "    </tr>\n",
       "    <tr>\n",
       "      <td>publicationYear</td>\n",
       "      <td>23799</td>\n",
       "      <td>16.830857</td>\n",
       "    </tr>\n",
       "  </tbody>\n",
       "</table>\n",
       "</div>"
      ],
      "text/plain": [
       "                          Eksik Değerler   % Değeri\n",
       "residueCount                           0   0.000000\n",
       "resolution                         12812   9.060756\n",
       "structureMolecularWeight               0   0.000000\n",
       "crystallizationTempK               44362  31.373187\n",
       "densityMatthews                    16677  11.794117\n",
       "densityPercentSol                  16652  11.776437\n",
       "phValue                            36291  25.665306\n",
       "publicationYear                    23799  16.830857"
      ]
     },
     "execution_count": 36,
     "metadata": {},
     "output_type": "execute_result"
    }
   ],
   "source": [
    "eksik_deger_tablosu(dfnum)"
   ]
  },
  {
   "cell_type": "markdown",
   "metadata": {},
   "source": [
    "**resolution**, **phValue**, **densityMatthews** üçünden biri target değişken olarak kullanılabilir."
   ]
  },
  {
   "cell_type": "markdown",
   "metadata": {},
   "source": [
    "# -------------------------------------"
   ]
  },
  {
   "cell_type": "markdown",
   "metadata": {},
   "source": [
    "* Yayinlanma yili, int olarak gelmişti. datetime olarak değiştirdik."
   ]
  },
  {
   "cell_type": "code",
   "execution_count": 57,
   "metadata": {},
   "outputs": [],
   "source": [
    "df[\"publicationYear\"] = df['publicationYear'].astype('datetime64[ns]')"
   ]
  },
  {
   "cell_type": "code",
   "execution_count": 58,
   "metadata": {},
   "outputs": [
    {
     "name": "stdout",
     "output_type": "stream",
     "text": [
      "<class 'pandas.core.frame.DataFrame'>\n",
      "RangeIndex: 141401 entries, 0 to 141400\n",
      "Data columns (total 14 columns):\n",
      "structureId                 141401 non-null object\n",
      "classification              141399 non-null object\n",
      "experimentalTechnique       141401 non-null object\n",
      "macromoleculeType           137636 non-null object\n",
      "residueCount                141401 non-null int64\n",
      "resolution                  128589 non-null float64\n",
      "structureMolecularWeight    141401 non-null float64\n",
      "crystallizationMethod       96242 non-null object\n",
      "crystallizationTempK        97039 non-null float64\n",
      "densityMatthews             124724 non-null float64\n",
      "densityPercentSol           124749 non-null float64\n",
      "pdbxDetails                 118534 non-null object\n",
      "phValue                     105110 non-null float64\n",
      "publicationYear             117602 non-null datetime64[ns]\n",
      "dtypes: datetime64[ns](1), float64(6), int64(1), object(6)\n",
      "memory usage: 15.1+ MB\n"
     ]
    }
   ],
   "source": [
    "df.info()"
   ]
  },
  {
   "cell_type": "markdown",
   "metadata": {},
   "source": [
    "## 2) Verinin Görselleştirilmesi (Data visualization)"
   ]
  },
  {
   "cell_type": "code",
   "execution_count": 5,
   "metadata": {},
   "outputs": [],
   "source": [
    "import pandas as pd\n",
    "import numpy as np\n",
    "import seaborn as sns\n",
    "from matplotlib import pyplot as plt\n",
    "import missingno as msno"
   ]
  },
  {
   "cell_type": "code",
   "execution_count": 3,
   "metadata": {},
   "outputs": [],
   "source": [
    "df1 = pd.read_csv(\"pdb_data_no_dups.csv\")"
   ]
  },
  {
   "cell_type": "markdown",
   "metadata": {},
   "source": [
    "* **Gorsellestirme yapilacagi zaman degiskenlerin siniflarinin 10'dan az olmamasi onemlidir.Cunku bu durumun aksi gorsellestirmeyi zorlastirmakta ve gerekli bilgiyi elde ederken engel teskil etmektedir. Ayni zamanda kirilmalari gostermek adina dusuk siniflarin olmasi da onemlidir.**\n",
    "\n",
    "* **Bu sebepten oturu Classification degiskenin en cok sikliga sahip 7 sinifini alarak devam ediyoruz.**"
   ]
  },
  {
   "cell_type": "code",
   "execution_count": 9,
   "metadata": {},
   "outputs": [],
   "source": [
    "df2 =  df1[(df1['classification'] == \"HYDROLASE\") | (df1['classification'] == \"TRANSFERASE\")\n",
    "           | (df1['classification'] == \"OXIDOREDUCTASE\") | (df1['classification'] == \"LYASE\") \n",
    "           | (df1['classification'] == \"IMMUNE SYSTEM\") | (df1['classification'] == \"TRANSCRIPTION\") | (df1['classification'] == \"TRANSPORT PROTEIN\")]"
   ]
  },
  {
   "cell_type": "code",
   "execution_count": 12,
   "metadata": {},
   "outputs": [
    {
     "data": {
      "text/plain": [
       "<matplotlib.axes._subplots.AxesSubplot at 0x22271b6c548>"
      ]
     },
     "execution_count": 12,
     "metadata": {},
     "output_type": "execute_result"
    },
    {
     "data": {
      "image/png": "[encoded data removed]",
      "text/plain": [
       "<Figure size 432x288 with 1 Axes>"
      ]
     },
     "metadata": {
      "needs_background": "light"
     },
     "output_type": "display_data"
    }
   ],
   "source": [
    "df2[\"classification\"].value_counts().plot.barh()\n",
    "\n",
    "# Bagimli degisken olarak gordugumuz Classification degiskeni ile gorsellestirmeye basliyoruz"
   ]
  },
  {
   "cell_type": "code",
   "execution_count": 14,
   "metadata": {},
   "outputs": [
    {
     "data": {
      "text/plain": [
       "<matplotlib.axes._subplots.AxesSubplot at 0x22273579288>"
      ]
     },
     "execution_count": 14,
     "metadata": {},
     "output_type": "execute_result"
    },
    {
     "data": {
      "image/png": "[encoded data removed]",
      "text/plain": [
       "<Figure size 432x288 with 1 Axes>"
      ]
     },
     "metadata": {
      "needs_background": "light"
     },
     "output_type": "display_data"
    }
   ],
   "source": [
    "sns.barplot( x = \"classification\", y = df2.classification.index, data = df2 )"
   ]
  },
  {
   "cell_type": "code",
   "execution_count": 37,
   "metadata": {},
   "outputs": [
    {
     "data": {
      "text/html": [
       "<div>\n",
       "<style scoped>\n",
       "    .dataframe tbody tr th:only-of-type {\n",
       "        vertical-align: middle;\n",
       "    }\n",
       "\n",
       "    .dataframe tbody tr th {\n",
       "        vertical-align: top;\n",
       "    }\n",
       "\n",
       "    .dataframe thead th {\n",
       "        text-align: right;\n",
       "    }\n",
       "</style>\n",
       "<table border=\"1\" class=\"dataframe\">\n",
       "  <thead>\n",
       "    <tr style=\"text-align: right;\">\n",
       "      <th></th>\n",
       "      <th>structureMolecularWeight</th>\n",
       "    </tr>\n",
       "    <tr>\n",
       "      <th>classification</th>\n",
       "      <th></th>\n",
       "    </tr>\n",
       "  </thead>\n",
       "  <tbody>\n",
       "    <tr>\n",
       "      <td>HYDROLASE</td>\n",
       "      <td>118766.258031</td>\n",
       "    </tr>\n",
       "    <tr>\n",
       "      <td>IMMUNE SYSTEM</td>\n",
       "      <td>81727.072432</td>\n",
       "    </tr>\n",
       "    <tr>\n",
       "      <td>LYASE</td>\n",
       "      <td>109327.830725</td>\n",
       "    </tr>\n",
       "    <tr>\n",
       "      <td>OXIDOREDUCTASE</td>\n",
       "      <td>114854.286304</td>\n",
       "    </tr>\n",
       "    <tr>\n",
       "      <td>TRANSCRIPTION</td>\n",
       "      <td>117301.014628</td>\n",
       "    </tr>\n",
       "    <tr>\n",
       "      <td>TRANSFERASE</td>\n",
       "      <td>126106.018760</td>\n",
       "    </tr>\n",
       "    <tr>\n",
       "      <td>TRANSPORT PROTEIN</td>\n",
       "      <td>179231.297183</td>\n",
       "    </tr>\n",
       "  </tbody>\n",
       "</table>\n",
       "</div>"
      ],
      "text/plain": [
       "                   structureMolecularWeight\n",
       "classification                             \n",
       "HYDROLASE                     118766.258031\n",
       "IMMUNE SYSTEM                  81727.072432\n",
       "LYASE                         109327.830725\n",
       "OXIDOREDUCTASE                114854.286304\n",
       "TRANSCRIPTION                 117301.014628\n",
       "TRANSFERASE                   126106.018760\n",
       "TRANSPORT PROTEIN             179231.297183"
      ]
     },
     "execution_count": 37,
     "metadata": {},
     "output_type": "execute_result"
    }
   ],
   "source": [
    "df2.groupby([\"classification\"])[\"structureMolecularWeight\",].std()\n",
    "\n",
    "# Bu group by isleminin amaci ise bir sonraki grafikte gorecegimiz barplot grafigindeki ince sapmalari belirten cubuklarin daha net anlasilmasi icindir."
   ]
  },
  {
   "cell_type": "code",
   "execution_count": 42,
   "metadata": {},
   "outputs": [
    {
     "data": {
      "image/png": "[encoded data removed]",
      "text/plain": [
       "<Figure size 864x576 with 1 Axes>"
      ]
     },
     "metadata": {
      "needs_background": "light"
     },
     "output_type": "display_data"
    }
   ],
   "source": [
    "plt.figure(figsize=(12,8))\n",
    "ax = sns.barplot( x = \"classification\", y = \"structureMolecularWeight\", data = df2 )\n",
    "\n",
    "# Classification degiskenine ait siniflarin Molekul agirligina gore sirlamasini gorebiliyoruz\n",
    "# Yani en fazla molekul agirlina sahip olan sinif OXIDOREDUCTASE olarak gozukmekte\n",
    "# Bu dagilimda en fazla standart sapmaya sahip sinif ise TRANSPORT PROTEIN olarak gozlenmekte "
   ]
  },
  {
   "cell_type": "markdown",
   "metadata": {},
   "source": [
    "* **Bir group by islemi yaparak barplot yapmadan once siniflarin molekul tipine gore agirliklarinin ortalamasini gorelim**\n",
    "* **Boylece gorseldeki dagilimin da matematiksel kismini net bir sekilde gormus olacagiz**"
   ]
  },
  {
   "cell_type": "code",
   "execution_count": 59,
   "metadata": {},
   "outputs": [
    {
     "data": {
      "text/plain": [
       "classification     macromoleculeType         \n",
       "HYDROLASE          Protein                        80126.252599\n",
       "                   Protein#DNA                   111428.578730\n",
       "                   Protein#DNA#DNA/RNA Hybrid    190495.050000\n",
       "                   Protein#DNA#RNA                99704.120000\n",
       "                   Protein#DNA/RNA Hybrid         45054.870000\n",
       "                   Protein#RNA                   145302.585172\n",
       "IMMUNE SYSTEM      Protein                        82732.872664\n",
       "                   Protein#DNA                   178597.520000\n",
       "                   Protein#DNA#RNA               455830.860000\n",
       "                   Protein#RNA                   143386.055000\n",
       "LYASE              Protein                        98303.757004\n",
       "                   Protein#DNA                    65712.410000\n",
       "OXIDOREDUCTASE     Protein                       107325.907479\n",
       "                   Protein#DNA                    45127.572222\n",
       "                   Protein#RNA                   182938.060000\n",
       "TRANSCRIPTION      Protein                        53246.471510\n",
       "                   Protein#DNA                   182846.999293\n",
       "                   Protein#DNA#RNA               600895.477143\n",
       "                   Protein#DNA/RNA Hybrid        203200.910000\n",
       "                   Protein#RNA                   465896.732143\n",
       "                   RNA                            41184.263333\n",
       "TRANSFERASE        Protein                        86339.833980\n",
       "                   Protein#DNA                    89821.179800\n",
       "                   Protein#DNA#RNA               529592.414444\n",
       "                   Protein#RNA                   283739.023333\n",
       "                   RNA                           227611.470000\n",
       "TRANSPORT PROTEIN  Protein                        93706.607367\n",
       "                   Protein#DNA                    67240.520000\n",
       "                   Protein#RNA                   138890.910000\n",
       "Name: structureMolecularWeight, dtype: float64"
      ]
     },
     "execution_count": 59,
     "metadata": {},
     "output_type": "execute_result"
    }
   ],
   "source": [
    "df2.groupby([\"classification\",\"macromoleculeType\"])[\"structureMolecularWeight\"].mean()"
   ]
  },
  {
   "cell_type": "code",
   "execution_count": 50,
   "metadata": {},
   "outputs": [
    {
     "data": {
      "image/png": "[encoded data removed]",
      "text/plain": [
       "<Figure size 1080x648 with 1 Axes>"
      ]
     },
     "metadata": {
      "needs_background": "light"
     },
     "output_type": "display_data"
    }
   ],
   "source": [
    "plt.figure(figsize=(15,9))\n",
    "ax = sns.barplot( x = \"classification\", y = \"structureMolecularWeight\",hue=\"macromoleculeType\", data = df2 )\n",
    "\n",
    "# Bir onceki grafikten farkli olarak bu grafikte ele olay ikinci bir kirilimi eklemis olmak\n",
    "# Protein siniflari X eksinin de iken Y eksenin de proteinlerin molekuler agirliklari var\n",
    "# Ve ayni zaman da bu siniflarin kendi icerisinde dagilimlari var ve  bu proteinlerin molekul tiplerine gore gozlenmekte\n",
    "# Simdi Yukari daki GROUP BY islemine baktimiz da aslinda bu dagilimlarin saglamasi da gozukmekte "
   ]
  },
  {
   "cell_type": "code",
   "execution_count": 41,
   "metadata": {},
   "outputs": [
    {
     "data": {
      "text/plain": [
       "<seaborn.axisgrid.FacetGrid at 0x2227b9c9fc8>"
      ]
     },
     "execution_count": 41,
     "metadata": {},
     "output_type": "execute_result"
    },
    {
     "data": {
      "image/png": "[encoded data removed]",
      "text/plain": [
       "<Figure size 682.5x540 with 1 Axes>"
      ]
     },
     "metadata": {
      "needs_background": "light"
     },
     "output_type": "display_data"
    }
   ],
   "source": [
    "(sns\n",
    " .FacetGrid(df2,\n",
    "            hue= \"classification\",\n",
    "           height= 7.5,\n",
    "           xlim= (0, 300000))\n",
    " .map(sns.kdeplot, \"structureMolecularWeight\",shade = True)\n",
    " .add_legend())\n",
    "\n",
    "# Proteinlerin ait olduklari siniflara da molekul tipine gore frekanslarini gorebiliyoruz\n",
    "# Molekul agirliginin siniflara gore frekanslarinin daha farkli oldugunu anlayabiliyoruz\n",
    "# Ornegin sinif TRANSCRIPTION olan proteinlerin molekul agirliklari 0-5000 arasinda iken frekans yogunlugu tavan yapmis durumda\n",
    "# Daha sonra 5000-10000 molekul agirliginda ise IMMUNE SYSTEM sinifina ait proteinler frekans sikligi olarak en fazla olan duruyor\n",
    "# Bir yerden sonra molekul agirli artan bir trende burundugunde artik tum siniflarin her molekul agirliginda neredeyse ayni frekans\n",
    "## yogunluguna sahip oldugunu gorebiliyoruz. "
   ]
  },
  {
   "cell_type": "code",
   "execution_count": 26,
   "metadata": {},
   "outputs": [
    {
     "data": {
      "text/plain": [
       "<seaborn.axisgrid.PairGrid at 0x27528886ac8>"
      ]
     },
     "execution_count": 26,
     "metadata": {},
     "output_type": "execute_result"
    },
    {
     "data": {
      "image/png": "[encoded data removed]",
      "text/plain": [
       "<Figure size 1440x1440 with 72 Axes>"
      ]
     },
     "metadata": {
      "needs_background": "light"
     },
     "output_type": "display_data"
    }
   ],
   "source": [
    "sns.pairplot(df2,kind=\"reg\")\n",
    "\n",
    "# Bu gorsel ile suna deginmis olduk Scatter Plot bilindigi uzere sacilim ve bize korelasyon hakkinda bilgi vermekte.\n",
    "# Ayni zamanda degiskenlerin birbiri ile olan iliskisini de gostermek acisindan bir regresyon egrisi ciziyoruz. \n",
    "# Ortaya cikan grafikte cok fazla detay oldugu icin bu grafiksel sonuclarin birde istatistiksel kismini yani korelasyon kismini ele alip yorum yapalim."
   ]
  },
  {
   "cell_type": "code",
   "execution_count": 27,
   "metadata": {},
   "outputs": [
    {
     "data": {
      "text/html": [
       "<div>\n",
       "<style scoped>\n",
       "    .dataframe tbody tr th:only-of-type {\n",
       "        vertical-align: middle;\n",
       "    }\n",
       "\n",
       "    .dataframe tbody tr th {\n",
       "        vertical-align: top;\n",
       "    }\n",
       "\n",
       "    .dataframe thead th {\n",
       "        text-align: right;\n",
       "    }\n",
       "</style>\n",
       "<table border=\"1\" class=\"dataframe\">\n",
       "  <thead>\n",
       "    <tr style=\"text-align: right;\">\n",
       "      <th></th>\n",
       "      <th>residueCount</th>\n",
       "      <th>resolution</th>\n",
       "      <th>structureMolecularWeight</th>\n",
       "      <th>crystallizationTempK</th>\n",
       "      <th>densityMatthews</th>\n",
       "      <th>densityPercentSol</th>\n",
       "      <th>phValue</th>\n",
       "      <th>publicationYear</th>\n",
       "    </tr>\n",
       "  </thead>\n",
       "  <tbody>\n",
       "    <tr>\n",
       "      <td>residueCount</td>\n",
       "      <td>1.000000</td>\n",
       "      <td>0.349965</td>\n",
       "      <td>0.990821</td>\n",
       "      <td>0.005208</td>\n",
       "      <td>0.138504</td>\n",
       "      <td>0.168906</td>\n",
       "      <td>0.006683</td>\n",
       "      <td>0.078496</td>\n",
       "    </tr>\n",
       "    <tr>\n",
       "      <td>resolution</td>\n",
       "      <td>0.349965</td>\n",
       "      <td>1.000000</td>\n",
       "      <td>0.351025</td>\n",
       "      <td>0.001056</td>\n",
       "      <td>0.378522</td>\n",
       "      <td>0.422207</td>\n",
       "      <td>0.025548</td>\n",
       "      <td>0.021884</td>\n",
       "    </tr>\n",
       "    <tr>\n",
       "      <td>structureMolecularWeight</td>\n",
       "      <td>0.990821</td>\n",
       "      <td>0.351025</td>\n",
       "      <td>1.000000</td>\n",
       "      <td>0.004452</td>\n",
       "      <td>0.141905</td>\n",
       "      <td>0.172713</td>\n",
       "      <td>0.007273</td>\n",
       "      <td>0.078241</td>\n",
       "    </tr>\n",
       "    <tr>\n",
       "      <td>crystallizationTempK</td>\n",
       "      <td>0.005208</td>\n",
       "      <td>0.001056</td>\n",
       "      <td>0.004452</td>\n",
       "      <td>1.000000</td>\n",
       "      <td>-0.044993</td>\n",
       "      <td>-0.063627</td>\n",
       "      <td>-0.001751</td>\n",
       "      <td>0.042997</td>\n",
       "    </tr>\n",
       "    <tr>\n",
       "      <td>densityMatthews</td>\n",
       "      <td>0.138504</td>\n",
       "      <td>0.378522</td>\n",
       "      <td>0.141905</td>\n",
       "      <td>-0.044993</td>\n",
       "      <td>1.000000</td>\n",
       "      <td>0.783695</td>\n",
       "      <td>0.013506</td>\n",
       "      <td>-0.008492</td>\n",
       "    </tr>\n",
       "    <tr>\n",
       "      <td>densityPercentSol</td>\n",
       "      <td>0.168906</td>\n",
       "      <td>0.422207</td>\n",
       "      <td>0.172713</td>\n",
       "      <td>-0.063627</td>\n",
       "      <td>0.783695</td>\n",
       "      <td>1.000000</td>\n",
       "      <td>0.015317</td>\n",
       "      <td>0.003297</td>\n",
       "    </tr>\n",
       "    <tr>\n",
       "      <td>phValue</td>\n",
       "      <td>0.006683</td>\n",
       "      <td>0.025548</td>\n",
       "      <td>0.007273</td>\n",
       "      <td>-0.001751</td>\n",
       "      <td>0.013506</td>\n",
       "      <td>0.015317</td>\n",
       "      <td>1.000000</td>\n",
       "      <td>0.004717</td>\n",
       "    </tr>\n",
       "    <tr>\n",
       "      <td>publicationYear</td>\n",
       "      <td>0.078496</td>\n",
       "      <td>0.021884</td>\n",
       "      <td>0.078241</td>\n",
       "      <td>0.042997</td>\n",
       "      <td>-0.008492</td>\n",
       "      <td>0.003297</td>\n",
       "      <td>0.004717</td>\n",
       "      <td>1.000000</td>\n",
       "    </tr>\n",
       "  </tbody>\n",
       "</table>\n",
       "</div>"
      ],
      "text/plain": [
       "                          residueCount  resolution  structureMolecularWeight  \\\n",
       "residueCount                  1.000000    0.349965                  0.990821   \n",
       "resolution                    0.349965    1.000000                  0.351025   \n",
       "structureMolecularWeight      0.990821    0.351025                  1.000000   \n",
       "crystallizationTempK          0.005208    0.001056                  0.004452   \n",
       "densityMatthews               0.138504    0.378522                  0.141905   \n",
       "densityPercentSol             0.168906    0.422207                  0.172713   \n",
       "phValue                       0.006683    0.025548                  0.007273   \n",
       "publicationYear               0.078496    0.021884                  0.078241   \n",
       "\n",
       "                          crystallizationTempK  densityMatthews  \\\n",
       "residueCount                          0.005208         0.138504   \n",
       "resolution                            0.001056         0.378522   \n",
       "structureMolecularWeight              0.004452         0.141905   \n",
       "crystallizationTempK                  1.000000        -0.044993   \n",
       "densityMatthews                      -0.044993         1.000000   \n",
       "densityPercentSol                    -0.063627         0.783695   \n",
       "phValue                              -0.001751         0.013506   \n",
       "publicationYear                       0.042997        -0.008492   \n",
       "\n",
       "                          densityPercentSol   phValue  publicationYear  \n",
       "residueCount                       0.168906  0.006683         0.078496  \n",
       "resolution                         0.422207  0.025548         0.021884  \n",
       "structureMolecularWeight           0.172713  0.007273         0.078241  \n",
       "crystallizationTempK              -0.063627 -0.001751         0.042997  \n",
       "densityMatthews                    0.783695  0.013506        -0.008492  \n",
       "densityPercentSol                  1.000000  0.015317         0.003297  \n",
       "phValue                            0.015317  1.000000         0.004717  \n",
       "publicationYear                    0.003297  0.004717         1.000000  "
      ]
     },
     "execution_count": 27,
     "metadata": {},
     "output_type": "execute_result"
    }
   ],
   "source": [
    "df2.corr()\n",
    "\n",
    "# Olayin istatistiksel kismina gecildiginde iki sonuc goze carpmakta 0.349965 ve 0.990821\n",
    "# Iste bu iki sonuc residueCount - resolution arasinda pozitife yakin bir iliski oldugunu gostermekte.\n",
    "# Kalintilar ile cozulme arasinda artan bir iliski gorulmekte ama fazla denemez\n",
    "\n",
    "# Daha sonra structureMolecularWeight - residueCount arasinda yuksek pozitif yonlu bir iiski oldugu gozlenmekte\n",
    "# Yani molekul agirligi artarken cozulme degeri de artmakta.  "
   ]
  },
  {
   "cell_type": "markdown",
   "metadata": {},
   "source": [
    "* **Iki adet sonucumuz vardi 0,99 ve 0,34 sirasiyla bunlari grafik uzerinde de inceleyelim** "
   ]
  },
  {
   "cell_type": "code",
   "execution_count": 32,
   "metadata": {},
   "outputs": [
    {
     "data": {
      "image/png": "[encoded data removed]",
      "text/plain": [
       "<Figure size 864x432 with 1 Axes>"
      ]
     },
     "metadata": {
      "needs_background": "light"
     },
     "output_type": "display_data"
    }
   ],
   "source": [
    "plt.figure(figsize=(12,6))\n",
    "ax = sns.scatterplot(x = \"structureMolecularWeight\", y = \"residueCount\" ,hue=\"classification\",data=df2)\n",
    "\n",
    "# Bu 0,99 iliskiye bakarken bir de fazladan bilgi almak adina HUE ile Classification yani siniflari da ekliyoruz.\n",
    "# Molekul siniflarina gore molekul agirli ve kalinti(tortular) arasindaki iliskinin neye gore arttigi hakkinda biraz daha bilgi sahibi olmus olduk."
   ]
  },
  {
   "cell_type": "code",
   "execution_count": 35,
   "metadata": {},
   "outputs": [
    {
     "data": {
      "image/png": "[encoded data removed]",
      "text/plain": [
       "<Figure size 864x432 with 1 Axes>"
      ]
     },
     "metadata": {
      "needs_background": "light"
     },
     "output_type": "display_data"
    }
   ],
   "source": [
    "plt.figure(figsize=(12,6))\n",
    "ax = sns.scatterplot(x = \"resolution\", y = \"residueCount\" ,hue=\"classification\",data=df2)\n",
    "\n",
    "# Ikinci yuksek sayilabilecek 0,34 iliski incelendigin de ise bunlarin hangi siniflar bazli oldugu ve yayilimda yine hangilerinin etkili oldugunu anlayabiliriz.\n",
    "# Genel olarak bir yere kadar iki degisken arasindaki iliski birlikte artarken ardindan bu trend durmus.\n",
    "# Bunun arkasindaki detaylar ise biraz da is bilgisine dayanmaktadir. \n"
   ]
  },
  {
   "cell_type": "markdown",
   "metadata": {},
   "source": [
    "### 2.1) Missing Value Görselleştirme"
   ]
  },
  {
   "cell_type": "code",
   "execution_count": 7,
   "metadata": {},
   "outputs": [
    {
     "data": {
      "text/plain": [
       "structureId                     0\n",
       "classification                  2\n",
       "experimentalTechnique           0\n",
       "macromoleculeType            3765\n",
       "residueCount                    0\n",
       "resolution                  12812\n",
       "structureMolecularWeight        0\n",
       "crystallizationMethod       45159\n",
       "crystallizationTempK        44362\n",
       "densityMatthews             16677\n",
       "densityPercentSol           16652\n",
       "pdbxDetails                 22867\n",
       "phValue                     36291\n",
       "publicationYear             23799\n",
       "dtype: int64"
      ]
     },
     "execution_count": 7,
     "metadata": {},
     "output_type": "execute_result"
    }
   ],
   "source": [
    "df.isnull().sum()"
   ]
  },
  {
   "cell_type": "code",
   "execution_count": 43,
   "metadata": {},
   "outputs": [
    {
     "data": {
      "text/plain": [
       "<matplotlib.axes._subplots.AxesSubplot at 0x15c5a354a88>"
      ]
     },
     "execution_count": 43,
     "metadata": {},
     "output_type": "execute_result"
    },
    {
     "data": {
      "image/png": "[encoded data removed]",
      "text/plain": [
       "<Figure size 1728x720 with 3 Axes>"
      ]
     },
     "metadata": {
      "needs_background": "light"
     },
     "output_type": "display_data"
    }
   ],
   "source": [
    "msno.bar(df) \n",
    "#Grafikteki barların yüksekliği total veriye oranla orada olan sayıyı veriyor. Örneğin structerId de boş değer yok diyebiliriz."
   ]
  },
  {
   "cell_type": "code",
   "execution_count": 44,
   "metadata": {},
   "outputs": [
    {
     "data": {
      "text/plain": [
       "<matplotlib.axes._subplots.AxesSubplot at 0x15c59642dc8>"
      ]
     },
     "execution_count": 44,
     "metadata": {},
     "output_type": "execute_result"
    },
    {
     "data": {
      "image/png": "[encoded data removed]",
      "text/plain": [
       "<Figure size 1440x864 with 2 Axes>"
      ]
     },
     "metadata": {
      "needs_background": "light"
     },
     "output_type": "display_data"
    }
   ],
   "source": [
    "msno.heatmap(df) "
   ]
  },
  {
   "cell_type": "markdown",
   "metadata": {},
   "source": [
    "### 2.2) phValue Görselleştirmesi"
   ]
  },
  {
   "cell_type": "code",
   "execution_count": 56,
   "metadata": {},
   "outputs": [],
   "source": [
    "baz = df1[df1[\"phValue\"]  > 7 ][\"phValue\"]"
   ]
  },
  {
   "cell_type": "code",
   "execution_count": 55,
   "metadata": {},
   "outputs": [],
   "source": [
    "notr = df1[df1[\"phValue\"]  == 7 ][\"phValue\"]"
   ]
  },
  {
   "cell_type": "code",
   "execution_count": 54,
   "metadata": {},
   "outputs": [],
   "source": [
    "asit = df1[df1[\"phValue\"]  < 7 ][\"phValue\"]"
   ]
  },
  {
   "cell_type": "code",
   "execution_count": 59,
   "metadata": {},
   "outputs": [],
   "source": [
    "sozluk = {\"Asit\": asit,\n",
    "          \"Notr\": notr,\n",
    "          \"Baz\": baz\n",
    "         }"
   ]
  },
  {
   "cell_type": "code",
   "execution_count": 63,
   "metadata": {},
   "outputs": [],
   "source": [
    "phtablo = pd.DataFrame(sozluk)"
   ]
  },
  {
   "cell_type": "code",
   "execution_count": 68,
   "metadata": {},
   "outputs": [
    {
     "data": {
      "text/plain": [
       "7.0    5742\n",
       "Name: Notr, dtype: int64"
      ]
     },
     "execution_count": 68,
     "metadata": {},
     "output_type": "execute_result"
    }
   ],
   "source": [
    "phtablo[\"Notr\"].value_counts()"
   ]
  },
  {
   "cell_type": "code",
   "execution_count": 72,
   "metadata": {},
   "outputs": [
    {
     "data": {
      "text/plain": [
       "Asit    25343\n",
       "Notr     5742\n",
       "Baz     21628\n",
       "dtype: int64"
      ]
     },
     "execution_count": 72,
     "metadata": {},
     "output_type": "execute_result"
    }
   ],
   "source": [
    "phtablo.count()"
   ]
  },
  {
   "cell_type": "code",
   "execution_count": 75,
   "metadata": {},
   "outputs": [
    {
     "data": {
      "text/plain": [
       "<matplotlib.axes._subplots.AxesSubplot at 0x203a4febc88>"
      ]
     },
     "execution_count": 75,
     "metadata": {},
     "output_type": "execute_result"
    },
    {
     "data": {
      "image/png": "[encoded data removed]",
      "text/plain": [
       "<Figure size 432x288 with 1 Axes>"
      ]
     },
     "metadata": {
      "needs_background": "light"
     },
     "output_type": "display_data"
    }
   ],
   "source": [
    "phtablo.count().plot.barh()"
   ]
  },
  {
   "cell_type": "markdown",
   "metadata": {},
   "source": [
    "## 3) Aykırı Değer Temizleme(Outlier Cleaning)"
   ]
  },
  {
   "cell_type": "code",
   "execution_count": 2,
   "metadata": {},
   "outputs": [],
   "source": [
    "import pandas as pd\n",
    "import numpy as np\n",
    "from sklearn.model_selection import train_test_split\n",
    "import seaborn as sns"
   ]
  },
  {
   "cell_type": "code",
   "execution_count": 3,
   "metadata": {},
   "outputs": [
    {
     "data": {
      "text/html": [
       "<div>\n",
       "<style scoped>\n",
       "    .dataframe tbody tr th:only-of-type {\n",
       "        vertical-align: middle;\n",
       "    }\n",
       "\n",
       "    .dataframe tbody tr th {\n",
       "        vertical-align: top;\n",
       "    }\n",
       "\n",
       "    .dataframe thead th {\n",
       "        text-align: right;\n",
       "    }\n",
       "</style>\n",
       "<table border=\"1\" class=\"dataframe\">\n",
       "  <thead>\n",
       "    <tr style=\"text-align: right;\">\n",
       "      <th></th>\n",
       "      <th>structureId</th>\n",
       "      <th>classification</th>\n",
       "      <th>experimentalTechnique</th>\n",
       "      <th>macromoleculeType</th>\n",
       "      <th>residueCount</th>\n",
       "      <th>resolution</th>\n",
       "      <th>structureMolecularWeight</th>\n",
       "      <th>crystallizationMethod</th>\n",
       "      <th>crystallizationTempK</th>\n",
       "      <th>densityMatthews</th>\n",
       "      <th>densityPercentSol</th>\n",
       "      <th>pdbxDetails</th>\n",
       "      <th>phValue</th>\n",
       "      <th>publicationYear</th>\n",
       "    </tr>\n",
       "  </thead>\n",
       "  <tbody>\n",
       "    <tr>\n",
       "      <td>0</td>\n",
       "      <td>100D</td>\n",
       "      <td>DNA-RNA HYBRID</td>\n",
       "      <td>X-RAY DIFFRACTION</td>\n",
       "      <td>DNA/RNA Hybrid</td>\n",
       "      <td>20</td>\n",
       "      <td>1.90</td>\n",
       "      <td>6360.30</td>\n",
       "      <td>VAPOR DIFFUSION, HANGING DROP</td>\n",
       "      <td>NaN</td>\n",
       "      <td>1.78</td>\n",
       "      <td>30.89</td>\n",
       "      <td>pH 7.00, VAPOR DIFFUSION, HANGING DROP</td>\n",
       "      <td>7.0</td>\n",
       "      <td>1994.0</td>\n",
       "    </tr>\n",
       "    <tr>\n",
       "      <td>1</td>\n",
       "      <td>101D</td>\n",
       "      <td>DNA</td>\n",
       "      <td>X-RAY DIFFRACTION</td>\n",
       "      <td>DNA</td>\n",
       "      <td>24</td>\n",
       "      <td>2.25</td>\n",
       "      <td>7939.35</td>\n",
       "      <td>NaN</td>\n",
       "      <td>NaN</td>\n",
       "      <td>2.00</td>\n",
       "      <td>38.45</td>\n",
       "      <td>NaN</td>\n",
       "      <td>NaN</td>\n",
       "      <td>1995.0</td>\n",
       "    </tr>\n",
       "  </tbody>\n",
       "</table>\n",
       "</div>"
      ],
      "text/plain": [
       "  structureId  classification experimentalTechnique macromoleculeType  \\\n",
       "0        100D  DNA-RNA HYBRID     X-RAY DIFFRACTION    DNA/RNA Hybrid   \n",
       "1        101D             DNA     X-RAY DIFFRACTION               DNA   \n",
       "\n",
       "   residueCount  resolution  structureMolecularWeight  \\\n",
       "0            20        1.90                   6360.30   \n",
       "1            24        2.25                   7939.35   \n",
       "\n",
       "           crystallizationMethod  crystallizationTempK  densityMatthews  \\\n",
       "0  VAPOR DIFFUSION, HANGING DROP                   NaN             1.78   \n",
       "1                            NaN                   NaN             2.00   \n",
       "\n",
       "   densityPercentSol                             pdbxDetails  phValue  \\\n",
       "0              30.89  pH 7.00, VAPOR DIFFUSION, HANGING DROP      7.0   \n",
       "1              38.45                                     NaN      NaN   \n",
       "\n",
       "   publicationYear  \n",
       "0           1994.0  \n",
       "1           1995.0  "
      ]
     },
     "execution_count": 3,
     "metadata": {},
     "output_type": "execute_result"
    }
   ],
   "source": [
    "data = pd.read_csv(\"pdb_data_no_dups.csv\")\n",
    "data.head(2)"
   ]
  },
  {
   "cell_type": "code",
   "execution_count": 4,
   "metadata": {},
   "outputs": [
    {
     "data": {
      "text/html": [
       "<div>\n",
       "<style scoped>\n",
       "    .dataframe tbody tr th:only-of-type {\n",
       "        vertical-align: middle;\n",
       "    }\n",
       "\n",
       "    .dataframe tbody tr th {\n",
       "        vertical-align: top;\n",
       "    }\n",
       "\n",
       "    .dataframe thead th {\n",
       "        text-align: right;\n",
       "    }\n",
       "</style>\n",
       "<table border=\"1\" class=\"dataframe\">\n",
       "  <thead>\n",
       "    <tr style=\"text-align: right;\">\n",
       "      <th></th>\n",
       "      <th>classification</th>\n",
       "    </tr>\n",
       "  </thead>\n",
       "  <tbody>\n",
       "    <tr>\n",
       "      <td>0</td>\n",
       "      <td>DNA-RNA HYBRID</td>\n",
       "    </tr>\n",
       "    <tr>\n",
       "      <td>1</td>\n",
       "      <td>DNA</td>\n",
       "    </tr>\n",
       "    <tr>\n",
       "      <td>2</td>\n",
       "      <td>OXYGEN TRANSPORT</td>\n",
       "    </tr>\n",
       "    <tr>\n",
       "      <td>3</td>\n",
       "      <td>DNA</td>\n",
       "    </tr>\n",
       "    <tr>\n",
       "      <td>4</td>\n",
       "      <td>HYDROLASE(O-GLYCOSYL)</td>\n",
       "    </tr>\n",
       "    <tr>\n",
       "      <td>...</td>\n",
       "      <td>...</td>\n",
       "    </tr>\n",
       "    <tr>\n",
       "      <td>141396</td>\n",
       "      <td>LYASE(CARBON-CARBON)</td>\n",
       "    </tr>\n",
       "    <tr>\n",
       "      <td>141397</td>\n",
       "      <td>T-RNA</td>\n",
       "    </tr>\n",
       "    <tr>\n",
       "      <td>141398</td>\n",
       "      <td>LECTIN (AGGLUTININ)</td>\n",
       "    </tr>\n",
       "    <tr>\n",
       "      <td>141399</td>\n",
       "      <td>ISOMERASE(INTRAMOLECULAR OXIDOREDUCTASE)</td>\n",
       "    </tr>\n",
       "    <tr>\n",
       "      <td>141400</td>\n",
       "      <td>ISOMERASE(INTRAMOLECULAR OXIDOREDUCTASE)</td>\n",
       "    </tr>\n",
       "  </tbody>\n",
       "</table>\n",
       "<p>141401 rows × 1 columns</p>\n",
       "</div>"
      ],
      "text/plain": [
       "                                  classification\n",
       "0                                 DNA-RNA HYBRID\n",
       "1                                            DNA\n",
       "2                               OXYGEN TRANSPORT\n",
       "3                                            DNA\n",
       "4                          HYDROLASE(O-GLYCOSYL)\n",
       "...                                          ...\n",
       "141396                      LYASE(CARBON-CARBON)\n",
       "141397                                     T-RNA\n",
       "141398                       LECTIN (AGGLUTININ)\n",
       "141399  ISOMERASE(INTRAMOLECULAR OXIDOREDUCTASE)\n",
       "141400  ISOMERASE(INTRAMOLECULAR OXIDOREDUCTASE)\n",
       "\n",
       "[141401 rows x 1 columns]"
      ]
     },
     "execution_count": 4,
     "metadata": {},
     "output_type": "execute_result"
    }
   ],
   "source": [
    "y = data[[\"classification\"]]\n",
    "y"
   ]
  },
  {
   "cell_type": "code",
   "execution_count": 5,
   "metadata": {},
   "outputs": [
    {
     "data": {
      "text/html": [
       "<div>\n",
       "<style scoped>\n",
       "    .dataframe tbody tr th:only-of-type {\n",
       "        vertical-align: middle;\n",
       "    }\n",
       "\n",
       "    .dataframe tbody tr th {\n",
       "        vertical-align: top;\n",
       "    }\n",
       "\n",
       "    .dataframe thead th {\n",
       "        text-align: right;\n",
       "    }\n",
       "</style>\n",
       "<table border=\"1\" class=\"dataframe\">\n",
       "  <thead>\n",
       "    <tr style=\"text-align: right;\">\n",
       "      <th></th>\n",
       "      <th>structureId</th>\n",
       "      <th>experimentalTechnique</th>\n",
       "      <th>macromoleculeType</th>\n",
       "      <th>residueCount</th>\n",
       "      <th>resolution</th>\n",
       "      <th>structureMolecularWeight</th>\n",
       "      <th>crystallizationMethod</th>\n",
       "      <th>crystallizationTempK</th>\n",
       "      <th>densityMatthews</th>\n",
       "      <th>densityPercentSol</th>\n",
       "      <th>pdbxDetails</th>\n",
       "      <th>phValue</th>\n",
       "      <th>publicationYear</th>\n",
       "    </tr>\n",
       "  </thead>\n",
       "  <tbody>\n",
       "    <tr>\n",
       "      <td>0</td>\n",
       "      <td>100D</td>\n",
       "      <td>X-RAY DIFFRACTION</td>\n",
       "      <td>DNA/RNA Hybrid</td>\n",
       "      <td>20</td>\n",
       "      <td>1.90</td>\n",
       "      <td>6360.30</td>\n",
       "      <td>VAPOR DIFFUSION, HANGING DROP</td>\n",
       "      <td>NaN</td>\n",
       "      <td>1.78</td>\n",
       "      <td>30.89</td>\n",
       "      <td>pH 7.00, VAPOR DIFFUSION, HANGING DROP</td>\n",
       "      <td>7.0</td>\n",
       "      <td>1994.0</td>\n",
       "    </tr>\n",
       "    <tr>\n",
       "      <td>1</td>\n",
       "      <td>101D</td>\n",
       "      <td>X-RAY DIFFRACTION</td>\n",
       "      <td>DNA</td>\n",
       "      <td>24</td>\n",
       "      <td>2.25</td>\n",
       "      <td>7939.35</td>\n",
       "      <td>NaN</td>\n",
       "      <td>NaN</td>\n",
       "      <td>2.00</td>\n",
       "      <td>38.45</td>\n",
       "      <td>NaN</td>\n",
       "      <td>NaN</td>\n",
       "      <td>1995.0</td>\n",
       "    </tr>\n",
       "  </tbody>\n",
       "</table>\n",
       "</div>"
      ],
      "text/plain": [
       "  structureId experimentalTechnique macromoleculeType  residueCount  \\\n",
       "0        100D     X-RAY DIFFRACTION    DNA/RNA Hybrid            20   \n",
       "1        101D     X-RAY DIFFRACTION               DNA            24   \n",
       "\n",
       "   resolution  structureMolecularWeight          crystallizationMethod  \\\n",
       "0        1.90                   6360.30  VAPOR DIFFUSION, HANGING DROP   \n",
       "1        2.25                   7939.35                            NaN   \n",
       "\n",
       "   crystallizationTempK  densityMatthews  densityPercentSol  \\\n",
       "0                   NaN             1.78              30.89   \n",
       "1                   NaN             2.00              38.45   \n",
       "\n",
       "                              pdbxDetails  phValue  publicationYear  \n",
       "0  pH 7.00, VAPOR DIFFUSION, HANGING DROP      7.0           1994.0  \n",
       "1                                     NaN      NaN           1995.0  "
      ]
     },
     "execution_count": 5,
     "metadata": {},
     "output_type": "execute_result"
    }
   ],
   "source": [
    "x = data.drop(\"classification\", axis = 1)\n",
    "x.head(2)"
   ]
  },
  {
   "cell_type": "code",
   "execution_count": 6,
   "metadata": {},
   "outputs": [],
   "source": [
    "x_train, x_test, y_train, y_test = train_test_split(x, y, test_size=0.2, random_state=42)"
   ]
  },
  {
   "cell_type": "code",
   "execution_count": 7,
   "metadata": {},
   "outputs": [
    {
     "data": {
      "text/plain": [
       "((113120, 13), (28281, 13), (113120, 1), (28281, 1))"
      ]
     },
     "execution_count": 7,
     "metadata": {},
     "output_type": "execute_result"
    }
   ],
   "source": [
    "x_train.shape, x_test.shape, y_train.shape, y_test.shape"
   ]
  },
  {
   "cell_type": "code",
   "execution_count": 8,
   "metadata": {},
   "outputs": [
    {
     "data": {
      "text/html": [
       "<div>\n",
       "<style scoped>\n",
       "    .dataframe tbody tr th:only-of-type {\n",
       "        vertical-align: middle;\n",
       "    }\n",
       "\n",
       "    .dataframe tbody tr th {\n",
       "        vertical-align: top;\n",
       "    }\n",
       "\n",
       "    .dataframe thead th {\n",
       "        text-align: right;\n",
       "    }\n",
       "</style>\n",
       "<table border=\"1\" class=\"dataframe\">\n",
       "  <thead>\n",
       "    <tr style=\"text-align: right;\">\n",
       "      <th></th>\n",
       "      <th>residueCount</th>\n",
       "      <th>resolution</th>\n",
       "      <th>structureMolecularWeight</th>\n",
       "      <th>crystallizationTempK</th>\n",
       "      <th>densityMatthews</th>\n",
       "      <th>densityPercentSol</th>\n",
       "      <th>phValue</th>\n",
       "      <th>publicationYear</th>\n",
       "    </tr>\n",
       "  </thead>\n",
       "  <tbody>\n",
       "    <tr>\n",
       "      <td>116178</td>\n",
       "      <td>258</td>\n",
       "      <td>1.45</td>\n",
       "      <td>29452.57</td>\n",
       "      <td>291.0</td>\n",
       "      <td>2.12</td>\n",
       "      <td>42.09</td>\n",
       "      <td>7.8</td>\n",
       "      <td>2015.0</td>\n",
       "    </tr>\n",
       "    <tr>\n",
       "      <td>27418</td>\n",
       "      <td>598</td>\n",
       "      <td>1.80</td>\n",
       "      <td>62670.17</td>\n",
       "      <td>289.0</td>\n",
       "      <td>2.40</td>\n",
       "      <td>48.00</td>\n",
       "      <td>4.5</td>\n",
       "      <td>2004.0</td>\n",
       "    </tr>\n",
       "    <tr>\n",
       "      <td>54783</td>\n",
       "      <td>488</td>\n",
       "      <td>2.80</td>\n",
       "      <td>55629.98</td>\n",
       "      <td>NaN</td>\n",
       "      <td>2.93</td>\n",
       "      <td>58.08</td>\n",
       "      <td>8.5</td>\n",
       "      <td>2010.0</td>\n",
       "    </tr>\n",
       "    <tr>\n",
       "      <td>106000</td>\n",
       "      <td>694</td>\n",
       "      <td>1.80</td>\n",
       "      <td>77979.53</td>\n",
       "      <td>291.0</td>\n",
       "      <td>2.48</td>\n",
       "      <td>50.46</td>\n",
       "      <td>8.0</td>\n",
       "      <td>2014.0</td>\n",
       "    </tr>\n",
       "    <tr>\n",
       "      <td>3082</td>\n",
       "      <td>259</td>\n",
       "      <td>2.20</td>\n",
       "      <td>29251.28</td>\n",
       "      <td>NaN</td>\n",
       "      <td>2.15</td>\n",
       "      <td>42.89</td>\n",
       "      <td>NaN</td>\n",
       "      <td>1995.0</td>\n",
       "    </tr>\n",
       "    <tr>\n",
       "      <td>...</td>\n",
       "      <td>...</td>\n",
       "      <td>...</td>\n",
       "      <td>...</td>\n",
       "      <td>...</td>\n",
       "      <td>...</td>\n",
       "      <td>...</td>\n",
       "      <td>...</td>\n",
       "      <td>...</td>\n",
       "    </tr>\n",
       "    <tr>\n",
       "      <td>110268</td>\n",
       "      <td>289</td>\n",
       "      <td>1.80</td>\n",
       "      <td>34202.32</td>\n",
       "      <td>293.0</td>\n",
       "      <td>2.26</td>\n",
       "      <td>45.57</td>\n",
       "      <td>6.0</td>\n",
       "      <td>2015.0</td>\n",
       "    </tr>\n",
       "    <tr>\n",
       "      <td>119879</td>\n",
       "      <td>804</td>\n",
       "      <td>3.01</td>\n",
       "      <td>93648.18</td>\n",
       "      <td>298.0</td>\n",
       "      <td>2.26</td>\n",
       "      <td>45.66</td>\n",
       "      <td>NaN</td>\n",
       "      <td>2016.0</td>\n",
       "    </tr>\n",
       "    <tr>\n",
       "      <td>103694</td>\n",
       "      <td>189</td>\n",
       "      <td>2.35</td>\n",
       "      <td>22153.37</td>\n",
       "      <td>289.0</td>\n",
       "      <td>2.76</td>\n",
       "      <td>55.46</td>\n",
       "      <td>7.5</td>\n",
       "      <td>NaN</td>\n",
       "    </tr>\n",
       "    <tr>\n",
       "      <td>131932</td>\n",
       "      <td>19955</td>\n",
       "      <td>4.97</td>\n",
       "      <td>3325585.75</td>\n",
       "      <td>NaN</td>\n",
       "      <td>NaN</td>\n",
       "      <td>NaN</td>\n",
       "      <td>NaN</td>\n",
       "      <td>2017.0</td>\n",
       "    </tr>\n",
       "    <tr>\n",
       "      <td>121958</td>\n",
       "      <td>1111</td>\n",
       "      <td>2.90</td>\n",
       "      <td>122323.33</td>\n",
       "      <td>293.0</td>\n",
       "      <td>NaN</td>\n",
       "      <td>NaN</td>\n",
       "      <td>7.2</td>\n",
       "      <td>2016.0</td>\n",
       "    </tr>\n",
       "  </tbody>\n",
       "</table>\n",
       "<p>113120 rows × 8 columns</p>\n",
       "</div>"
      ],
      "text/plain": [
       "        residueCount  resolution  structureMolecularWeight  \\\n",
       "116178           258        1.45                  29452.57   \n",
       "27418            598        1.80                  62670.17   \n",
       "54783            488        2.80                  55629.98   \n",
       "106000           694        1.80                  77979.53   \n",
       "3082             259        2.20                  29251.28   \n",
       "...              ...         ...                       ...   \n",
       "110268           289        1.80                  34202.32   \n",
       "119879           804        3.01                  93648.18   \n",
       "103694           189        2.35                  22153.37   \n",
       "131932         19955        4.97                3325585.75   \n",
       "121958          1111        2.90                 122323.33   \n",
       "\n",
       "        crystallizationTempK  densityMatthews  densityPercentSol  phValue  \\\n",
       "116178                 291.0             2.12              42.09      7.8   \n",
       "27418                  289.0             2.40              48.00      4.5   \n",
       "54783                    NaN             2.93              58.08      8.5   \n",
       "106000                 291.0             2.48              50.46      8.0   \n",
       "3082                     NaN             2.15              42.89      NaN   \n",
       "...                      ...              ...                ...      ...   \n",
       "110268                 293.0             2.26              45.57      6.0   \n",
       "119879                 298.0             2.26              45.66      NaN   \n",
       "103694                 289.0             2.76              55.46      7.5   \n",
       "131932                   NaN              NaN                NaN      NaN   \n",
       "121958                 293.0              NaN                NaN      7.2   \n",
       "\n",
       "        publicationYear  \n",
       "116178           2015.0  \n",
       "27418            2004.0  \n",
       "54783            2010.0  \n",
       "106000           2014.0  \n",
       "3082             1995.0  \n",
       "...                 ...  \n",
       "110268           2015.0  \n",
       "119879           2016.0  \n",
       "103694              NaN  \n",
       "131932           2017.0  \n",
       "121958           2016.0  \n",
       "\n",
       "[113120 rows x 8 columns]"
      ]
     },
     "execution_count": 8,
     "metadata": {},
     "output_type": "execute_result"
    }
   ],
   "source": [
    "columns = x_train.select_dtypes([\"int64\", \"float64\"])\n",
    "columns"
   ]
  },
  {
   "cell_type": "code",
   "execution_count": 9,
   "metadata": {},
   "outputs": [
    {
     "data": {
      "text/html": [
       "<div>\n",
       "<style scoped>\n",
       "    .dataframe tbody tr th:only-of-type {\n",
       "        vertical-align: middle;\n",
       "    }\n",
       "\n",
       "    .dataframe tbody tr th {\n",
       "        vertical-align: top;\n",
       "    }\n",
       "\n",
       "    .dataframe thead th {\n",
       "        text-align: right;\n",
       "    }\n",
       "</style>\n",
       "<table border=\"1\" class=\"dataframe\">\n",
       "  <thead>\n",
       "    <tr style=\"text-align: right;\">\n",
       "      <th></th>\n",
       "      <th>residueCount</th>\n",
       "      <th>resolution</th>\n",
       "      <th>structureMolecularWeight</th>\n",
       "      <th>crystallizationTempK</th>\n",
       "      <th>densityMatthews</th>\n",
       "      <th>densityPercentSol</th>\n",
       "    </tr>\n",
       "  </thead>\n",
       "  <tbody>\n",
       "    <tr>\n",
       "      <td>116178</td>\n",
       "      <td>258</td>\n",
       "      <td>1.45</td>\n",
       "      <td>29452.57</td>\n",
       "      <td>291.0</td>\n",
       "      <td>2.12</td>\n",
       "      <td>42.09</td>\n",
       "    </tr>\n",
       "    <tr>\n",
       "      <td>27418</td>\n",
       "      <td>598</td>\n",
       "      <td>1.80</td>\n",
       "      <td>62670.17</td>\n",
       "      <td>289.0</td>\n",
       "      <td>2.40</td>\n",
       "      <td>48.00</td>\n",
       "    </tr>\n",
       "    <tr>\n",
       "      <td>54783</td>\n",
       "      <td>488</td>\n",
       "      <td>2.80</td>\n",
       "      <td>55629.98</td>\n",
       "      <td>NaN</td>\n",
       "      <td>2.93</td>\n",
       "      <td>58.08</td>\n",
       "    </tr>\n",
       "    <tr>\n",
       "      <td>106000</td>\n",
       "      <td>694</td>\n",
       "      <td>1.80</td>\n",
       "      <td>77979.53</td>\n",
       "      <td>291.0</td>\n",
       "      <td>2.48</td>\n",
       "      <td>50.46</td>\n",
       "    </tr>\n",
       "    <tr>\n",
       "      <td>3082</td>\n",
       "      <td>259</td>\n",
       "      <td>2.20</td>\n",
       "      <td>29251.28</td>\n",
       "      <td>NaN</td>\n",
       "      <td>2.15</td>\n",
       "      <td>42.89</td>\n",
       "    </tr>\n",
       "    <tr>\n",
       "      <td>...</td>\n",
       "      <td>...</td>\n",
       "      <td>...</td>\n",
       "      <td>...</td>\n",
       "      <td>...</td>\n",
       "      <td>...</td>\n",
       "      <td>...</td>\n",
       "    </tr>\n",
       "    <tr>\n",
       "      <td>110268</td>\n",
       "      <td>289</td>\n",
       "      <td>1.80</td>\n",
       "      <td>34202.32</td>\n",
       "      <td>293.0</td>\n",
       "      <td>2.26</td>\n",
       "      <td>45.57</td>\n",
       "    </tr>\n",
       "    <tr>\n",
       "      <td>119879</td>\n",
       "      <td>804</td>\n",
       "      <td>3.01</td>\n",
       "      <td>93648.18</td>\n",
       "      <td>298.0</td>\n",
       "      <td>2.26</td>\n",
       "      <td>45.66</td>\n",
       "    </tr>\n",
       "    <tr>\n",
       "      <td>103694</td>\n",
       "      <td>189</td>\n",
       "      <td>2.35</td>\n",
       "      <td>22153.37</td>\n",
       "      <td>289.0</td>\n",
       "      <td>2.76</td>\n",
       "      <td>55.46</td>\n",
       "    </tr>\n",
       "    <tr>\n",
       "      <td>131932</td>\n",
       "      <td>19955</td>\n",
       "      <td>4.97</td>\n",
       "      <td>3325585.75</td>\n",
       "      <td>NaN</td>\n",
       "      <td>NaN</td>\n",
       "      <td>NaN</td>\n",
       "    </tr>\n",
       "    <tr>\n",
       "      <td>121958</td>\n",
       "      <td>1111</td>\n",
       "      <td>2.90</td>\n",
       "      <td>122323.33</td>\n",
       "      <td>293.0</td>\n",
       "      <td>NaN</td>\n",
       "      <td>NaN</td>\n",
       "    </tr>\n",
       "  </tbody>\n",
       "</table>\n",
       "<p>113120 rows × 6 columns</p>\n",
       "</div>"
      ],
      "text/plain": [
       "        residueCount  resolution  structureMolecularWeight  \\\n",
       "116178           258        1.45                  29452.57   \n",
       "27418            598        1.80                  62670.17   \n",
       "54783            488        2.80                  55629.98   \n",
       "106000           694        1.80                  77979.53   \n",
       "3082             259        2.20                  29251.28   \n",
       "...              ...         ...                       ...   \n",
       "110268           289        1.80                  34202.32   \n",
       "119879           804        3.01                  93648.18   \n",
       "103694           189        2.35                  22153.37   \n",
       "131932         19955        4.97                3325585.75   \n",
       "121958          1111        2.90                 122323.33   \n",
       "\n",
       "        crystallizationTempK  densityMatthews  densityPercentSol  \n",
       "116178                 291.0             2.12              42.09  \n",
       "27418                  289.0             2.40              48.00  \n",
       "54783                    NaN             2.93              58.08  \n",
       "106000                 291.0             2.48              50.46  \n",
       "3082                     NaN             2.15              42.89  \n",
       "...                      ...              ...                ...  \n",
       "110268                 293.0             2.26              45.57  \n",
       "119879                 298.0             2.26              45.66  \n",
       "103694                 289.0             2.76              55.46  \n",
       "131932                   NaN              NaN                NaN  \n",
       "121958                 293.0              NaN                NaN  \n",
       "\n",
       "[113120 rows x 6 columns]"
      ]
     },
     "execution_count": 9,
     "metadata": {},
     "output_type": "execute_result"
    }
   ],
   "source": [
    "del columns[\"phValue\"]\n",
    "del columns[\"publicationYear\"]\n",
    "columns"
   ]
  },
  {
   "cell_type": "code",
   "execution_count": 10,
   "metadata": {},
   "outputs": [
    {
     "data": {
      "text/plain": [
       "Index(['residueCount', 'resolution', 'structureMolecularWeight',\n",
       "       'crystallizationTempK', 'densityMatthews', 'densityPercentSol'],\n",
       "      dtype='object')"
      ]
     },
     "execution_count": 10,
     "metadata": {},
     "output_type": "execute_result"
    }
   ],
   "source": [
    "columns.columns"
   ]
  },
  {
   "cell_type": "code",
   "execution_count": 11,
   "metadata": {},
   "outputs": [],
   "source": [
    "lower_and_upper = {}\n",
    "x_train_copy = x_train.copy()\n",
    "for col in columns.columns:\n",
    "    q1 = x_train[col].describe()[4]\n",
    "    q3 = x_train[col].describe()[6]\n",
    "    iqr = q3 - q1\n",
    "    lowerbound = q1 - (1.5*iqr)\n",
    "    upperbound = q3 + (1.5*iqr)\n",
    "    lower_and_upper[col] = (lowerbound, upperbound)\n",
    "    x_train_copy.loc[(x_train_copy.loc[:,col] < lowerbound), col] = lowerbound * 0.75\n",
    "    x_train_copy.loc[(x_train_copy.loc[:,col] > upperbound), col] = upperbound * 1.25"
   ]
  },
  {
   "cell_type": "code",
   "execution_count": 12,
   "metadata": {},
   "outputs": [
    {
     "data": {
      "text/plain": [
       "{'residueCount': (-665.0, 1711.0),\n",
       " 'resolution': (0.7500000000000002, 3.55),\n",
       " 'structureMolecularWeight': (-75687.66250000003, 195805.41750000004),\n",
       " 'crystallizationTempK': (282.5, 302.5),\n",
       " 'densityMatthews': (1.1850000000000003, 3.9450000000000003),\n",
       " 'densityPercentSol': (24.389999999999993, 77.75)}"
      ]
     },
     "execution_count": 12,
     "metadata": {},
     "output_type": "execute_result"
    }
   ],
   "source": [
    "lower_and_upper"
   ]
  },
  {
   "cell_type": "code",
   "execution_count": 13,
   "metadata": {},
   "outputs": [],
   "source": [
    "x_test_copy = x_test.copy()\n",
    "for col in columns.columns:\n",
    "    x_test_copy.loc[(x_test_copy.loc[:,col] < lower_and_upper[col][0]), col] = lower_and_upper[col][0] * 0.75\n",
    "    x_test_copy.loc[(x_test_copy.loc[:,col] > lower_and_upper[col][1]), col] = lower_and_upper[col][1] * 1.25"
   ]
  },
  {
   "cell_type": "code",
   "execution_count": 14,
   "metadata": {},
   "outputs": [
    {
     "data": {
      "text/plain": [
       "<matplotlib.axes._subplots.AxesSubplot at 0x21c9cf674c8>"
      ]
     },
     "execution_count": 14,
     "metadata": {},
     "output_type": "execute_result"
    },
    {
     "data": {
      "image/png": "[encoded data removed]",
      "text/plain": [
       "<Figure size 432x288 with 1 Axes>"
      ]
     },
     "metadata": {
      "needs_background": "light"
     },
     "output_type": "display_data"
    }
   ],
   "source": [
    "sns.boxplot(x_test_copy.residueCount)"
   ]
  },
  {
   "cell_type": "code",
   "execution_count": 15,
   "metadata": {},
   "outputs": [
    {
     "data": {
      "text/plain": [
       "<matplotlib.axes._subplots.AxesSubplot at 0x21c9e070408>"
      ]
     },
     "execution_count": 15,
     "metadata": {},
     "output_type": "execute_result"
    },
    {
     "data": {
      "image/png": "[encoded data removed]",
      "text/plain": [
       "<Figure size 432x288 with 1 Axes>"
      ]
     },
     "metadata": {
      "needs_background": "light"
     },
     "output_type": "display_data"
    }
   ],
   "source": [
    "sns.boxplot(x_train_copy.residueCount)"
   ]
  },
  {
   "cell_type": "markdown",
   "metadata": {},
   "source": [
    "### 3.1) Baskılama Yöntemi"
   ]
  },
  {
   "cell_type": "code",
   "execution_count": 1,
   "metadata": {},
   "outputs": [],
   "source": [
    "import pandas as pd\n",
    "import numpy as np\n",
    "import seaborn as sns\n",
    "from sklearn.model_selection import train_test_split\n",
    "pd.options.mode.chained_assignment = None"
   ]
  },
  {
   "cell_type": "code",
   "execution_count": 2,
   "metadata": {},
   "outputs": [],
   "source": [
    "df = pd.read_csv(r\"pdb_data_no_dups.csv\")"
   ]
  },
  {
   "cell_type": "code",
   "execution_count": 3,
   "metadata": {},
   "outputs": [
    {
     "name": "stdout",
     "output_type": "stream",
     "text": [
      "<class 'pandas.core.frame.DataFrame'>\n",
      "RangeIndex: 141401 entries, 0 to 141400\n",
      "Data columns (total 14 columns):\n",
      "structureId                 141401 non-null object\n",
      "classification              141399 non-null object\n",
      "experimentalTechnique       141401 non-null object\n",
      "macromoleculeType           137636 non-null object\n",
      "residueCount                141401 non-null int64\n",
      "resolution                  128589 non-null float64\n",
      "structureMolecularWeight    141401 non-null float64\n",
      "crystallizationMethod       96242 non-null object\n",
      "crystallizationTempK        97039 non-null float64\n",
      "densityMatthews             124724 non-null float64\n",
      "densityPercentSol           124749 non-null float64\n",
      "pdbxDetails                 118534 non-null object\n",
      "phValue                     105110 non-null float64\n",
      "publicationYear             117602 non-null float64\n",
      "dtypes: float64(7), int64(1), object(6)\n",
      "memory usage: 15.1+ MB\n"
     ]
    }
   ],
   "source": [
    "df.info()"
   ]
  },
  {
   "cell_type": "code",
   "execution_count": 4,
   "metadata": {},
   "outputs": [
    {
     "data": {
      "text/html": [
       "<div>\n",
       "<style scoped>\n",
       "    .dataframe tbody tr th:only-of-type {\n",
       "        vertical-align: middle;\n",
       "    }\n",
       "\n",
       "    .dataframe tbody tr th {\n",
       "        vertical-align: top;\n",
       "    }\n",
       "\n",
       "    .dataframe thead th {\n",
       "        text-align: right;\n",
       "    }\n",
       "</style>\n",
       "<table border=\"1\" class=\"dataframe\">\n",
       "  <thead>\n",
       "    <tr style=\"text-align: right;\">\n",
       "      <th></th>\n",
       "      <th>count</th>\n",
       "      <th>mean</th>\n",
       "      <th>std</th>\n",
       "      <th>min</th>\n",
       "      <th>25%</th>\n",
       "      <th>50%</th>\n",
       "      <th>75%</th>\n",
       "      <th>max</th>\n",
       "    </tr>\n",
       "  </thead>\n",
       "  <tbody>\n",
       "    <tr>\n",
       "      <td>residueCount</td>\n",
       "      <td>141401.0</td>\n",
       "      <td>825.374849</td>\n",
       "      <td>2136.461080</td>\n",
       "      <td>0.00</td>\n",
       "      <td>226.00</td>\n",
       "      <td>414.00</td>\n",
       "      <td>820.00</td>\n",
       "      <td>313236.0</td>\n",
       "    </tr>\n",
       "    <tr>\n",
       "      <td>resolution</td>\n",
       "      <td>128589.0</td>\n",
       "      <td>2.263807</td>\n",
       "      <td>1.410878</td>\n",
       "      <td>0.48</td>\n",
       "      <td>1.80</td>\n",
       "      <td>2.10</td>\n",
       "      <td>2.50</td>\n",
       "      <td>70.0</td>\n",
       "    </tr>\n",
       "    <tr>\n",
       "      <td>structureMolecularWeight</td>\n",
       "      <td>141401.0</td>\n",
       "      <td>112079.000614</td>\n",
       "      <td>569015.201457</td>\n",
       "      <td>314.38</td>\n",
       "      <td>26128.56</td>\n",
       "      <td>47477.79</td>\n",
       "      <td>94084.84</td>\n",
       "      <td>97730536.0</td>\n",
       "    </tr>\n",
       "    <tr>\n",
       "      <td>crystallizationTempK</td>\n",
       "      <td>97039.0</td>\n",
       "      <td>290.967713</td>\n",
       "      <td>9.541080</td>\n",
       "      <td>4.00</td>\n",
       "      <td>290.00</td>\n",
       "      <td>293.00</td>\n",
       "      <td>295.00</td>\n",
       "      <td>398.0</td>\n",
       "    </tr>\n",
       "    <tr>\n",
       "      <td>densityMatthews</td>\n",
       "      <td>124724.0</td>\n",
       "      <td>2.670267</td>\n",
       "      <td>0.783740</td>\n",
       "      <td>0.00</td>\n",
       "      <td>2.21</td>\n",
       "      <td>2.49</td>\n",
       "      <td>2.91</td>\n",
       "      <td>99.0</td>\n",
       "    </tr>\n",
       "    <tr>\n",
       "      <td>densityPercentSol</td>\n",
       "      <td>124749.0</td>\n",
       "      <td>51.353163</td>\n",
       "      <td>10.104561</td>\n",
       "      <td>0.00</td>\n",
       "      <td>44.37</td>\n",
       "      <td>50.50</td>\n",
       "      <td>57.71</td>\n",
       "      <td>92.0</td>\n",
       "    </tr>\n",
       "    <tr>\n",
       "      <td>phValue</td>\n",
       "      <td>105110.0</td>\n",
       "      <td>6.788685</td>\n",
       "      <td>2.556819</td>\n",
       "      <td>0.00</td>\n",
       "      <td>6.00</td>\n",
       "      <td>7.00</td>\n",
       "      <td>7.50</td>\n",
       "      <td>724.0</td>\n",
       "    </tr>\n",
       "    <tr>\n",
       "      <td>publicationYear</td>\n",
       "      <td>117602.0</td>\n",
       "      <td>2008.922365</td>\n",
       "      <td>8.459286</td>\n",
       "      <td>201.00</td>\n",
       "      <td>2005.00</td>\n",
       "      <td>2010.00</td>\n",
       "      <td>2014.00</td>\n",
       "      <td>2018.0</td>\n",
       "    </tr>\n",
       "  </tbody>\n",
       "</table>\n",
       "</div>"
      ],
      "text/plain": [
       "                             count           mean            std     min  \\\n",
       "residueCount              141401.0     825.374849    2136.461080    0.00   \n",
       "resolution                128589.0       2.263807       1.410878    0.48   \n",
       "structureMolecularWeight  141401.0  112079.000614  569015.201457  314.38   \n",
       "crystallizationTempK       97039.0     290.967713       9.541080    4.00   \n",
       "densityMatthews           124724.0       2.670267       0.783740    0.00   \n",
       "densityPercentSol         124749.0      51.353163      10.104561    0.00   \n",
       "phValue                   105110.0       6.788685       2.556819    0.00   \n",
       "publicationYear           117602.0    2008.922365       8.459286  201.00   \n",
       "\n",
       "                               25%       50%       75%         max  \n",
       "residueCount                226.00    414.00    820.00    313236.0  \n",
       "resolution                    1.80      2.10      2.50        70.0  \n",
       "structureMolecularWeight  26128.56  47477.79  94084.84  97730536.0  \n",
       "crystallizationTempK        290.00    293.00    295.00       398.0  \n",
       "densityMatthews               2.21      2.49      2.91        99.0  \n",
       "densityPercentSol            44.37     50.50     57.71        92.0  \n",
       "phValue                       6.00      7.00      7.50       724.0  \n",
       "publicationYear            2005.00   2010.00   2014.00      2018.0  "
      ]
     },
     "execution_count": 4,
     "metadata": {},
     "output_type": "execute_result"
    }
   ],
   "source": [
    "df.describe().T"
   ]
  },
  {
   "cell_type": "markdown",
   "metadata": {},
   "source": [
    "* **Outlier temizlenecegi zaman kategorik degiskenler disarida birakilarak numeric degiskenler uzerinden gidip ona gore Upper ve Lower degerler belirlenir.**"
   ]
  },
  {
   "cell_type": "markdown",
   "metadata": {},
   "source": [
    "* **Bu nokta da bagimli degisken olarak bildiklerimiz kadariyla ele alacagimiz degisken DensityMatthews yani yogunluk olacaktir. Protenin molekul yogunlugu. Bu su demek degildir kesin olarak bagimli degisken DensityMatthews'dir diyemeyiz malum veri setinin is bilgisine pek hakim degiliz. Biz bildiklerimiz kadariyla bir baglanti kurup bunun uzerinden bir cikarim yapiyoruz.**"
   ]
  },
  {
   "cell_type": "code",
   "execution_count": 5,
   "metadata": {},
   "outputs": [],
   "source": [
    "dfnum = df.select_dtypes(include = [\"int64\", \"float64\"])\n",
    "#dfnum = dfnum.dropna()"
   ]
  },
  {
   "cell_type": "code",
   "execution_count": 6,
   "metadata": {},
   "outputs": [],
   "source": [
    "y = dfnum.densityMatthews\n",
    "X = dfnum.drop('densityMatthews',axis=1)"
   ]
  },
  {
   "cell_type": "code",
   "execution_count": 7,
   "metadata": {},
   "outputs": [
    {
     "data": {
      "text/plain": [
       "0         1.78\n",
       "1         2.00\n",
       "2         3.09\n",
       "3         2.28\n",
       "4         2.75\n",
       "          ... \n",
       "141396    2.38\n",
       "141397    3.17\n",
       "141398    2.50\n",
       "141399    2.79\n",
       "141400    3.96\n",
       "Name: densityMatthews, Length: 141401, dtype: float64"
      ]
     },
     "execution_count": 7,
     "metadata": {},
     "output_type": "execute_result"
    }
   ],
   "source": [
    "y"
   ]
  },
  {
   "cell_type": "code",
   "execution_count": 8,
   "metadata": {},
   "outputs": [
    {
     "data": {
      "text/html": [
       "<div>\n",
       "<style scoped>\n",
       "    .dataframe tbody tr th:only-of-type {\n",
       "        vertical-align: middle;\n",
       "    }\n",
       "\n",
       "    .dataframe tbody tr th {\n",
       "        vertical-align: top;\n",
       "    }\n",
       "\n",
       "    .dataframe thead th {\n",
       "        text-align: right;\n",
       "    }\n",
       "</style>\n",
       "<table border=\"1\" class=\"dataframe\">\n",
       "  <thead>\n",
       "    <tr style=\"text-align: right;\">\n",
       "      <th></th>\n",
       "      <th>residueCount</th>\n",
       "      <th>resolution</th>\n",
       "      <th>structureMolecularWeight</th>\n",
       "      <th>crystallizationTempK</th>\n",
       "      <th>densityPercentSol</th>\n",
       "      <th>phValue</th>\n",
       "      <th>publicationYear</th>\n",
       "    </tr>\n",
       "  </thead>\n",
       "  <tbody>\n",
       "    <tr>\n",
       "      <td>0</td>\n",
       "      <td>20</td>\n",
       "      <td>1.90</td>\n",
       "      <td>6360.30</td>\n",
       "      <td>NaN</td>\n",
       "      <td>30.89</td>\n",
       "      <td>7.0</td>\n",
       "      <td>1994.0</td>\n",
       "    </tr>\n",
       "    <tr>\n",
       "      <td>1</td>\n",
       "      <td>24</td>\n",
       "      <td>2.25</td>\n",
       "      <td>7939.35</td>\n",
       "      <td>NaN</td>\n",
       "      <td>38.45</td>\n",
       "      <td>NaN</td>\n",
       "      <td>1995.0</td>\n",
       "    </tr>\n",
       "    <tr>\n",
       "      <td>2</td>\n",
       "      <td>154</td>\n",
       "      <td>2.07</td>\n",
       "      <td>18112.80</td>\n",
       "      <td>NaN</td>\n",
       "      <td>60.20</td>\n",
       "      <td>9.0</td>\n",
       "      <td>1999.0</td>\n",
       "    </tr>\n",
       "    <tr>\n",
       "      <td>3</td>\n",
       "      <td>24</td>\n",
       "      <td>2.20</td>\n",
       "      <td>7637.17</td>\n",
       "      <td>277.0</td>\n",
       "      <td>46.06</td>\n",
       "      <td>7.0</td>\n",
       "      <td>1995.0</td>\n",
       "    </tr>\n",
       "    <tr>\n",
       "      <td>4</td>\n",
       "      <td>165</td>\n",
       "      <td>1.74</td>\n",
       "      <td>18926.61</td>\n",
       "      <td>NaN</td>\n",
       "      <td>55.28</td>\n",
       "      <td>NaN</td>\n",
       "      <td>1993.0</td>\n",
       "    </tr>\n",
       "    <tr>\n",
       "      <td>...</td>\n",
       "      <td>...</td>\n",
       "      <td>...</td>\n",
       "      <td>...</td>\n",
       "      <td>...</td>\n",
       "      <td>...</td>\n",
       "      <td>...</td>\n",
       "      <td>...</td>\n",
       "    </tr>\n",
       "    <tr>\n",
       "      <td>141396</td>\n",
       "      <td>932</td>\n",
       "      <td>2.60</td>\n",
       "      <td>101838.68</td>\n",
       "      <td>NaN</td>\n",
       "      <td>48.29</td>\n",
       "      <td>NaN</td>\n",
       "      <td>1991.0</td>\n",
       "    </tr>\n",
       "    <tr>\n",
       "      <td>141397</td>\n",
       "      <td>0</td>\n",
       "      <td>NaN</td>\n",
       "      <td>24244.34</td>\n",
       "      <td>NaN</td>\n",
       "      <td>61.18</td>\n",
       "      <td>NaN</td>\n",
       "      <td>1986.0</td>\n",
       "    </tr>\n",
       "    <tr>\n",
       "      <td>141398</td>\n",
       "      <td>342</td>\n",
       "      <td>1.80</td>\n",
       "      <td>34270.22</td>\n",
       "      <td>NaN</td>\n",
       "      <td>50.76</td>\n",
       "      <td>NaN</td>\n",
       "      <td>1990.0</td>\n",
       "    </tr>\n",
       "    <tr>\n",
       "      <td>141399</td>\n",
       "      <td>388</td>\n",
       "      <td>1.90</td>\n",
       "      <td>43542.29</td>\n",
       "      <td>NaN</td>\n",
       "      <td>55.93</td>\n",
       "      <td>NaN</td>\n",
       "      <td>1989.0</td>\n",
       "    </tr>\n",
       "    <tr>\n",
       "      <td>141400</td>\n",
       "      <td>1572</td>\n",
       "      <td>2.40</td>\n",
       "      <td>174722.12</td>\n",
       "      <td>NaN</td>\n",
       "      <td>68.92</td>\n",
       "      <td>NaN</td>\n",
       "      <td>1992.0</td>\n",
       "    </tr>\n",
       "  </tbody>\n",
       "</table>\n",
       "<p>141401 rows × 7 columns</p>\n",
       "</div>"
      ],
      "text/plain": [
       "        residueCount  resolution  structureMolecularWeight  \\\n",
       "0                 20        1.90                   6360.30   \n",
       "1                 24        2.25                   7939.35   \n",
       "2                154        2.07                  18112.80   \n",
       "3                 24        2.20                   7637.17   \n",
       "4                165        1.74                  18926.61   \n",
       "...              ...         ...                       ...   \n",
       "141396           932        2.60                 101838.68   \n",
       "141397             0         NaN                  24244.34   \n",
       "141398           342        1.80                  34270.22   \n",
       "141399           388        1.90                  43542.29   \n",
       "141400          1572        2.40                 174722.12   \n",
       "\n",
       "        crystallizationTempK  densityPercentSol  phValue  publicationYear  \n",
       "0                        NaN              30.89      7.0           1994.0  \n",
       "1                        NaN              38.45      NaN           1995.0  \n",
       "2                        NaN              60.20      9.0           1999.0  \n",
       "3                      277.0              46.06      7.0           1995.0  \n",
       "4                        NaN              55.28      NaN           1993.0  \n",
       "...                      ...                ...      ...              ...  \n",
       "141396                   NaN              48.29      NaN           1991.0  \n",
       "141397                   NaN              61.18      NaN           1986.0  \n",
       "141398                   NaN              50.76      NaN           1990.0  \n",
       "141399                   NaN              55.93      NaN           1989.0  \n",
       "141400                   NaN              68.92      NaN           1992.0  \n",
       "\n",
       "[141401 rows x 7 columns]"
      ]
     },
     "execution_count": 8,
     "metadata": {},
     "output_type": "execute_result"
    }
   ],
   "source": [
    "X"
   ]
  },
  {
   "cell_type": "markdown",
   "metadata": {},
   "source": [
    "* **Bu kisimda Train icin veri setinin %80 degerini Test icin ise %20 degerini parcaladik.**"
   ]
  },
  {
   "cell_type": "code",
   "execution_count": 9,
   "metadata": {},
   "outputs": [],
   "source": [
    "X_train, X_test, y_train, y_test = train_test_split(X, y, test_size=0.2,random_state = 123)"
   ]
  },
  {
   "cell_type": "markdown",
   "metadata": {},
   "source": [
    "* **Train deki birkac degiskeni gorsellestirelim boxplot ile**"
   ]
  },
  {
   "cell_type": "code",
   "execution_count": 10,
   "metadata": {},
   "outputs": [
    {
     "data": {
      "text/plain": [
       "<matplotlib.axes._subplots.AxesSubplot at 0x1ded48df488>"
      ]
     },
     "execution_count": 10,
     "metadata": {},
     "output_type": "execute_result"
    },
    {
     "data": {
      "image/png": "[encoded data removed]",
      "text/plain": [
       "<Figure size 432x288 with 1 Axes>"
      ]
     },
     "metadata": {
      "needs_background": "light"
     },
     "output_type": "display_data"
    }
   ],
   "source": [
    "sns.boxplot(x = \"crystallizationTempK\",data = X_train)\n"
   ]
  },
  {
   "cell_type": "code",
   "execution_count": 11,
   "metadata": {},
   "outputs": [
    {
     "data": {
      "text/plain": [
       "<matplotlib.axes._subplots.AxesSubplot at 0x1ded48a2388>"
      ]
     },
     "execution_count": 11,
     "metadata": {},
     "output_type": "execute_result"
    },
    {
     "data": {
      "image/png": "[encoded data removed]",
      "text/plain": [
       "<Figure size 432x288 with 1 Axes>"
      ]
     },
     "metadata": {
      "needs_background": "light"
     },
     "output_type": "display_data"
    }
   ],
   "source": [
    "sns.boxplot(x =\"structureMolecularWeight\",data = X_train)"
   ]
  },
  {
   "cell_type": "code",
   "execution_count": 12,
   "metadata": {},
   "outputs": [
    {
     "data": {
      "text/plain": [
       "<matplotlib.axes._subplots.AxesSubplot at 0x1ded722cf08>"
      ]
     },
     "execution_count": 12,
     "metadata": {},
     "output_type": "execute_result"
    },
    {
     "data": {
      "image/png": "[encoded data removed]",
      "text/plain": [
       "<Figure size 432x288 with 1 Axes>"
      ]
     },
     "metadata": {
      "needs_background": "light"
     },
     "output_type": "display_data"
    }
   ],
   "source": [
    "sns.boxplot(x =\"residueCount\",data = X_train)"
   ]
  },
  {
   "cell_type": "markdown",
   "metadata": {},
   "source": [
    "* **Simdi sirada en sik kullanilan yontemlerden biri olan Quantiller a gore alt ve ust sinir belirleyecegiz**"
   ]
  },
  {
   "cell_type": "code",
   "execution_count": 13,
   "metadata": {},
   "outputs": [],
   "source": [
    "Q1 = X_train.quantile(0.25)\n",
    "Q3 = X_train.quantile(0.75)\n",
    "IQR = Q3 - Q1 "
   ]
  },
  {
   "cell_type": "code",
   "execution_count": 14,
   "metadata": {},
   "outputs": [
    {
     "data": {
      "text/plain": [
       "residueCount                  226.000\n",
       "resolution                      1.800\n",
       "structureMolecularWeight    26108.035\n",
       "crystallizationTempK          290.000\n",
       "densityPercentSol              44.390\n",
       "phValue                         6.000\n",
       "publicationYear              2005.000\n",
       "Name: 0.25, dtype: float64"
      ]
     },
     "execution_count": 14,
     "metadata": {},
     "output_type": "execute_result"
    }
   ],
   "source": [
    "Q1"
   ]
  },
  {
   "cell_type": "code",
   "execution_count": 15,
   "metadata": {},
   "outputs": [
    {
     "data": {
      "text/plain": [
       "residueCount                  821.000\n",
       "resolution                      2.500\n",
       "structureMolecularWeight    94097.155\n",
       "crystallizationTempK          295.000\n",
       "densityPercentSol              57.700\n",
       "phValue                         7.500\n",
       "publicationYear              2014.000\n",
       "Name: 0.75, dtype: float64"
      ]
     },
     "execution_count": 15,
     "metadata": {},
     "output_type": "execute_result"
    }
   ],
   "source": [
    "Q3"
   ]
  },
  {
   "cell_type": "code",
   "execution_count": 16,
   "metadata": {},
   "outputs": [
    {
     "data": {
      "text/plain": [
       "residueCount                  595.00\n",
       "resolution                      0.70\n",
       "structureMolecularWeight    67989.12\n",
       "crystallizationTempK            5.00\n",
       "densityPercentSol              13.31\n",
       "phValue                         1.50\n",
       "publicationYear                 9.00\n",
       "dtype: float64"
      ]
     },
     "execution_count": 16,
     "metadata": {},
     "output_type": "execute_result"
    }
   ],
   "source": [
    "IQR"
   ]
  },
  {
   "cell_type": "code",
   "execution_count": 17,
   "metadata": {},
   "outputs": [],
   "source": [
    "alt_sinir = Q1 - 1.5 * IQR\n",
    "ust_sinir = Q3 + 1.5 * IQR\n"
   ]
  },
  {
   "cell_type": "markdown",
   "metadata": {},
   "source": [
    "* **Belirledigimiz alt ve ust sinirlara gore outlier degerlerini bulup onlari farkli metodlar ile isleyecegiz.**"
   ]
  },
  {
   "cell_type": "code",
   "execution_count": 18,
   "metadata": {},
   "outputs": [
    {
     "data": {
      "text/plain": [
       "residueCount                 -666.500\n",
       "resolution                      0.750\n",
       "structureMolecularWeight   -75875.645\n",
       "crystallizationTempK          282.500\n",
       "densityPercentSol              24.425\n",
       "phValue                         3.750\n",
       "publicationYear              1991.500\n",
       "dtype: float64"
      ]
     },
     "execution_count": 18,
     "metadata": {},
     "output_type": "execute_result"
    }
   ],
   "source": [
    "alt_sinir"
   ]
  },
  {
   "cell_type": "code",
   "execution_count": 19,
   "metadata": {},
   "outputs": [
    {
     "data": {
      "text/plain": [
       "residueCount                  1713.500\n",
       "resolution                       3.550\n",
       "structureMolecularWeight    196080.835\n",
       "crystallizationTempK           302.500\n",
       "densityPercentSol               77.665\n",
       "phValue                          9.750\n",
       "publicationYear               2027.500\n",
       "dtype: float64"
      ]
     },
     "execution_count": 19,
     "metadata": {},
     "output_type": "execute_result"
    }
   ],
   "source": [
    "ust_sinir"
   ]
  },
  {
   "cell_type": "markdown",
   "metadata": {},
   "source": [
    "* **Toplu sekilde aykiri deger doldurma ve degisken degisken aykiri deger doldurma yontemleri vardir. Biz bu adimda degiskenleri tek tek ele alip aykiri degerleri dolduracagiz.**"
   ]
  },
  {
   "cell_type": "code",
   "execution_count": 20,
   "metadata": {},
   "outputs": [],
   "source": [
    "residueCount = X_train[\"residueCount\"]"
   ]
  },
  {
   "cell_type": "code",
   "execution_count": 21,
   "metadata": {},
   "outputs": [
    {
     "data": {
      "text/plain": [
       "127859    False\n",
       "53676     False\n",
       "69506     False\n",
       "101161    False\n",
       "42528     False\n",
       "          ...  \n",
       "129130    False\n",
       "119906     True\n",
       "17730     False\n",
       "28030     False\n",
       "15725     False\n",
       "Name: residueCount, Length: 113120, dtype: bool"
      ]
     },
     "execution_count": 21,
     "metadata": {},
     "output_type": "execute_result"
    }
   ],
   "source": [
    "(residueCount < alt_sinir.residueCount) | (residueCount > ust_sinir.residueCount)"
   ]
  },
  {
   "cell_type": "code",
   "execution_count": 22,
   "metadata": {},
   "outputs": [],
   "source": [
    "RCount_upper = (residueCount > ust_sinir.residueCount)"
   ]
  },
  {
   "cell_type": "code",
   "execution_count": 23,
   "metadata": {},
   "outputs": [],
   "source": [
    "RCount_lower = (residueCount < alt_sinir.residueCount)"
   ]
  },
  {
   "cell_type": "markdown",
   "metadata": {},
   "source": [
    "* **Alt ust sinirlari belirledik simdi baskilama yontemi(alt sinir altini alt sinira esitle, ust sinirin ustunu de ust sinira esitle) ile bu aykiri degerleri dolduralim.** "
   ]
  },
  {
   "cell_type": "code",
   "execution_count": 24,
   "metadata": {},
   "outputs": [
    {
     "data": {
      "text/plain": [
       "117981    1713.5\n",
       "39054     1713.5\n",
       "68829     1713.5\n",
       "113290    1713.5\n",
       "138535    1713.5\n",
       "           ...  \n",
       "9705      1713.5\n",
       "64025     1713.5\n",
       "120775    1713.5\n",
       "53659     1713.5\n",
       "119906    1713.5\n",
       "Name: residueCount, Length: 9654, dtype: float64"
      ]
     },
     "execution_count": 24,
     "metadata": {},
     "output_type": "execute_result"
    }
   ],
   "source": [
    "# Ust siniri dolduruyoruz\n",
    "\n",
    "X_train[\"residueCount\"][RCount_upper] = ust_sinir.residueCount\n",
    "X_train[\"residueCount\"][RCount_upper]\n",
    "\n",
    "# Yeni \"residueCount\" degiskenimiz de ust sinirdaki tum degerleri doldurduk "
   ]
  },
  {
   "cell_type": "code",
   "execution_count": 25,
   "metadata": {},
   "outputs": [
    {
     "data": {
      "text/plain": [
       "Series([], Name: residueCount, dtype: float64)"
      ]
     },
     "execution_count": 25,
     "metadata": {},
     "output_type": "execute_result"
    }
   ],
   "source": [
    "# Ayni sekilde ust siniri da baskilama yontemi ile dolduruyoruz\n",
    "\n",
    "X_train[\"residueCount\"][RCount_lower] = alt_sinir.residueCount\n",
    "X_train[\"residueCount\"][RCount_lower]\n",
    "\n",
    "# Alt sinirin altinda deger olmadigi icin bos bir seri goruyoruz "
   ]
  },
  {
   "cell_type": "markdown",
   "metadata": {},
   "source": [
    "* **3 Adet degisken gorsellestirmistik oncesinde sirasiyla hepsinin outlier degerlerini temizleyip tekrardan ortaya cikan gorsellere bakalim.**"
   ]
  },
  {
   "cell_type": "code",
   "execution_count": 26,
   "metadata": {},
   "outputs": [
    {
     "data": {
      "text/plain": [
       "<matplotlib.axes._subplots.AxesSubplot at 0x1ded72e9a48>"
      ]
     },
     "execution_count": 26,
     "metadata": {},
     "output_type": "execute_result"
    },
    {
     "data": {
      "image/png": "[encoded data removed]",
      "text/plain": [
       "<Figure size 432x288 with 1 Axes>"
      ]
     },
     "metadata": {
      "needs_background": "light"
     },
     "output_type": "display_data"
    }
   ],
   "source": [
    "sns.boxplot(x =\"residueCount\",data = X_train)"
   ]
  },
  {
   "cell_type": "code",
   "execution_count": 27,
   "metadata": {},
   "outputs": [],
   "source": [
    "# Bir diger degiskene geciyoruz \"crystallizationTempK\"\n",
    "\n",
    "crystallizationKelvin = X_train[\"crystallizationTempK\"]"
   ]
  },
  {
   "cell_type": "code",
   "execution_count": 28,
   "metadata": {},
   "outputs": [
    {
     "data": {
      "text/plain": [
       "127859    False\n",
       "53676     False\n",
       "69506     False\n",
       "101161    False\n",
       "42528     False\n",
       "          ...  \n",
       "129130    False\n",
       "119906    False\n",
       "17730     False\n",
       "28030     False\n",
       "15725     False\n",
       "Name: crystallizationTempK, Length: 113120, dtype: bool"
      ]
     },
     "execution_count": 28,
     "metadata": {},
     "output_type": "execute_result"
    }
   ],
   "source": [
    "(crystallizationKelvin < alt_sinir.crystallizationTempK) | (crystallizationKelvin > ust_sinir.crystallizationTempK)"
   ]
  },
  {
   "cell_type": "code",
   "execution_count": 29,
   "metadata": {},
   "outputs": [],
   "source": [
    "upper = (crystallizationKelvin > ust_sinir.crystallizationTempK)\n",
    "lower = (crystallizationKelvin < alt_sinir.crystallizationTempK)"
   ]
  },
  {
   "cell_type": "code",
   "execution_count": 30,
   "metadata": {},
   "outputs": [
    {
     "data": {
      "text/plain": [
       "104381    302.5\n",
       "127398    302.5\n",
       "83789     302.5\n",
       "94533     302.5\n",
       "96153     302.5\n",
       "          ...  \n",
       "127950    302.5\n",
       "38096     302.5\n",
       "97813     302.5\n",
       "22966     302.5\n",
       "18912     302.5\n",
       "Name: crystallizationTempK, Length: 531, dtype: float64"
      ]
     },
     "execution_count": 30,
     "metadata": {},
     "output_type": "execute_result"
    }
   ],
   "source": [
    "X_train[\"crystallizationTempK\"][upper] = ust_sinir.crystallizationTempK\n",
    "X_train[\"crystallizationTempK\"][upper]"
   ]
  },
  {
   "cell_type": "code",
   "execution_count": 31,
   "metadata": {},
   "outputs": [
    {
     "data": {
      "text/plain": [
       "18236     282.5\n",
       "23215     282.5\n",
       "119067    282.5\n",
       "3962      282.5\n",
       "114627    282.5\n",
       "          ...  \n",
       "140682    282.5\n",
       "66978     282.5\n",
       "20355     282.5\n",
       "30255     282.5\n",
       "118857    282.5\n",
       "Name: crystallizationTempK, Length: 12843, dtype: float64"
      ]
     },
     "execution_count": 31,
     "metadata": {},
     "output_type": "execute_result"
    }
   ],
   "source": [
    "X_train[\"crystallizationTempK\"][lower] = alt_sinir.crystallizationTempK\n",
    "X_train[\"crystallizationTempK\"][lower]"
   ]
  },
  {
   "cell_type": "code",
   "execution_count": 32,
   "metadata": {},
   "outputs": [
    {
     "data": {
      "text/plain": [
       "<matplotlib.axes._subplots.AxesSubplot at 0x1ded735f8c8>"
      ]
     },
     "execution_count": 32,
     "metadata": {},
     "output_type": "execute_result"
    },
    {
     "data": {
      "image/png": "[encoded data removed]",
      "text/plain": [
       "<Figure size 432x288 with 1 Axes>"
      ]
     },
     "metadata": {
      "needs_background": "light"
     },
     "output_type": "display_data"
    }
   ],
   "source": [
    "sns.boxplot(x = \"crystallizationTempK\",data = X_train)"
   ]
  },
  {
   "cell_type": "markdown",
   "metadata": {},
   "source": [
    "*  **Son olarak da diger degiskene geciyoruz MolekulAgirligi**"
   ]
  },
  {
   "cell_type": "code",
   "execution_count": 33,
   "metadata": {},
   "outputs": [
    {
     "data": {
      "text/plain": [
       "127859     48371.56\n",
       "53676      95906.59\n",
       "69506      21152.80\n",
       "101161    115361.30\n",
       "42528      15956.92\n",
       "            ...    \n",
       "129130     55486.14\n",
       "119906    198939.28\n",
       "17730     129524.31\n",
       "28030       9274.51\n",
       "15725      67795.38\n",
       "Name: structureMolecularWeight, Length: 113120, dtype: float64"
      ]
     },
     "execution_count": 33,
     "metadata": {},
     "output_type": "execute_result"
    }
   ],
   "source": [
    "MolekularWeight = X_train[\"structureMolecularWeight\"]\n",
    "MolekularWeight"
   ]
  },
  {
   "cell_type": "code",
   "execution_count": 34,
   "metadata": {},
   "outputs": [
    {
     "data": {
      "text/plain": [
       "127859    False\n",
       "53676     False\n",
       "69506     False\n",
       "101161    False\n",
       "42528     False\n",
       "          ...  \n",
       "129130    False\n",
       "119906     True\n",
       "17730     False\n",
       "28030     False\n",
       "15725     False\n",
       "Name: structureMolecularWeight, Length: 113120, dtype: bool"
      ]
     },
     "execution_count": 34,
     "metadata": {},
     "output_type": "execute_result"
    }
   ],
   "source": [
    "(MolekularWeight < alt_sinir.structureMolecularWeight) | (MolekularWeight > ust_sinir.structureMolecularWeight)"
   ]
  },
  {
   "cell_type": "code",
   "execution_count": 35,
   "metadata": {},
   "outputs": [],
   "source": [
    "upper = (MolekularWeight > ust_sinir.structureMolecularWeight)\n",
    "lower = (MolekularWeight < alt_sinir.structureMolecularWeight)"
   ]
  },
  {
   "cell_type": "code",
   "execution_count": 36,
   "metadata": {},
   "outputs": [
    {
     "data": {
      "text/plain": [
       "117981    196080.835\n",
       "39054     196080.835\n",
       "68829     196080.835\n",
       "113290    196080.835\n",
       "138535    196080.835\n",
       "             ...    \n",
       "9705      196080.835\n",
       "64025     196080.835\n",
       "120775    196080.835\n",
       "53659     196080.835\n",
       "119906    196080.835\n",
       "Name: structureMolecularWeight, Length: 9821, dtype: float64"
      ]
     },
     "execution_count": 36,
     "metadata": {},
     "output_type": "execute_result"
    }
   ],
   "source": [
    "X_train[\"structureMolecularWeight\"][upper] = ust_sinir.structureMolecularWeight\n",
    "X_train[\"structureMolecularWeight\"][upper]"
   ]
  },
  {
   "cell_type": "code",
   "execution_count": 37,
   "metadata": {},
   "outputs": [
    {
     "data": {
      "text/plain": [
       "117981   -75875.645\n",
       "39054    -75875.645\n",
       "68829    -75875.645\n",
       "113290   -75875.645\n",
       "138535   -75875.645\n",
       "            ...    \n",
       "9705     -75875.645\n",
       "64025    -75875.645\n",
       "120775   -75875.645\n",
       "53659    -75875.645\n",
       "119906   -75875.645\n",
       "Name: structureMolecularWeight, Length: 9821, dtype: float64"
      ]
     },
     "execution_count": 37,
     "metadata": {},
     "output_type": "execute_result"
    }
   ],
   "source": [
    "X_train[\"structureMolecularWeight\"][upper] = alt_sinir.structureMolecularWeight\n",
    "X_train[\"structureMolecularWeight\"][upper]"
   ]
  },
  {
   "cell_type": "code",
   "execution_count": 38,
   "metadata": {},
   "outputs": [
    {
     "data": {
      "text/plain": [
       "<matplotlib.axes._subplots.AxesSubplot at 0x1ded73c6688>"
      ]
     },
     "execution_count": 38,
     "metadata": {},
     "output_type": "execute_result"
    },
    {
     "data": {
      "image/png": "[encoded data removed]",
      "text/plain": [
       "<Figure size 432x288 with 1 Axes>"
      ]
     },
     "metadata": {
      "needs_background": "light"
     },
     "output_type": "display_data"
    }
   ],
   "source": [
    "sns.boxplot(x = \"structureMolecularWeight\",data = X_train)"
   ]
  },
  {
   "cell_type": "markdown",
   "metadata": {},
   "source": [
    "* **Ayni Alt ve Ust sinirlari Y_train kisminda da birkac degisken icin kullaniyoruz**"
   ]
  },
  {
   "cell_type": "code",
   "execution_count": 39,
   "metadata": {},
   "outputs": [
    {
     "data": {
      "text/plain": [
       "residueCount                 -666.500\n",
       "resolution                      0.750\n",
       "structureMolecularWeight   -75875.645\n",
       "crystallizationTempK          282.500\n",
       "densityPercentSol              24.425\n",
       "phValue                         3.750\n",
       "publicationYear              1991.500\n",
       "dtype: float64"
      ]
     },
     "execution_count": 39,
     "metadata": {},
     "output_type": "execute_result"
    }
   ],
   "source": [
    "alt_sinir"
   ]
  },
  {
   "cell_type": "code",
   "execution_count": 40,
   "metadata": {},
   "outputs": [
    {
     "data": {
      "text/plain": [
       "residueCount                  1713.500\n",
       "resolution                       3.550\n",
       "structureMolecularWeight    196080.835\n",
       "crystallizationTempK           302.500\n",
       "densityPercentSol               77.665\n",
       "phValue                          9.750\n",
       "publicationYear               2027.500\n",
       "dtype: float64"
      ]
     },
     "execution_count": 40,
     "metadata": {},
     "output_type": "execute_result"
    }
   ],
   "source": [
    "ust_sinir"
   ]
  },
  {
   "cell_type": "code",
   "execution_count": 41,
   "metadata": {},
   "outputs": [
    {
     "data": {
      "text/html": [
       "<div>\n",
       "<style scoped>\n",
       "    .dataframe tbody tr th:only-of-type {\n",
       "        vertical-align: middle;\n",
       "    }\n",
       "\n",
       "    .dataframe tbody tr th {\n",
       "        vertical-align: top;\n",
       "    }\n",
       "\n",
       "    .dataframe thead th {\n",
       "        text-align: right;\n",
       "    }\n",
       "</style>\n",
       "<table border=\"1\" class=\"dataframe\">\n",
       "  <thead>\n",
       "    <tr style=\"text-align: right;\">\n",
       "      <th></th>\n",
       "      <th>residueCount</th>\n",
       "      <th>resolution</th>\n",
       "      <th>structureMolecularWeight</th>\n",
       "      <th>crystallizationTempK</th>\n",
       "      <th>densityPercentSol</th>\n",
       "      <th>phValue</th>\n",
       "      <th>publicationYear</th>\n",
       "    </tr>\n",
       "  </thead>\n",
       "  <tbody>\n",
       "    <tr>\n",
       "      <td>45146</td>\n",
       "      <td>38</td>\n",
       "      <td>NaN</td>\n",
       "      <td>12129.84</td>\n",
       "      <td>NaN</td>\n",
       "      <td>NaN</td>\n",
       "      <td>NaN</td>\n",
       "      <td>2012.0</td>\n",
       "    </tr>\n",
       "    <tr>\n",
       "      <td>73091</td>\n",
       "      <td>456</td>\n",
       "      <td>1.60</td>\n",
       "      <td>50517.79</td>\n",
       "      <td>293.00</td>\n",
       "      <td>42.50</td>\n",
       "      <td>8.50</td>\n",
       "      <td>2010.0</td>\n",
       "    </tr>\n",
       "    <tr>\n",
       "      <td>112116</td>\n",
       "      <td>310</td>\n",
       "      <td>1.71</td>\n",
       "      <td>36436.02</td>\n",
       "      <td>NaN</td>\n",
       "      <td>49.66</td>\n",
       "      <td>NaN</td>\n",
       "      <td>2014.0</td>\n",
       "    </tr>\n",
       "    <tr>\n",
       "      <td>130290</td>\n",
       "      <td>408</td>\n",
       "      <td>2.10</td>\n",
       "      <td>44881.47</td>\n",
       "      <td>295.15</td>\n",
       "      <td>56.09</td>\n",
       "      <td>4.25</td>\n",
       "      <td>2016.0</td>\n",
       "    </tr>\n",
       "    <tr>\n",
       "      <td>125403</td>\n",
       "      <td>822</td>\n",
       "      <td>2.15</td>\n",
       "      <td>95342.28</td>\n",
       "      <td>293.00</td>\n",
       "      <td>74.62</td>\n",
       "      <td>5.00</td>\n",
       "      <td>2016.0</td>\n",
       "    </tr>\n",
       "    <tr>\n",
       "      <td>...</td>\n",
       "      <td>...</td>\n",
       "      <td>...</td>\n",
       "      <td>...</td>\n",
       "      <td>...</td>\n",
       "      <td>...</td>\n",
       "      <td>...</td>\n",
       "      <td>...</td>\n",
       "    </tr>\n",
       "    <tr>\n",
       "      <td>120846</td>\n",
       "      <td>308</td>\n",
       "      <td>1.70</td>\n",
       "      <td>34493.99</td>\n",
       "      <td>293.00</td>\n",
       "      <td>43.00</td>\n",
       "      <td>8.00</td>\n",
       "      <td>2016.0</td>\n",
       "    </tr>\n",
       "    <tr>\n",
       "      <td>125235</td>\n",
       "      <td>952</td>\n",
       "      <td>2.74</td>\n",
       "      <td>108210.75</td>\n",
       "      <td>277.00</td>\n",
       "      <td>69.80</td>\n",
       "      <td>5.50</td>\n",
       "      <td>2017.0</td>\n",
       "    </tr>\n",
       "    <tr>\n",
       "      <td>134454</td>\n",
       "      <td>364</td>\n",
       "      <td>1.19</td>\n",
       "      <td>43130.77</td>\n",
       "      <td>298.00</td>\n",
       "      <td>46.72</td>\n",
       "      <td>7.00</td>\n",
       "      <td>2017.0</td>\n",
       "    </tr>\n",
       "    <tr>\n",
       "      <td>66821</td>\n",
       "      <td>1196</td>\n",
       "      <td>2.40</td>\n",
       "      <td>132205.59</td>\n",
       "      <td>296.00</td>\n",
       "      <td>55.44</td>\n",
       "      <td>8.50</td>\n",
       "      <td>2009.0</td>\n",
       "    </tr>\n",
       "    <tr>\n",
       "      <td>13538</td>\n",
       "      <td>205</td>\n",
       "      <td>2.30</td>\n",
       "      <td>23288.50</td>\n",
       "      <td>297.00</td>\n",
       "      <td>48.63</td>\n",
       "      <td>7.50</td>\n",
       "      <td>2002.0</td>\n",
       "    </tr>\n",
       "  </tbody>\n",
       "</table>\n",
       "<p>28281 rows × 7 columns</p>\n",
       "</div>"
      ],
      "text/plain": [
       "        residueCount  resolution  structureMolecularWeight  \\\n",
       "45146             38         NaN                  12129.84   \n",
       "73091            456        1.60                  50517.79   \n",
       "112116           310        1.71                  36436.02   \n",
       "130290           408        2.10                  44881.47   \n",
       "125403           822        2.15                  95342.28   \n",
       "...              ...         ...                       ...   \n",
       "120846           308        1.70                  34493.99   \n",
       "125235           952        2.74                 108210.75   \n",
       "134454           364        1.19                  43130.77   \n",
       "66821           1196        2.40                 132205.59   \n",
       "13538            205        2.30                  23288.50   \n",
       "\n",
       "        crystallizationTempK  densityPercentSol  phValue  publicationYear  \n",
       "45146                    NaN                NaN      NaN           2012.0  \n",
       "73091                 293.00              42.50     8.50           2010.0  \n",
       "112116                   NaN              49.66      NaN           2014.0  \n",
       "130290                295.15              56.09     4.25           2016.0  \n",
       "125403                293.00              74.62     5.00           2016.0  \n",
       "...                      ...                ...      ...              ...  \n",
       "120846                293.00              43.00     8.00           2016.0  \n",
       "125235                277.00              69.80     5.50           2017.0  \n",
       "134454                298.00              46.72     7.00           2017.0  \n",
       "66821                 296.00              55.44     8.50           2009.0  \n",
       "13538                 297.00              48.63     7.50           2002.0  \n",
       "\n",
       "[28281 rows x 7 columns]"
      ]
     },
     "execution_count": 41,
     "metadata": {},
     "output_type": "execute_result"
    }
   ],
   "source": [
    "# Test kismindaki degsikenler icinde TRAIN de gecerli olan ALT ve UST sinir degerlerini kullanarak 3 adet degiskenin OUTLIER degerlerini dolduralim\n",
    "\n",
    "X_test"
   ]
  },
  {
   "cell_type": "code",
   "execution_count": 42,
   "metadata": {},
   "outputs": [
    {
     "data": {
      "text/plain": [
       "<matplotlib.axes._subplots.AxesSubplot at 0x1ded7434448>"
      ]
     },
     "execution_count": 42,
     "metadata": {},
     "output_type": "execute_result"
    },
    {
     "data": {
      "image/png": "[encoded data removed]",
      "text/plain": [
       "<Figure size 432x288 with 1 Axes>"
      ]
     },
     "metadata": {
      "needs_background": "light"
     },
     "output_type": "display_data"
    }
   ],
   "source": [
    "sns.boxplot(x = \"crystallizationTempK\",data = X_test)"
   ]
  },
  {
   "cell_type": "code",
   "execution_count": 43,
   "metadata": {},
   "outputs": [
    {
     "data": {
      "text/plain": [
       "<matplotlib.axes._subplots.AxesSubplot at 0x1ded748e548>"
      ]
     },
     "execution_count": 43,
     "metadata": {},
     "output_type": "execute_result"
    },
    {
     "data": {
      "image/png": "[encoded data removed]",
      "text/plain": [
       "<Figure size 432x288 with 1 Axes>"
      ]
     },
     "metadata": {
      "needs_background": "light"
     },
     "output_type": "display_data"
    }
   ],
   "source": [
    "sns.boxplot(x = \"structureMolecularWeight\",data = X_test)"
   ]
  },
  {
   "cell_type": "code",
   "execution_count": 44,
   "metadata": {},
   "outputs": [
    {
     "data": {
      "text/plain": [
       "<matplotlib.axes._subplots.AxesSubplot at 0x1ded7506e48>"
      ]
     },
     "execution_count": 44,
     "metadata": {},
     "output_type": "execute_result"
    },
    {
     "data": {
      "image/png": "[encoded data removed]",
      "text/plain": [
       "<Figure size 432x288 with 1 Axes>"
      ]
     },
     "metadata": {
      "needs_background": "light"
     },
     "output_type": "display_data"
    }
   ],
   "source": [
    "sns.boxplot(x = \"residueCount\",data = X_test)"
   ]
  },
  {
   "cell_type": "code",
   "execution_count": 45,
   "metadata": {},
   "outputs": [],
   "source": [
    "crystallizationKelvin = X_test[\"crystallizationTempK\"]"
   ]
  },
  {
   "cell_type": "code",
   "execution_count": 46,
   "metadata": {},
   "outputs": [
    {
     "data": {
      "text/plain": [
       "45146     False\n",
       "73091     False\n",
       "112116    False\n",
       "130290    False\n",
       "125403    False\n",
       "          ...  \n",
       "120846    False\n",
       "125235     True\n",
       "134454    False\n",
       "66821     False\n",
       "13538     False\n",
       "Name: crystallizationTempK, Length: 28281, dtype: bool"
      ]
     },
     "execution_count": 46,
     "metadata": {},
     "output_type": "execute_result"
    }
   ],
   "source": [
    "(crystallizationKelvin < alt_sinir.crystallizationTempK) | (crystallizationKelvin > ust_sinir.crystallizationTempK)"
   ]
  },
  {
   "cell_type": "code",
   "execution_count": 47,
   "metadata": {},
   "outputs": [],
   "source": [
    "upper = (crystallizationKelvin > ust_sinir.crystallizationTempK)\n",
    "lower = (crystallizationKelvin < alt_sinir.crystallizationTempK)"
   ]
  },
  {
   "cell_type": "code",
   "execution_count": 48,
   "metadata": {},
   "outputs": [
    {
     "data": {
      "text/plain": [
       "95019     302.5\n",
       "21473     302.5\n",
       "126680    302.5\n",
       "98022     302.5\n",
       "61907     302.5\n",
       "          ...  \n",
       "126265    302.5\n",
       "19806     302.5\n",
       "67821     302.5\n",
       "37444     302.5\n",
       "28577     302.5\n",
       "Name: crystallizationTempK, Length: 106, dtype: float64"
      ]
     },
     "execution_count": 48,
     "metadata": {},
     "output_type": "execute_result"
    }
   ],
   "source": [
    "X_test[\"crystallizationTempK\"][upper] = ust_sinir.crystallizationTempK\n",
    "X_test[\"crystallizationTempK\"][upper]"
   ]
  },
  {
   "cell_type": "code",
   "execution_count": 49,
   "metadata": {},
   "outputs": [
    {
     "data": {
      "text/plain": [
       "70139     282.5\n",
       "72259     282.5\n",
       "138280    282.5\n",
       "39214     282.5\n",
       "66377     282.5\n",
       "          ...  \n",
       "39975     282.5\n",
       "77475     282.5\n",
       "75355     282.5\n",
       "134813    282.5\n",
       "125235    282.5\n",
       "Name: crystallizationTempK, Length: 3178, dtype: float64"
      ]
     },
     "execution_count": 49,
     "metadata": {},
     "output_type": "execute_result"
    }
   ],
   "source": [
    "X_test[\"crystallizationTempK\"][lower] = alt_sinir.crystallizationTempK\n",
    "X_test[\"crystallizationTempK\"][lower]"
   ]
  },
  {
   "cell_type": "code",
   "execution_count": 50,
   "metadata": {},
   "outputs": [
    {
     "data": {
      "text/plain": [
       "<matplotlib.axes._subplots.AxesSubplot at 0x1ded7563888>"
      ]
     },
     "execution_count": 50,
     "metadata": {},
     "output_type": "execute_result"
    },
    {
     "data": {
      "image/png": "[encoded data removed]",
      "text/plain": [
       "<Figure size 432x288 with 1 Axes>"
      ]
     },
     "metadata": {
      "needs_background": "light"
     },
     "output_type": "display_data"
    }
   ],
   "source": [
    "sns.boxplot(x = \"crystallizationTempK\",data = X_test)\n"
   ]
  },
  {
   "cell_type": "markdown",
   "metadata": {},
   "source": [
    "* **Ilk degisken bitti simdi sirayla diger Test setindeki 2 degiskene de Traindaki alt ve ust sinirlari uygulayarak devam ediyoruz.**"
   ]
  },
  {
   "cell_type": "code",
   "execution_count": 51,
   "metadata": {},
   "outputs": [],
   "source": [
    "MolekulAgirligi = X_test[\"structureMolecularWeight\"]"
   ]
  },
  {
   "cell_type": "code",
   "execution_count": 52,
   "metadata": {},
   "outputs": [
    {
     "data": {
      "text/plain": [
       "45146     False\n",
       "73091     False\n",
       "112116    False\n",
       "130290    False\n",
       "125403    False\n",
       "          ...  \n",
       "120846    False\n",
       "125235    False\n",
       "134454    False\n",
       "66821     False\n",
       "13538     False\n",
       "Name: structureMolecularWeight, Length: 28281, dtype: bool"
      ]
     },
     "execution_count": 52,
     "metadata": {},
     "output_type": "execute_result"
    }
   ],
   "source": [
    "(MolekulAgirligi < alt_sinir.structureMolecularWeight) | (MolekulAgirligi > ust_sinir.structureMolecularWeight)"
   ]
  },
  {
   "cell_type": "code",
   "execution_count": 53,
   "metadata": {},
   "outputs": [],
   "source": [
    "upper = (MolekulAgirligi > ust_sinir.structureMolecularWeight)\n",
    "lower = (MolekulAgirligi < alt_sinir.structureMolecularWeight)"
   ]
  },
  {
   "cell_type": "code",
   "execution_count": 54,
   "metadata": {},
   "outputs": [
    {
     "data": {
      "text/plain": [
       "112609    196080.835\n",
       "101207    196080.835\n",
       "25328     196080.835\n",
       "121957    196080.835\n",
       "39214     196080.835\n",
       "             ...    \n",
       "125322    196080.835\n",
       "62456     196080.835\n",
       "112201    196080.835\n",
       "75243     196080.835\n",
       "103681    196080.835\n",
       "Name: structureMolecularWeight, Length: 2428, dtype: float64"
      ]
     },
     "execution_count": 54,
     "metadata": {},
     "output_type": "execute_result"
    }
   ],
   "source": [
    "X_test[\"structureMolecularWeight\"][upper] = ust_sinir.structureMolecularWeight\n",
    "X_test[\"structureMolecularWeight\"][upper]"
   ]
  },
  {
   "cell_type": "code",
   "execution_count": 55,
   "metadata": {},
   "outputs": [
    {
     "data": {
      "text/plain": [
       "112609   -75875.645\n",
       "101207   -75875.645\n",
       "25328    -75875.645\n",
       "121957   -75875.645\n",
       "39214    -75875.645\n",
       "            ...    \n",
       "125322   -75875.645\n",
       "62456    -75875.645\n",
       "112201   -75875.645\n",
       "75243    -75875.645\n",
       "103681   -75875.645\n",
       "Name: structureMolecularWeight, Length: 2428, dtype: float64"
      ]
     },
     "execution_count": 55,
     "metadata": {},
     "output_type": "execute_result"
    }
   ],
   "source": [
    "X_test[\"structureMolecularWeight\"][upper] = alt_sinir.structureMolecularWeight\n",
    "X_test[\"structureMolecularWeight\"][upper]"
   ]
  },
  {
   "cell_type": "code",
   "execution_count": 56,
   "metadata": {},
   "outputs": [
    {
     "data": {
      "text/plain": [
       "<matplotlib.axes._subplots.AxesSubplot at 0x1ded6ae2dc8>"
      ]
     },
     "execution_count": 56,
     "metadata": {},
     "output_type": "execute_result"
    },
    {
     "data": {
      "image/png": "[encoded data removed]",
      "text/plain": [
       "<Figure size 432x288 with 1 Axes>"
      ]
     },
     "metadata": {
      "needs_background": "light"
     },
     "output_type": "display_data"
    }
   ],
   "source": [
    "sns.boxplot(x = \"structureMolecularWeight\",data = X_test)"
   ]
  },
  {
   "cell_type": "code",
   "execution_count": 57,
   "metadata": {},
   "outputs": [],
   "source": [
    "residueCount = X_test[\"residueCount\"]"
   ]
  },
  {
   "cell_type": "code",
   "execution_count": 58,
   "metadata": {},
   "outputs": [
    {
     "data": {
      "text/plain": [
       "45146     False\n",
       "73091     False\n",
       "112116    False\n",
       "130290    False\n",
       "125403    False\n",
       "          ...  \n",
       "120846    False\n",
       "125235    False\n",
       "134454    False\n",
       "66821     False\n",
       "13538     False\n",
       "Name: residueCount, Length: 28281, dtype: bool"
      ]
     },
     "execution_count": 58,
     "metadata": {},
     "output_type": "execute_result"
    }
   ],
   "source": [
    "(residueCount < alt_sinir.residueCount) | (residueCount > ust_sinir.residueCount)"
   ]
  },
  {
   "cell_type": "code",
   "execution_count": 59,
   "metadata": {},
   "outputs": [],
   "source": [
    "upper = (residueCount > ust_sinir.residueCount)\n",
    "lower = (residueCount < alt_sinir.residueCount)"
   ]
  },
  {
   "cell_type": "code",
   "execution_count": 60,
   "metadata": {},
   "outputs": [
    {
     "data": {
      "text/plain": [
       "112609    1713.5\n",
       "101207    1713.5\n",
       "25328     1713.5\n",
       "121957    1713.5\n",
       "39214     1713.5\n",
       "           ...  \n",
       "19656     1713.5\n",
       "62456     1713.5\n",
       "112201    1713.5\n",
       "75243     1713.5\n",
       "103681    1713.5\n",
       "Name: residueCount, Length: 2377, dtype: float64"
      ]
     },
     "execution_count": 60,
     "metadata": {},
     "output_type": "execute_result"
    }
   ],
   "source": [
    "X_test[\"residueCount\"][upper] = ust_sinir.residueCount\n",
    "X_test[\"residueCount\"][upper]"
   ]
  },
  {
   "cell_type": "code",
   "execution_count": 61,
   "metadata": {},
   "outputs": [
    {
     "data": {
      "text/plain": [
       "Series([], Name: residueCount, dtype: float64)"
      ]
     },
     "execution_count": 61,
     "metadata": {},
     "output_type": "execute_result"
    }
   ],
   "source": [
    "X_test[\"residueCount\"][lower] = alt_sinir.residueCount\n",
    "X_test[\"residueCount\"][lower]"
   ]
  },
  {
   "cell_type": "code",
   "execution_count": 62,
   "metadata": {},
   "outputs": [
    {
     "data": {
      "text/plain": [
       "<matplotlib.axes._subplots.AxesSubplot at 0x1ded6b3ea88>"
      ]
     },
     "execution_count": 62,
     "metadata": {},
     "output_type": "execute_result"
    },
    {
     "data": {
      "image/png": "[encoded data removed]",
      "text/plain": [
       "<Figure size 432x288 with 1 Axes>"
      ]
     },
     "metadata": {
      "needs_background": "light"
     },
     "output_type": "display_data"
    }
   ],
   "source": [
    "sns.boxplot(x = \"residueCount\",data = X_test)"
   ]
  },
  {
   "cell_type": "markdown",
   "metadata": {},
   "source": [
    "## 4) Eksik Veri Doldurma"
   ]
  },
  {
   "cell_type": "code",
   "execution_count": 1,
   "metadata": {},
   "outputs": [],
   "source": [
    "import pandas as pd\n",
    "import numpy as np\n",
    "from sklearn.model_selection import train_test_split\n",
    "import seaborn as sns\n",
    "pd.options.mode.chained_assignment = None"
   ]
  },
  {
   "cell_type": "code",
   "execution_count": 2,
   "metadata": {},
   "outputs": [
    {
     "data": {
      "text/html": [
       "<div>\n",
       "<style scoped>\n",
       "    .dataframe tbody tr th:only-of-type {\n",
       "        vertical-align: middle;\n",
       "    }\n",
       "\n",
       "    .dataframe tbody tr th {\n",
       "        vertical-align: top;\n",
       "    }\n",
       "\n",
       "    .dataframe thead th {\n",
       "        text-align: right;\n",
       "    }\n",
       "</style>\n",
       "<table border=\"1\" class=\"dataframe\">\n",
       "  <thead>\n",
       "    <tr style=\"text-align: right;\">\n",
       "      <th></th>\n",
       "      <th>structureId</th>\n",
       "      <th>classification</th>\n",
       "      <th>experimentalTechnique</th>\n",
       "      <th>macromoleculeType</th>\n",
       "      <th>residueCount</th>\n",
       "      <th>resolution</th>\n",
       "      <th>structureMolecularWeight</th>\n",
       "      <th>crystallizationMethod</th>\n",
       "      <th>crystallizationTempK</th>\n",
       "      <th>densityMatthews</th>\n",
       "      <th>densityPercentSol</th>\n",
       "      <th>pdbxDetails</th>\n",
       "      <th>phValue</th>\n",
       "      <th>publicationYear</th>\n",
       "    </tr>\n",
       "  </thead>\n",
       "  <tbody>\n",
       "    <tr>\n",
       "      <td>0</td>\n",
       "      <td>100D</td>\n",
       "      <td>DNA-RNA HYBRID</td>\n",
       "      <td>X-RAY DIFFRACTION</td>\n",
       "      <td>DNA/RNA Hybrid</td>\n",
       "      <td>20</td>\n",
       "      <td>1.90</td>\n",
       "      <td>6360.30</td>\n",
       "      <td>VAPOR DIFFUSION, HANGING DROP</td>\n",
       "      <td>NaN</td>\n",
       "      <td>1.78</td>\n",
       "      <td>30.89</td>\n",
       "      <td>pH 7.00, VAPOR DIFFUSION, HANGING DROP</td>\n",
       "      <td>7.0</td>\n",
       "      <td>1994.0</td>\n",
       "    </tr>\n",
       "    <tr>\n",
       "      <td>1</td>\n",
       "      <td>101D</td>\n",
       "      <td>DNA</td>\n",
       "      <td>X-RAY DIFFRACTION</td>\n",
       "      <td>DNA</td>\n",
       "      <td>24</td>\n",
       "      <td>2.25</td>\n",
       "      <td>7939.35</td>\n",
       "      <td>NaN</td>\n",
       "      <td>NaN</td>\n",
       "      <td>2.00</td>\n",
       "      <td>38.45</td>\n",
       "      <td>NaN</td>\n",
       "      <td>NaN</td>\n",
       "      <td>1995.0</td>\n",
       "    </tr>\n",
       "  </tbody>\n",
       "</table>\n",
       "</div>"
      ],
      "text/plain": [
       "  structureId  classification experimentalTechnique macromoleculeType  \\\n",
       "0        100D  DNA-RNA HYBRID     X-RAY DIFFRACTION    DNA/RNA Hybrid   \n",
       "1        101D             DNA     X-RAY DIFFRACTION               DNA   \n",
       "\n",
       "   residueCount  resolution  structureMolecularWeight  \\\n",
       "0            20        1.90                   6360.30   \n",
       "1            24        2.25                   7939.35   \n",
       "\n",
       "           crystallizationMethod  crystallizationTempK  densityMatthews  \\\n",
       "0  VAPOR DIFFUSION, HANGING DROP                   NaN             1.78   \n",
       "1                            NaN                   NaN             2.00   \n",
       "\n",
       "   densityPercentSol                             pdbxDetails  phValue  \\\n",
       "0              30.89  pH 7.00, VAPOR DIFFUSION, HANGING DROP      7.0   \n",
       "1              38.45                                     NaN      NaN   \n",
       "\n",
       "   publicationYear  \n",
       "0           1994.0  \n",
       "1           1995.0  "
      ]
     },
     "execution_count": 2,
     "metadata": {},
     "output_type": "execute_result"
    }
   ],
   "source": [
    "data = pd.read_csv(\"pdb_data_no_dups.csv\")\n",
    "data.head(2)"
   ]
  },
  {
   "cell_type": "markdown",
   "metadata": {},
   "source": [
    "* Sayısal değişkenleri seçtik. phValue ve publicationYear kolonlarını kaldırdık."
   ]
  },
  {
   "cell_type": "code",
   "execution_count": 3,
   "metadata": {},
   "outputs": [],
   "source": [
    "df = data.select_dtypes([\"int64\", \"float64\"])"
   ]
  },
  {
   "cell_type": "code",
   "execution_count": 4,
   "metadata": {},
   "outputs": [],
   "source": [
    "df.drop(columns=['publicationYear', 'phValue'], inplace = True)"
   ]
  },
  {
   "cell_type": "markdown",
   "metadata": {},
   "source": [
    "* Bir satırda, 6 kolonda 3ten fazla bos deger var ise o satırı sildik. O verileri doldursakda bizim veri setimize uygun şekilde dolduramayız diye düşündüm"
   ]
  },
  {
   "cell_type": "code",
   "execution_count": 5,
   "metadata": {},
   "outputs": [
    {
     "data": {
      "text/plain": [
       "residueCount                    0\n",
       "resolution                  12812\n",
       "structureMolecularWeight        0\n",
       "crystallizationTempK        44362\n",
       "densityMatthews             16677\n",
       "densityPercentSol           16652\n",
       "dtype: int64"
      ]
     },
     "execution_count": 5,
     "metadata": {},
     "output_type": "execute_result"
    }
   ],
   "source": [
    "df.isnull().sum()"
   ]
  },
  {
   "cell_type": "code",
   "execution_count": 6,
   "metadata": {},
   "outputs": [
    {
     "data": {
      "text/plain": [
       "12558"
      ]
     },
     "execution_count": 6,
     "metadata": {},
     "output_type": "execute_result"
    }
   ],
   "source": [
    "(df.isnull().sum(axis = 1) > 3).sum()"
   ]
  },
  {
   "cell_type": "code",
   "execution_count": 7,
   "metadata": {},
   "outputs": [
    {
     "data": {
      "text/html": [
       "<div>\n",
       "<style scoped>\n",
       "    .dataframe tbody tr th:only-of-type {\n",
       "        vertical-align: middle;\n",
       "    }\n",
       "\n",
       "    .dataframe tbody tr th {\n",
       "        vertical-align: top;\n",
       "    }\n",
       "\n",
       "    .dataframe thead th {\n",
       "        text-align: right;\n",
       "    }\n",
       "</style>\n",
       "<table border=\"1\" class=\"dataframe\">\n",
       "  <thead>\n",
       "    <tr style=\"text-align: right;\">\n",
       "      <th></th>\n",
       "      <th>residueCount</th>\n",
       "      <th>resolution</th>\n",
       "      <th>structureMolecularWeight</th>\n",
       "      <th>crystallizationTempK</th>\n",
       "      <th>densityMatthews</th>\n",
       "      <th>densityPercentSol</th>\n",
       "    </tr>\n",
       "  </thead>\n",
       "  <tbody>\n",
       "    <tr>\n",
       "      <td>6</td>\n",
       "      <td>24</td>\n",
       "      <td>NaN</td>\n",
       "      <td>7502.93</td>\n",
       "      <td>NaN</td>\n",
       "      <td>NaN</td>\n",
       "      <td>NaN</td>\n",
       "    </tr>\n",
       "    <tr>\n",
       "      <td>9</td>\n",
       "      <td>24</td>\n",
       "      <td>NaN</td>\n",
       "      <td>7454.78</td>\n",
       "      <td>NaN</td>\n",
       "      <td>NaN</td>\n",
       "      <td>NaN</td>\n",
       "    </tr>\n",
       "    <tr>\n",
       "      <td>12</td>\n",
       "      <td>12</td>\n",
       "      <td>NaN</td>\n",
       "      <td>3350.40</td>\n",
       "      <td>NaN</td>\n",
       "      <td>NaN</td>\n",
       "      <td>NaN</td>\n",
       "    </tr>\n",
       "    <tr>\n",
       "      <td>14</td>\n",
       "      <td>12</td>\n",
       "      <td>NaN</td>\n",
       "      <td>3086.58</td>\n",
       "      <td>NaN</td>\n",
       "      <td>NaN</td>\n",
       "      <td>NaN</td>\n",
       "    </tr>\n",
       "    <tr>\n",
       "      <td>16</td>\n",
       "      <td>14</td>\n",
       "      <td>NaN</td>\n",
       "      <td>4744.35</td>\n",
       "      <td>NaN</td>\n",
       "      <td>NaN</td>\n",
       "      <td>NaN</td>\n",
       "    </tr>\n",
       "    <tr>\n",
       "      <td>...</td>\n",
       "      <td>...</td>\n",
       "      <td>...</td>\n",
       "      <td>...</td>\n",
       "      <td>...</td>\n",
       "      <td>...</td>\n",
       "      <td>...</td>\n",
       "    </tr>\n",
       "    <tr>\n",
       "      <td>141273</td>\n",
       "      <td>16</td>\n",
       "      <td>NaN</td>\n",
       "      <td>4969.18</td>\n",
       "      <td>NaN</td>\n",
       "      <td>NaN</td>\n",
       "      <td>NaN</td>\n",
       "    </tr>\n",
       "    <tr>\n",
       "      <td>141322</td>\n",
       "      <td>16</td>\n",
       "      <td>NaN</td>\n",
       "      <td>5081.64</td>\n",
       "      <td>NaN</td>\n",
       "      <td>NaN</td>\n",
       "      <td>NaN</td>\n",
       "    </tr>\n",
       "    <tr>\n",
       "      <td>141327</td>\n",
       "      <td>0</td>\n",
       "      <td>NaN</td>\n",
       "      <td>266903.34</td>\n",
       "      <td>NaN</td>\n",
       "      <td>NaN</td>\n",
       "      <td>NaN</td>\n",
       "    </tr>\n",
       "    <tr>\n",
       "      <td>141330</td>\n",
       "      <td>21</td>\n",
       "      <td>NaN</td>\n",
       "      <td>2441.98</td>\n",
       "      <td>NaN</td>\n",
       "      <td>NaN</td>\n",
       "      <td>NaN</td>\n",
       "    </tr>\n",
       "    <tr>\n",
       "      <td>141392</td>\n",
       "      <td>99</td>\n",
       "      <td>NaN</td>\n",
       "      <td>10562.28</td>\n",
       "      <td>NaN</td>\n",
       "      <td>NaN</td>\n",
       "      <td>NaN</td>\n",
       "    </tr>\n",
       "  </tbody>\n",
       "</table>\n",
       "<p>12558 rows × 6 columns</p>\n",
       "</div>"
      ],
      "text/plain": [
       "        residueCount  resolution  structureMolecularWeight  \\\n",
       "6                 24         NaN                   7502.93   \n",
       "9                 24         NaN                   7454.78   \n",
       "12                12         NaN                   3350.40   \n",
       "14                12         NaN                   3086.58   \n",
       "16                14         NaN                   4744.35   \n",
       "...              ...         ...                       ...   \n",
       "141273            16         NaN                   4969.18   \n",
       "141322            16         NaN                   5081.64   \n",
       "141327             0         NaN                 266903.34   \n",
       "141330            21         NaN                   2441.98   \n",
       "141392            99         NaN                  10562.28   \n",
       "\n",
       "        crystallizationTempK  densityMatthews  densityPercentSol  \n",
       "6                        NaN              NaN                NaN  \n",
       "9                        NaN              NaN                NaN  \n",
       "12                       NaN              NaN                NaN  \n",
       "14                       NaN              NaN                NaN  \n",
       "16                       NaN              NaN                NaN  \n",
       "...                      ...              ...                ...  \n",
       "141273                   NaN              NaN                NaN  \n",
       "141322                   NaN              NaN                NaN  \n",
       "141327                   NaN              NaN                NaN  \n",
       "141330                   NaN              NaN                NaN  \n",
       "141392                   NaN              NaN                NaN  \n",
       "\n",
       "[12558 rows x 6 columns]"
      ]
     },
     "execution_count": 7,
     "metadata": {},
     "output_type": "execute_result"
    }
   ],
   "source": [
    "df.loc[df.isnull().sum(axis = 1) > 3]"
   ]
  },
  {
   "cell_type": "code",
   "execution_count": 8,
   "metadata": {},
   "outputs": [],
   "source": [
    "df = df.loc[df.isnull().sum(axis = 1) <= 3]"
   ]
  },
  {
   "cell_type": "code",
   "execution_count": 9,
   "metadata": {},
   "outputs": [
    {
     "data": {
      "text/html": [
       "<div>\n",
       "<style scoped>\n",
       "    .dataframe tbody tr th:only-of-type {\n",
       "        vertical-align: middle;\n",
       "    }\n",
       "\n",
       "    .dataframe tbody tr th {\n",
       "        vertical-align: top;\n",
       "    }\n",
       "\n",
       "    .dataframe thead th {\n",
       "        text-align: right;\n",
       "    }\n",
       "</style>\n",
       "<table border=\"1\" class=\"dataframe\">\n",
       "  <thead>\n",
       "    <tr style=\"text-align: right;\">\n",
       "      <th></th>\n",
       "      <th>residueCount</th>\n",
       "      <th>resolution</th>\n",
       "      <th>structureMolecularWeight</th>\n",
       "      <th>crystallizationTempK</th>\n",
       "      <th>densityMatthews</th>\n",
       "      <th>densityPercentSol</th>\n",
       "    </tr>\n",
       "  </thead>\n",
       "  <tbody>\n",
       "    <tr>\n",
       "      <td>0</td>\n",
       "      <td>20</td>\n",
       "      <td>1.90</td>\n",
       "      <td>6360.30</td>\n",
       "      <td>NaN</td>\n",
       "      <td>1.78</td>\n",
       "      <td>30.89</td>\n",
       "    </tr>\n",
       "    <tr>\n",
       "      <td>1</td>\n",
       "      <td>24</td>\n",
       "      <td>2.25</td>\n",
       "      <td>7939.35</td>\n",
       "      <td>NaN</td>\n",
       "      <td>2.00</td>\n",
       "      <td>38.45</td>\n",
       "    </tr>\n",
       "    <tr>\n",
       "      <td>2</td>\n",
       "      <td>154</td>\n",
       "      <td>2.07</td>\n",
       "      <td>18112.80</td>\n",
       "      <td>NaN</td>\n",
       "      <td>3.09</td>\n",
       "      <td>60.20</td>\n",
       "    </tr>\n",
       "    <tr>\n",
       "      <td>3</td>\n",
       "      <td>24</td>\n",
       "      <td>2.20</td>\n",
       "      <td>7637.17</td>\n",
       "      <td>277.0</td>\n",
       "      <td>2.28</td>\n",
       "      <td>46.06</td>\n",
       "    </tr>\n",
       "    <tr>\n",
       "      <td>4</td>\n",
       "      <td>165</td>\n",
       "      <td>1.74</td>\n",
       "      <td>18926.61</td>\n",
       "      <td>NaN</td>\n",
       "      <td>2.75</td>\n",
       "      <td>55.28</td>\n",
       "    </tr>\n",
       "    <tr>\n",
       "      <td>...</td>\n",
       "      <td>...</td>\n",
       "      <td>...</td>\n",
       "      <td>...</td>\n",
       "      <td>...</td>\n",
       "      <td>...</td>\n",
       "      <td>...</td>\n",
       "    </tr>\n",
       "    <tr>\n",
       "      <td>141396</td>\n",
       "      <td>932</td>\n",
       "      <td>2.60</td>\n",
       "      <td>101838.68</td>\n",
       "      <td>NaN</td>\n",
       "      <td>2.38</td>\n",
       "      <td>48.29</td>\n",
       "    </tr>\n",
       "    <tr>\n",
       "      <td>141397</td>\n",
       "      <td>0</td>\n",
       "      <td>NaN</td>\n",
       "      <td>24244.34</td>\n",
       "      <td>NaN</td>\n",
       "      <td>3.17</td>\n",
       "      <td>61.18</td>\n",
       "    </tr>\n",
       "    <tr>\n",
       "      <td>141398</td>\n",
       "      <td>342</td>\n",
       "      <td>1.80</td>\n",
       "      <td>34270.22</td>\n",
       "      <td>NaN</td>\n",
       "      <td>2.50</td>\n",
       "      <td>50.76</td>\n",
       "    </tr>\n",
       "    <tr>\n",
       "      <td>141399</td>\n",
       "      <td>388</td>\n",
       "      <td>1.90</td>\n",
       "      <td>43542.29</td>\n",
       "      <td>NaN</td>\n",
       "      <td>2.79</td>\n",
       "      <td>55.93</td>\n",
       "    </tr>\n",
       "    <tr>\n",
       "      <td>141400</td>\n",
       "      <td>1572</td>\n",
       "      <td>2.40</td>\n",
       "      <td>174722.12</td>\n",
       "      <td>NaN</td>\n",
       "      <td>3.96</td>\n",
       "      <td>68.92</td>\n",
       "    </tr>\n",
       "  </tbody>\n",
       "</table>\n",
       "<p>128843 rows × 6 columns</p>\n",
       "</div>"
      ],
      "text/plain": [
       "        residueCount  resolution  structureMolecularWeight  \\\n",
       "0                 20        1.90                   6360.30   \n",
       "1                 24        2.25                   7939.35   \n",
       "2                154        2.07                  18112.80   \n",
       "3                 24        2.20                   7637.17   \n",
       "4                165        1.74                  18926.61   \n",
       "...              ...         ...                       ...   \n",
       "141396           932        2.60                 101838.68   \n",
       "141397             0         NaN                  24244.34   \n",
       "141398           342        1.80                  34270.22   \n",
       "141399           388        1.90                  43542.29   \n",
       "141400          1572        2.40                 174722.12   \n",
       "\n",
       "        crystallizationTempK  densityMatthews  densityPercentSol  \n",
       "0                        NaN             1.78              30.89  \n",
       "1                        NaN             2.00              38.45  \n",
       "2                        NaN             3.09              60.20  \n",
       "3                      277.0             2.28              46.06  \n",
       "4                        NaN             2.75              55.28  \n",
       "...                      ...              ...                ...  \n",
       "141396                   NaN             2.38              48.29  \n",
       "141397                   NaN             3.17              61.18  \n",
       "141398                   NaN             2.50              50.76  \n",
       "141399                   NaN             2.79              55.93  \n",
       "141400                   NaN             3.96              68.92  \n",
       "\n",
       "[128843 rows x 6 columns]"
      ]
     },
     "execution_count": 9,
     "metadata": {},
     "output_type": "execute_result"
    }
   ],
   "source": [
    "df"
   ]
  },
  {
   "cell_type": "code",
   "execution_count": 10,
   "metadata": {},
   "outputs": [
    {
     "data": {
      "text/plain": [
       "residueCount                    0\n",
       "resolution                    254\n",
       "structureMolecularWeight        0\n",
       "crystallizationTempK        31804\n",
       "densityMatthews              4119\n",
       "densityPercentSol            4094\n",
       "dtype: int64"
      ]
     },
     "execution_count": 10,
     "metadata": {},
     "output_type": "execute_result"
    }
   ],
   "source": [
    "df.isnull().sum()"
   ]
  },
  {
   "cell_type": "markdown",
   "metadata": {},
   "source": [
    "### resolution"
   ]
  },
  {
   "cell_type": "code",
   "execution_count": 11,
   "metadata": {},
   "outputs": [
    {
     "data": {
      "text/plain": [
       "254"
      ]
     },
     "execution_count": 11,
     "metadata": {},
     "output_type": "execute_result"
    }
   ],
   "source": [
    "df[\"resolution\"].isnull().sum()"
   ]
  },
  {
   "cell_type": "code",
   "execution_count": 12,
   "metadata": {},
   "outputs": [
    {
     "data": {
      "text/plain": [
       "count    128589.000000\n",
       "mean          2.263807\n",
       "std           1.410878\n",
       "min           0.480000\n",
       "25%           1.800000\n",
       "50%           2.100000\n",
       "75%           2.500000\n",
       "max          70.000000\n",
       "Name: resolution, dtype: float64"
      ]
     },
     "execution_count": 12,
     "metadata": {},
     "output_type": "execute_result"
    }
   ],
   "source": [
    "df[\"resolution\"].describe()"
   ]
  },
  {
   "cell_type": "code",
   "execution_count": 13,
   "metadata": {},
   "outputs": [],
   "source": [
    "df['resolution'].fillna(df.resolution.mean(), inplace = True)"
   ]
  },
  {
   "cell_type": "code",
   "execution_count": 14,
   "metadata": {},
   "outputs": [
    {
     "data": {
      "text/plain": [
       "0"
      ]
     },
     "execution_count": 14,
     "metadata": {},
     "output_type": "execute_result"
    }
   ],
   "source": [
    "df[\"resolution\"].isnull().sum()"
   ]
  },
  {
   "cell_type": "code",
   "execution_count": 15,
   "metadata": {},
   "outputs": [
    {
     "data": {
      "text/plain": [
       "count    128843.000000\n",
       "mean          2.263807\n",
       "std           1.409487\n",
       "min           0.480000\n",
       "25%           1.800000\n",
       "50%           2.100000\n",
       "75%           2.500000\n",
       "max          70.000000\n",
       "Name: resolution, dtype: float64"
      ]
     },
     "execution_count": 15,
     "metadata": {},
     "output_type": "execute_result"
    }
   ],
   "source": [
    "df[\"resolution\"].describe()"
   ]
  },
  {
   "cell_type": "markdown",
   "metadata": {},
   "source": [
    "### crystallizationTempK"
   ]
  },
  {
   "cell_type": "code",
   "execution_count": 16,
   "metadata": {},
   "outputs": [
    {
     "data": {
      "text/plain": [
       "31804"
      ]
     },
     "execution_count": 16,
     "metadata": {},
     "output_type": "execute_result"
    }
   ],
   "source": [
    "df[\"crystallizationTempK\"].isnull().sum()"
   ]
  },
  {
   "cell_type": "code",
   "execution_count": 17,
   "metadata": {},
   "outputs": [
    {
     "data": {
      "text/plain": [
       "count    97039.000000\n",
       "mean       290.967713\n",
       "std          9.541080\n",
       "min          4.000000\n",
       "25%        290.000000\n",
       "50%        293.000000\n",
       "75%        295.000000\n",
       "max        398.000000\n",
       "Name: crystallizationTempK, dtype: float64"
      ]
     },
     "execution_count": 17,
     "metadata": {},
     "output_type": "execute_result"
    }
   ],
   "source": [
    "df[\"crystallizationTempK\"].describe()"
   ]
  },
  {
   "cell_type": "code",
   "execution_count": 18,
   "metadata": {},
   "outputs": [],
   "source": [
    "df['crystallizationTempK'].fillna(df.crystallizationTempK.mean(), inplace = True)"
   ]
  },
  {
   "cell_type": "code",
   "execution_count": 19,
   "metadata": {},
   "outputs": [
    {
     "data": {
      "text/plain": [
       "0"
      ]
     },
     "execution_count": 19,
     "metadata": {},
     "output_type": "execute_result"
    }
   ],
   "source": [
    "df[\"crystallizationTempK\"].isnull().sum()"
   ]
  },
  {
   "cell_type": "code",
   "execution_count": 20,
   "metadata": {},
   "outputs": [
    {
     "data": {
      "text/plain": [
       "count    128843.000000\n",
       "mean        290.967713\n",
       "std           8.280179\n",
       "min           4.000000\n",
       "25%         290.967713\n",
       "50%         291.000000\n",
       "75%         293.150000\n",
       "max         398.000000\n",
       "Name: crystallizationTempK, dtype: float64"
      ]
     },
     "execution_count": 20,
     "metadata": {},
     "output_type": "execute_result"
    }
   ],
   "source": [
    "df[\"crystallizationTempK\"].describe()"
   ]
  },
  {
   "cell_type": "markdown",
   "metadata": {},
   "source": [
    "### densityMatthews"
   ]
  },
  {
   "cell_type": "code",
   "execution_count": 21,
   "metadata": {},
   "outputs": [
    {
     "data": {
      "text/plain": [
       "4119"
      ]
     },
     "execution_count": 21,
     "metadata": {},
     "output_type": "execute_result"
    }
   ],
   "source": [
    "df[\"densityMatthews\"].isnull().sum()"
   ]
  },
  {
   "cell_type": "code",
   "execution_count": 22,
   "metadata": {},
   "outputs": [
    {
     "data": {
      "text/plain": [
       "count    124724.000000\n",
       "mean          2.670267\n",
       "std           0.783740\n",
       "min           0.000000\n",
       "25%           2.210000\n",
       "50%           2.490000\n",
       "75%           2.910000\n",
       "max          99.000000\n",
       "Name: densityMatthews, dtype: float64"
      ]
     },
     "execution_count": 22,
     "metadata": {},
     "output_type": "execute_result"
    }
   ],
   "source": [
    "df[\"densityMatthews\"].describe()"
   ]
  },
  {
   "cell_type": "code",
   "execution_count": 23,
   "metadata": {},
   "outputs": [],
   "source": [
    "df['densityMatthews'].fillna(df.densityMatthews.mean(), inplace = True)"
   ]
  },
  {
   "cell_type": "code",
   "execution_count": 24,
   "metadata": {},
   "outputs": [
    {
     "data": {
      "text/plain": [
       "0"
      ]
     },
     "execution_count": 24,
     "metadata": {},
     "output_type": "execute_result"
    }
   ],
   "source": [
    "df[\"densityMatthews\"].isnull().sum()"
   ]
  },
  {
   "cell_type": "code",
   "execution_count": 25,
   "metadata": {},
   "outputs": [
    {
     "data": {
      "text/plain": [
       "count    128843.000000\n",
       "mean          2.670267\n",
       "std           0.771110\n",
       "min           0.000000\n",
       "25%           2.220000\n",
       "50%           2.510000\n",
       "75%           2.890000\n",
       "max          99.000000\n",
       "Name: densityMatthews, dtype: float64"
      ]
     },
     "execution_count": 25,
     "metadata": {},
     "output_type": "execute_result"
    }
   ],
   "source": [
    "df[\"densityMatthews\"].describe()"
   ]
  },
  {
   "cell_type": "markdown",
   "metadata": {},
   "source": [
    "### densityPercentSol"
   ]
  },
  {
   "cell_type": "code",
   "execution_count": 26,
   "metadata": {},
   "outputs": [
    {
     "data": {
      "text/plain": [
       "4094"
      ]
     },
     "execution_count": 26,
     "metadata": {},
     "output_type": "execute_result"
    }
   ],
   "source": [
    "df[\"densityPercentSol\"].isnull().sum()"
   ]
  },
  {
   "cell_type": "code",
   "execution_count": 27,
   "metadata": {},
   "outputs": [
    {
     "data": {
      "text/plain": [
       "count    124749.000000\n",
       "mean         51.353163\n",
       "std          10.104561\n",
       "min           0.000000\n",
       "25%          44.370000\n",
       "50%          50.500000\n",
       "75%          57.710000\n",
       "max          92.000000\n",
       "Name: densityPercentSol, dtype: float64"
      ]
     },
     "execution_count": 27,
     "metadata": {},
     "output_type": "execute_result"
    }
   ],
   "source": [
    "df[\"densityPercentSol\"].describe()"
   ]
  },
  {
   "cell_type": "code",
   "execution_count": 28,
   "metadata": {},
   "outputs": [],
   "source": [
    "df['densityPercentSol'].fillna(df.densityPercentSol.mean(), inplace = True)"
   ]
  },
  {
   "cell_type": "code",
   "execution_count": 29,
   "metadata": {},
   "outputs": [
    {
     "data": {
      "text/plain": [
       "0"
      ]
     },
     "execution_count": 29,
     "metadata": {},
     "output_type": "execute_result"
    }
   ],
   "source": [
    "df[\"densityPercentSol\"].isnull().sum()"
   ]
  },
  {
   "cell_type": "code",
   "execution_count": 30,
   "metadata": {},
   "outputs": [
    {
     "data": {
      "text/plain": [
       "count    128843.000000\n",
       "mean         51.353163\n",
       "std           9.942727\n",
       "min           0.000000\n",
       "25%          44.610000\n",
       "50%          50.940000\n",
       "75%          57.390000\n",
       "max          92.000000\n",
       "Name: densityPercentSol, dtype: float64"
      ]
     },
     "execution_count": 30,
     "metadata": {},
     "output_type": "execute_result"
    }
   ],
   "source": [
    "df[\"densityPercentSol\"].describe()"
   ]
  },
  {
   "cell_type": "markdown",
   "metadata": {},
   "source": [
    "* **Tüm Eksikler giderilmiş oldu**"
   ]
  },
  {
   "cell_type": "code",
   "execution_count": 31,
   "metadata": {},
   "outputs": [
    {
     "data": {
      "text/plain": [
       "residueCount                0\n",
       "resolution                  0\n",
       "structureMolecularWeight    0\n",
       "crystallizationTempK        0\n",
       "densityMatthews             0\n",
       "densityPercentSol           0\n",
       "dtype: int64"
      ]
     },
     "execution_count": 31,
     "metadata": {},
     "output_type": "execute_result"
    }
   ],
   "source": [
    "df.isnull().sum()"
   ]
  },
  {
   "cell_type": "code",
   "execution_count": 32,
   "metadata": {},
   "outputs": [
    {
     "data": {
      "text/html": [
       "<div>\n",
       "<style scoped>\n",
       "    .dataframe tbody tr th:only-of-type {\n",
       "        vertical-align: middle;\n",
       "    }\n",
       "\n",
       "    .dataframe tbody tr th {\n",
       "        vertical-align: top;\n",
       "    }\n",
       "\n",
       "    .dataframe thead th {\n",
       "        text-align: right;\n",
       "    }\n",
       "</style>\n",
       "<table border=\"1\" class=\"dataframe\">\n",
       "  <thead>\n",
       "    <tr style=\"text-align: right;\">\n",
       "      <th></th>\n",
       "      <th>residueCount</th>\n",
       "      <th>resolution</th>\n",
       "      <th>structureMolecularWeight</th>\n",
       "      <th>crystallizationTempK</th>\n",
       "      <th>densityMatthews</th>\n",
       "      <th>densityPercentSol</th>\n",
       "    </tr>\n",
       "  </thead>\n",
       "  <tbody>\n",
       "    <tr>\n",
       "      <td>0</td>\n",
       "      <td>20</td>\n",
       "      <td>1.900000</td>\n",
       "      <td>6360.30</td>\n",
       "      <td>290.967713</td>\n",
       "      <td>1.78</td>\n",
       "      <td>30.89</td>\n",
       "    </tr>\n",
       "    <tr>\n",
       "      <td>1</td>\n",
       "      <td>24</td>\n",
       "      <td>2.250000</td>\n",
       "      <td>7939.35</td>\n",
       "      <td>290.967713</td>\n",
       "      <td>2.00</td>\n",
       "      <td>38.45</td>\n",
       "    </tr>\n",
       "    <tr>\n",
       "      <td>2</td>\n",
       "      <td>154</td>\n",
       "      <td>2.070000</td>\n",
       "      <td>18112.80</td>\n",
       "      <td>290.967713</td>\n",
       "      <td>3.09</td>\n",
       "      <td>60.20</td>\n",
       "    </tr>\n",
       "    <tr>\n",
       "      <td>3</td>\n",
       "      <td>24</td>\n",
       "      <td>2.200000</td>\n",
       "      <td>7637.17</td>\n",
       "      <td>277.000000</td>\n",
       "      <td>2.28</td>\n",
       "      <td>46.06</td>\n",
       "    </tr>\n",
       "    <tr>\n",
       "      <td>4</td>\n",
       "      <td>165</td>\n",
       "      <td>1.740000</td>\n",
       "      <td>18926.61</td>\n",
       "      <td>290.967713</td>\n",
       "      <td>2.75</td>\n",
       "      <td>55.28</td>\n",
       "    </tr>\n",
       "    <tr>\n",
       "      <td>...</td>\n",
       "      <td>...</td>\n",
       "      <td>...</td>\n",
       "      <td>...</td>\n",
       "      <td>...</td>\n",
       "      <td>...</td>\n",
       "      <td>...</td>\n",
       "    </tr>\n",
       "    <tr>\n",
       "      <td>141396</td>\n",
       "      <td>932</td>\n",
       "      <td>2.600000</td>\n",
       "      <td>101838.68</td>\n",
       "      <td>290.967713</td>\n",
       "      <td>2.38</td>\n",
       "      <td>48.29</td>\n",
       "    </tr>\n",
       "    <tr>\n",
       "      <td>141397</td>\n",
       "      <td>0</td>\n",
       "      <td>2.263807</td>\n",
       "      <td>24244.34</td>\n",
       "      <td>290.967713</td>\n",
       "      <td>3.17</td>\n",
       "      <td>61.18</td>\n",
       "    </tr>\n",
       "    <tr>\n",
       "      <td>141398</td>\n",
       "      <td>342</td>\n",
       "      <td>1.800000</td>\n",
       "      <td>34270.22</td>\n",
       "      <td>290.967713</td>\n",
       "      <td>2.50</td>\n",
       "      <td>50.76</td>\n",
       "    </tr>\n",
       "    <tr>\n",
       "      <td>141399</td>\n",
       "      <td>388</td>\n",
       "      <td>1.900000</td>\n",
       "      <td>43542.29</td>\n",
       "      <td>290.967713</td>\n",
       "      <td>2.79</td>\n",
       "      <td>55.93</td>\n",
       "    </tr>\n",
       "    <tr>\n",
       "      <td>141400</td>\n",
       "      <td>1572</td>\n",
       "      <td>2.400000</td>\n",
       "      <td>174722.12</td>\n",
       "      <td>290.967713</td>\n",
       "      <td>3.96</td>\n",
       "      <td>68.92</td>\n",
       "    </tr>\n",
       "  </tbody>\n",
       "</table>\n",
       "<p>128843 rows × 6 columns</p>\n",
       "</div>"
      ],
      "text/plain": [
       "        residueCount  resolution  structureMolecularWeight  \\\n",
       "0                 20    1.900000                   6360.30   \n",
       "1                 24    2.250000                   7939.35   \n",
       "2                154    2.070000                  18112.80   \n",
       "3                 24    2.200000                   7637.17   \n",
       "4                165    1.740000                  18926.61   \n",
       "...              ...         ...                       ...   \n",
       "141396           932    2.600000                 101838.68   \n",
       "141397             0    2.263807                  24244.34   \n",
       "141398           342    1.800000                  34270.22   \n",
       "141399           388    1.900000                  43542.29   \n",
       "141400          1572    2.400000                 174722.12   \n",
       "\n",
       "        crystallizationTempK  densityMatthews  densityPercentSol  \n",
       "0                 290.967713             1.78              30.89  \n",
       "1                 290.967713             2.00              38.45  \n",
       "2                 290.967713             3.09              60.20  \n",
       "3                 277.000000             2.28              46.06  \n",
       "4                 290.967713             2.75              55.28  \n",
       "...                      ...              ...                ...  \n",
       "141396            290.967713             2.38              48.29  \n",
       "141397            290.967713             3.17              61.18  \n",
       "141398            290.967713             2.50              50.76  \n",
       "141399            290.967713             2.79              55.93  \n",
       "141400            290.967713             3.96              68.92  \n",
       "\n",
       "[128843 rows x 6 columns]"
      ]
     },
     "execution_count": 32,
     "metadata": {},
     "output_type": "execute_result"
    }
   ],
   "source": [
    "df"
   ]
  }
 ],
 "metadata": {
  "kernelspec": {
   "display_name": "Python 3",
   "language": "python",
   "name": "python3"
  },
  "language_info": {
   "codemirror_mode": {
    "name": "ipython",
    "version": 3
   },
   "file_extension": ".py",
   "mimetype": "text/x-python",
   "name": "python",
   "nbconvert_exporter": "python",
   "pygments_lexer": "ipython3",
   "version": "3.7.4"
  }
 },
 "nbformat": 4,
 "nbformat_minor": 4
}
